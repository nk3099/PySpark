{
 "cells": [
  {
   "cell_type": "code",
   "execution_count": 0,
   "metadata": {
    "application/vnd.databricks.v1+cell": {
     "cellMetadata": {
      "byteLimit": 2048000,
      "rowLimit": 10000
     },
     "inputWidgets": {},
     "nuid": "62f11d5b-8c26-4313-9e49-30cc7f68a579",
     "showTitle": false,
     "title": ""
    }
   },
   "outputs": [],
   "source": [
    "#5.printSchema() to string or json in Pyspark"
   ]
  },
  {
   "cell_type": "code",
   "execution_count": 0,
   "metadata": {
    "application/vnd.databricks.v1+cell": {
     "cellMetadata": {
      "byteLimit": 2048000,
      "rowLimit": 10000
     },
     "inputWidgets": {},
     "nuid": "96f11900-099a-42d8-95ca-2ebf6058737e",
     "showTitle": false,
     "title": ""
    }
   },
   "outputs": [
    {
     "output_type": "stream",
     "name": "stdout",
     "output_type": "stream",
     "text": [
      "root\n |-- id: long (nullable = true)\n |-- name: string (nullable = true)\n |-- gender: string (nullable = true)\n |-- salary: long (nullable = true)\n\nroot\n |-- id: long (nullable = true)\n |-- name: string (nullable = true)\n |-- gender: string (nullable = true)\n |-- salary: long (nullable = true)\n\nNone\n"
     ]
    }
   ],
   "source": [
    "data = [(1,'neeraj kumar','male',2000),(2,'nitin kumar','male',3000)]\n",
    "schema = ['id','name','gender','salary']\n",
    "\n",
    "df = spark.createDataFrame(data,schema)\n",
    "df.printSchema() #prints output to console\n",
    "\n",
    "#therefore,\n",
    "x=df.printSchema()\n",
    "print(x) #would return 'None' -- as nothing gets stored to the variable x"
   ]
  },
  {
   "cell_type": "code",
   "execution_count": 0,
   "metadata": {
    "application/vnd.databricks.v1+cell": {
     "cellMetadata": {
      "byteLimit": 2048000,
      "rowLimit": 10000
     },
     "inputWidgets": {},
     "nuid": "284b2ff9-0576-4c08-8aaf-9eab94972ae8",
     "showTitle": false,
     "title": ""
    }
   },
   "outputs": [
    {
     "output_type": "stream",
     "name": "stdout",
     "output_type": "stream",
     "text": [
      "struct<id:bigint,name:string,gender:string,salary:bigint>\n"
     ]
    }
   ],
   "source": [
    "a = df.schema.simpleString()\n",
    "print(a)"
   ]
  },
  {
   "cell_type": "code",
   "execution_count": 0,
   "metadata": {
    "application/vnd.databricks.v1+cell": {
     "cellMetadata": {
      "byteLimit": 2048000,
      "rowLimit": 10000
     },
     "inputWidgets": {},
     "nuid": "e2c30148-29f8-41bc-ae55-8b0c928ce1d4",
     "showTitle": false,
     "title": ""
    }
   },
   "outputs": [
    {
     "output_type": "stream",
     "name": "stdout",
     "output_type": "stream",
     "text": [
      "{\"fields\":[{\"metadata\":{},\"name\":\"id\",\"nullable\":true,\"type\":\"long\"},{\"metadata\":{},\"name\":\"name\",\"nullable\":true,\"type\":\"string\"},{\"metadata\":{},\"name\":\"gender\",\"nullable\":true,\"type\":\"string\"},{\"metadata\":{},\"name\":\"salary\",\"nullable\":true,\"type\":\"long\"}],\"type\":\"struct\"}\n"
     ]
    }
   ],
   "source": [
    "b = df.schema.json()\n",
    "print(b )"
   ]
  },
  {
   "cell_type": "code",
   "execution_count": 0,
   "metadata": {
    "application/vnd.databricks.v1+cell": {
     "cellMetadata": {
      "byteLimit": 2048000,
      "rowLimit": 10000
     },
     "inputWidgets": {},
     "nuid": "83563d03-c998-42b6-ba2f-8c65f37a4f0e",
     "showTitle": false,
     "title": ""
    }
   },
   "outputs": [
    {
     "output_type": "stream",
     "name": "stdout",
     "output_type": "stream",
     "text": [
      "{'type': 'struct', 'fields': [{'name': 'id', 'type': 'long', 'nullable': True, 'metadata': {}}, {'name': 'name', 'type': 'string', 'nullable': True, 'metadata': {}}, {'name': 'gender', 'type': 'string', 'nullable': True, 'metadata': {}}, {'name': 'salary', 'type': 'long', 'nullable': True, 'metadata': {}}]}\n"
     ]
    }
   ],
   "source": [
    "c = df.schema.jsonValue()\n",
    "print(c)"
   ]
  }
 ],
 "metadata": {
  "application/vnd.databricks.v1+notebook": {
   "dashboards": [],
   "environmentMetadata": null,
   "language": "python",
   "notebookMetadata": {
    "pythonIndentUnit": 4
   },
   "notebookName": "5.printSchema()_to_string_or_json",
   "widgets": {}
  }
 },
 "nbformat": 4,
 "nbformat_minor": 0
}
