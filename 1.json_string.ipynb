{
 "cells": [
  {
   "cell_type": "code",
   "execution_count": null,
   "metadata": {},
   "outputs": [],
   "source": [
    "#1.remove_double_quotes_from_value_of_json_string.py\n",
    "\"\"\"\n",
    "example: {\"id\":\"1\",\"name\":\"neeraj\"kumar\",\"city\":\"del\"} \n",
    "i.e. to remove \" in \"neeraj kumar\"\n",
    "\n",
    "Split function in python:\n",
    "s1=\"a|b|c\"\n",
    "print(s1.split('|'))\n",
    "\"\"\""
   ]
  },
  {
   "cell_type": "code",
   "execution_count": null,
   "metadata": {
    "application/vnd.databricks.v1+cell": {
     "cellMetadata": {
      "byteLimit": 2048000,
      "rowLimit": 10000
     },
     "inputWidgets": {},
     "nuid": "d948db6d-5da9-47b9-af00-2f31901c6ceb",
     "showTitle": false,
     "title": ""
    }
   },
   "outputs": [],
   "source": [
    "from pyspark.sql import SparkSession\n",
    "from pyspark.sql.functions import split,col,lit,concat_ws,concat\n",
    "\n",
    "spark=SparkSession.builder.getOrCreate()"
   ]
  },
  {
   "cell_type": "code",
   "execution_count": null,
   "metadata": {
    "application/vnd.databricks.v1+cell": {
     "cellMetadata": {
      "byteLimit": 2048000,
      "rowLimit": 10000
     },
     "inputWidgets": {},
     "nuid": "bba502a9-db54-4325-8481-fa001568a778",
     "showTitle": false,
     "title": ""
    }
   },
   "outputs": [
    {
     "name": "stdout",
     "output_type": "stream",
     "text": [
      "{\"id\":\"1\",\"name\":\"neeraj\"kumar\",\"city\":\"del\"}\n"
     ]
    }
   ],
   "source": [
    "jsonString=\"\"\"{\"id\":\"1\",\"name\":\"neeraj\"kumar\",\"city\":\"del\"}\"\"\"\n",
    "print(jsonString)\n"
   ]
  },
  {
   "cell_type": "code",
   "execution_count": null,
   "metadata": {
    "application/vnd.databricks.v1+cell": {
     "cellMetadata": {
      "byteLimit": 2048000,
      "rowLimit": 10000
     },
     "inputWidgets": {},
     "nuid": "bd9467cc-7216-4480-ad08-020139b1904f",
     "showTitle": false,
     "title": ""
    }
   },
   "outputs": [
    {
     "data": {
      "text/html": [
       "<style scoped>\n",
       "  .table-result-container {\n",
       "    max-height: 300px;\n",
       "    overflow: auto;\n",
       "  }\n",
       "  table, th, td {\n",
       "    border: 1px solid black;\n",
       "    border-collapse: collapse;\n",
       "  }\n",
       "  th, td {\n",
       "    padding: 5px;\n",
       "  }\n",
       "  th {\n",
       "    text-align: left;\n",
       "  }\n",
       "</style><div class='table-result-container'><table class='table-result'><thead style='background-color: white'><tr><th>col1</th><th>col2</th></tr></thead><tbody><tr><td>1</td><td>{\"id\":\"1\",\"name\":\"nitin\",\"city\":\"blr\"}</td></tr><tr><td>2</td><td>{\"id\":\"1\",\"name\":\"neeraj\"kumar\",\"city\":\"del\"}</td></tr></tbody></table></div>"
      ]
     },
     "metadata": {
      "application/vnd.databricks.v1+output": {
       "addedWidgets": {},
       "aggData": [],
       "aggError": "",
       "aggOverflow": false,
       "aggSchema": [],
       "aggSeriesLimitReached": false,
       "aggType": "",
       "arguments": {},
       "columnCustomDisplayInfos": {},
       "data": [
        [
         1,
         "{\"id\":\"1\",\"name\":\"nitin\",\"city\":\"blr\"}"
        ],
        [
         2,
         "{\"id\":\"1\",\"name\":\"neeraj\"kumar\",\"city\":\"del\"}"
        ]
       ],
       "datasetInfos": [],
       "dbfsResultPath": null,
       "isJsonSchema": true,
       "metadata": {},
       "overflow": false,
       "plotOptions": {
        "customPlotOptions": {},
        "displayType": "table",
        "pivotAggregation": null,
        "pivotColumns": null,
        "xColumns": null,
        "yColumns": null
       },
       "removedWidgets": [],
       "schema": [
        {
         "metadata": "{}",
         "name": "col1",
         "type": "\"long\""
        },
        {
         "metadata": "{}",
         "name": "col2",
         "type": "\"string\""
        }
       ],
       "type": "table"
      }
     },
     "output_type": "display_data"
    }
   ],
   "source": [
    "\n",
    "data=[(1,'{\"id\":\"1\",\"name\":\"nitin\",\"city\":\"blr\"}'),(2,jsonString)]\n",
    "cols=[\"col1\",\"col2\"]\n",
    "\n",
    "df=spark.createDataFrame(data,cols)\n",
    "display(df)"
   ]
  },
  {
   "cell_type": "code",
   "execution_count": null,
   "metadata": {
    "application/vnd.databricks.v1+cell": {
     "cellMetadata": {
      "byteLimit": 2048000,
      "rowLimit": 10000
     },
     "inputWidgets": {},
     "nuid": "479734b6-7739-4768-9b08-32f8ecf28c1e",
     "showTitle": false,
     "title": ""
    }
   },
   "outputs": [
    {
     "data": {
      "text/html": [
       "<style scoped>\n",
       "  .table-result-container {\n",
       "    max-height: 300px;\n",
       "    overflow: auto;\n",
       "  }\n",
       "  table, th, td {\n",
       "    border: 1px solid black;\n",
       "    border-collapse: collapse;\n",
       "  }\n",
       "  th, td {\n",
       "    padding: 5px;\n",
       "  }\n",
       "  th {\n",
       "    text-align: left;\n",
       "  }\n",
       "</style><div class='table-result-container'><table class='table-result'><thead style='background-color: white'><tr><th>col1</th><th>col2</th><th>col3</th><th>col4</th><th>col5</th></tr></thead><tbody><tr><td>1</td><td>{\"id\":\"1\",\"name\":\"nitin\",\"city\":\"blr\"}</td><td>{\"id\":\"1\",</td><td>\"name\":\"</td><td>nitin\",\"city\":\"blr\"}</td></tr><tr><td>2</td><td>{\"id\":\"1\",\"name\":\"neeraj\"kumar\",\"city\":\"del\"}</td><td>{\"id\":\"1\",</td><td>\"name\":\"</td><td>neeraj\"kumar\",\"city\":\"del\"}</td></tr></tbody></table></div>"
      ]
     },
     "metadata": {
      "application/vnd.databricks.v1+output": {
       "addedWidgets": {},
       "aggData": [],
       "aggError": "",
       "aggOverflow": false,
       "aggSchema": [],
       "aggSeriesLimitReached": false,
       "aggType": "",
       "arguments": {},
       "columnCustomDisplayInfos": {},
       "data": [
        [
         1,
         "{\"id\":\"1\",\"name\":\"nitin\",\"city\":\"blr\"}",
         "{\"id\":\"1\",",
         "\"name\":\"",
         "nitin\",\"city\":\"blr\"}"
        ],
        [
         2,
         "{\"id\":\"1\",\"name\":\"neeraj\"kumar\",\"city\":\"del\"}",
         "{\"id\":\"1\",",
         "\"name\":\"",
         "neeraj\"kumar\",\"city\":\"del\"}"
        ]
       ],
       "datasetInfos": [],
       "dbfsResultPath": null,
       "isJsonSchema": true,
       "metadata": {},
       "overflow": false,
       "plotOptions": {
        "customPlotOptions": {},
        "displayType": "table",
        "pivotAggregation": null,
        "pivotColumns": null,
        "xColumns": null,
        "yColumns": null
       },
       "removedWidgets": [],
       "schema": [
        {
         "metadata": "{}",
         "name": "col1",
         "type": "\"long\""
        },
        {
         "metadata": "{}",
         "name": "col2",
         "type": "\"string\""
        },
        {
         "metadata": "{}",
         "name": "col3",
         "type": "\"string\""
        },
        {
         "metadata": "{}",
         "name": "col4",
         "type": "\"string\""
        },
        {
         "metadata": "{}",
         "name": "col5",
         "type": "\"string\""
        }
       ],
       "type": "table"
      }
     },
     "output_type": "display_data"
    },
    {
     "data": {
      "text/html": [
       "<style scoped>\n",
       "  .table-result-container {\n",
       "    max-height: 300px;\n",
       "    overflow: auto;\n",
       "  }\n",
       "  table, th, td {\n",
       "    border: 1px solid black;\n",
       "    border-collapse: collapse;\n",
       "  }\n",
       "  th, td {\n",
       "    padding: 5px;\n",
       "  }\n",
       "  th {\n",
       "    text-align: left;\n",
       "  }\n",
       "</style><div class='table-result-container'><table class='table-result'><thead style='background-color: white'><tr><th>col1</th><th>col2</th><th>col3</th><th>col4</th><th>col5</th><th>col6</th></tr></thead><tbody><tr><td>1</td><td>{\"id\":\"1\",\"name\":\"nitin\",\"city\":\"blr\"}</td><td>{\"id\":\"1\",</td><td>\"name\":\"</td><td>nitin\",\"city\":\"blr\"}</td><td>List(nitin, ,\"city\":\"blr\"})</td></tr><tr><td>2</td><td>{\"id\":\"1\",\"name\":\"neeraj\"kumar\",\"city\":\"del\"}</td><td>{\"id\":\"1\",</td><td>\"name\":\"</td><td>neeraj\"kumar\",\"city\":\"del\"}</td><td>List(neeraj, kumar\",\"city\":\"del\"})</td></tr></tbody></table></div>"
      ]
     },
     "metadata": {
      "application/vnd.databricks.v1+output": {
       "addedWidgets": {},
       "aggData": [],
       "aggError": "",
       "aggOverflow": false,
       "aggSchema": [],
       "aggSeriesLimitReached": false,
       "aggType": "",
       "arguments": {},
       "columnCustomDisplayInfos": {},
       "data": [
        [
         1,
         "{\"id\":\"1\",\"name\":\"nitin\",\"city\":\"blr\"}",
         "{\"id\":\"1\",",
         "\"name\":\"",
         "nitin\",\"city\":\"blr\"}",
         [
          "nitin",
          ",\"city\":\"blr\"}"
         ]
        ],
        [
         2,
         "{\"id\":\"1\",\"name\":\"neeraj\"kumar\",\"city\":\"del\"}",
         "{\"id\":\"1\",",
         "\"name\":\"",
         "neeraj\"kumar\",\"city\":\"del\"}",
         [
          "neeraj",
          "kumar\",\"city\":\"del\"}"
         ]
        ]
       ],
       "datasetInfos": [],
       "dbfsResultPath": null,
       "isJsonSchema": true,
       "metadata": {},
       "overflow": false,
       "plotOptions": {
        "customPlotOptions": {},
        "displayType": "table",
        "pivotAggregation": null,
        "pivotColumns": null,
        "xColumns": null,
        "yColumns": null
       },
       "removedWidgets": [],
       "schema": [
        {
         "metadata": "{}",
         "name": "col1",
         "type": "\"long\""
        },
        {
         "metadata": "{}",
         "name": "col2",
         "type": "\"string\""
        },
        {
         "metadata": "{}",
         "name": "col3",
         "type": "\"string\""
        },
        {
         "metadata": "{}",
         "name": "col4",
         "type": "\"string\""
        },
        {
         "metadata": "{}",
         "name": "col5",
         "type": "\"string\""
        },
        {
         "metadata": "{}",
         "name": "col6",
         "type": "{\"type\":\"array\",\"elementType\":\"string\",\"containsNull\":false}"
        }
       ],
       "type": "table"
      }
     },
     "output_type": "display_data"
    }
   ],
   "source": [
    "split_df = df.withColumn(\"col3\",split(col('col2'),'\"name\":\"')[0]) \\\n",
    ".withColumn(\"col4\",lit('\"name\":\"')) \\\n",
    ".withColumn(\"col5\",split(col('col2'),'\"name\":\"')[1])\n",
    "\n",
    "display(split_df)\n",
    "\n",
    "split_two_parts_df = split_df.withColumn(\"col6\",split(col(\"col5\"),'\"',2))\n",
    "\n",
    "display(split_two_parts_df)\n",
    "\n",
    "#Spark SQL functions lit() used to add a new column to DataFrame by assigning a literal or constant value. This function return Column type as return type. "
   ]
  },
  {
   "cell_type": "code",
   "execution_count": null,
   "metadata": {
    "application/vnd.databricks.v1+cell": {
     "cellMetadata": {
      "byteLimit": 2048000,
      "rowLimit": 10000
     },
     "inputWidgets": {},
     "nuid": "6dc2cf73-c9ed-46de-a294-c460136d8c9b",
     "showTitle": false,
     "title": ""
    }
   },
   "outputs": [
    {
     "data": {
      "text/html": [
       "<style scoped>\n",
       "  .table-result-container {\n",
       "    max-height: 300px;\n",
       "    overflow: auto;\n",
       "  }\n",
       "  table, th, td {\n",
       "    border: 1px solid black;\n",
       "    border-collapse: collapse;\n",
       "  }\n",
       "  th, td {\n",
       "    padding: 5px;\n",
       "  }\n",
       "  th {\n",
       "    text-align: left;\n",
       "  }\n",
       "</style><div class='table-result-container'><table class='table-result'><thead style='background-color: white'><tr><th>col1</th><th>col2</th><th>col3</th><th>col4</th><th>col5</th><th>col6</th><th>col7</th></tr></thead><tbody><tr><td>1</td><td>{\"id\":\"1\",\"name\":\"nitin\",\"city\":\"blr\"}</td><td>{\"id\":\"1\",</td><td>\"name\":\"</td><td>nitin\",\"city\":\"blr\"}</td><td>List(nitin, ,\"city\":\"blr\"})</td><td>nitin ,\"city\":\"blr\"}</td></tr><tr><td>2</td><td>{\"id\":\"1\",\"name\":\"neeraj\"kumar\",\"city\":\"del\"}</td><td>{\"id\":\"1\",</td><td>\"name\":\"</td><td>neeraj\"kumar\",\"city\":\"del\"}</td><td>List(neeraj, kumar\",\"city\":\"del\"})</td><td>neeraj kumar\",\"city\":\"del\"}</td></tr></tbody></table></div>"
      ]
     },
     "metadata": {
      "application/vnd.databricks.v1+output": {
       "addedWidgets": {},
       "aggData": [],
       "aggError": "",
       "aggOverflow": false,
       "aggSchema": [],
       "aggSeriesLimitReached": false,
       "aggType": "",
       "arguments": {},
       "columnCustomDisplayInfos": {},
       "data": [
        [
         1,
         "{\"id\":\"1\",\"name\":\"nitin\",\"city\":\"blr\"}",
         "{\"id\":\"1\",",
         "\"name\":\"",
         "nitin\",\"city\":\"blr\"}",
         [
          "nitin",
          ",\"city\":\"blr\"}"
         ],
         "nitin ,\"city\":\"blr\"}"
        ],
        [
         2,
         "{\"id\":\"1\",\"name\":\"neeraj\"kumar\",\"city\":\"del\"}",
         "{\"id\":\"1\",",
         "\"name\":\"",
         "neeraj\"kumar\",\"city\":\"del\"}",
         [
          "neeraj",
          "kumar\",\"city\":\"del\"}"
         ],
         "neeraj kumar\",\"city\":\"del\"}"
        ]
       ],
       "datasetInfos": [],
       "dbfsResultPath": null,
       "isJsonSchema": true,
       "metadata": {},
       "overflow": false,
       "plotOptions": {
        "customPlotOptions": {},
        "displayType": "table",
        "pivotAggregation": null,
        "pivotColumns": null,
        "xColumns": null,
        "yColumns": null
       },
       "removedWidgets": [],
       "schema": [
        {
         "metadata": "{}",
         "name": "col1",
         "type": "\"long\""
        },
        {
         "metadata": "{}",
         "name": "col2",
         "type": "\"string\""
        },
        {
         "metadata": "{}",
         "name": "col3",
         "type": "\"string\""
        },
        {
         "metadata": "{}",
         "name": "col4",
         "type": "\"string\""
        },
        {
         "metadata": "{}",
         "name": "col5",
         "type": "\"string\""
        },
        {
         "metadata": "{}",
         "name": "col6",
         "type": "{\"type\":\"array\",\"elementType\":\"string\",\"containsNull\":false}"
        },
        {
         "metadata": "{}",
         "name": "col7",
         "type": "\"string\""
        }
       ],
       "type": "table"
      }
     },
     "output_type": "display_data"
    }
   ],
   "source": [
    "split_concat_df = split_two_parts_df.withColumn(\"col7\",concat_ws(' ',col(\"col6\")))\n",
    "display(split_concat_df)"
   ]
  },
  {
   "cell_type": "code",
   "execution_count": null,
   "metadata": {
    "application/vnd.databricks.v1+cell": {
     "cellMetadata": {
      "byteLimit": 2048000,
      "rowLimit": 10000
     },
     "inputWidgets": {},
     "nuid": "ba2799c7-bf7c-4e87-8bf7-cc51f2e77762",
     "showTitle": false,
     "title": ""
    }
   },
   "outputs": [
    {
     "data": {
      "text/html": [
       "<style scoped>\n",
       "  .table-result-container {\n",
       "    max-height: 300px;\n",
       "    overflow: auto;\n",
       "  }\n",
       "  table, th, td {\n",
       "    border: 1px solid black;\n",
       "    border-collapse: collapse;\n",
       "  }\n",
       "  th, td {\n",
       "    padding: 5px;\n",
       "  }\n",
       "  th {\n",
       "    text-align: left;\n",
       "  }\n",
       "</style><div class='table-result-container'><table class='table-result'><thead style='background-color: white'><tr><th>col1</th><th>col2</th><th>col3</th><th>col4</th><th>col5</th><th>col6</th><th>col7</th><th>col8</th></tr></thead><tbody><tr><td>1</td><td>{\"id\":\"1\",\"name\":\"nitin\",\"city\":\"blr\"}</td><td>{\"id\":\"1\",</td><td>\"name\":\"</td><td>nitin\",\"city\":\"blr\"}</td><td>List(nitin, ,\"city\":\"blr\"})</td><td>nitin ,\"city\":\"blr\"}</td><td>{\"id\":\"1\",\"name\":\"nitin ,\"city\":\"blr\"}</td></tr><tr><td>2</td><td>{\"id\":\"1\",\"name\":\"neeraj\"kumar\",\"city\":\"del\"}</td><td>{\"id\":\"1\",</td><td>\"name\":\"</td><td>neeraj\"kumar\",\"city\":\"del\"}</td><td>List(neeraj, kumar\",\"city\":\"del\"})</td><td>neeraj kumar\",\"city\":\"del\"}</td><td>{\"id\":\"1\",\"name\":\"neeraj kumar\",\"city\":\"del\"}</td></tr></tbody></table></div>"
      ]
     },
     "metadata": {
      "application/vnd.databricks.v1+output": {
       "addedWidgets": {},
       "aggData": [],
       "aggError": "",
       "aggOverflow": false,
       "aggSchema": [],
       "aggSeriesLimitReached": false,
       "aggType": "",
       "arguments": {},
       "columnCustomDisplayInfos": {},
       "data": [
        [
         1,
         "{\"id\":\"1\",\"name\":\"nitin\",\"city\":\"blr\"}",
         "{\"id\":\"1\",",
         "\"name\":\"",
         "nitin\",\"city\":\"blr\"}",
         [
          "nitin",
          ",\"city\":\"blr\"}"
         ],
         "nitin ,\"city\":\"blr\"}",
         "{\"id\":\"1\",\"name\":\"nitin ,\"city\":\"blr\"}"
        ],
        [
         2,
         "{\"id\":\"1\",\"name\":\"neeraj\"kumar\",\"city\":\"del\"}",
         "{\"id\":\"1\",",
         "\"name\":\"",
         "neeraj\"kumar\",\"city\":\"del\"}",
         [
          "neeraj",
          "kumar\",\"city\":\"del\"}"
         ],
         "neeraj kumar\",\"city\":\"del\"}",
         "{\"id\":\"1\",\"name\":\"neeraj kumar\",\"city\":\"del\"}"
        ]
       ],
       "datasetInfos": [],
       "dbfsResultPath": null,
       "isJsonSchema": true,
       "metadata": {},
       "overflow": false,
       "plotOptions": {
        "customPlotOptions": {},
        "displayType": "table",
        "pivotAggregation": null,
        "pivotColumns": null,
        "xColumns": null,
        "yColumns": null
       },
       "removedWidgets": [],
       "schema": [
        {
         "metadata": "{}",
         "name": "col1",
         "type": "\"long\""
        },
        {
         "metadata": "{}",
         "name": "col2",
         "type": "\"string\""
        },
        {
         "metadata": "{}",
         "name": "col3",
         "type": "\"string\""
        },
        {
         "metadata": "{}",
         "name": "col4",
         "type": "\"string\""
        },
        {
         "metadata": "{}",
         "name": "col5",
         "type": "\"string\""
        },
        {
         "metadata": "{}",
         "name": "col6",
         "type": "{\"type\":\"array\",\"elementType\":\"string\",\"containsNull\":false}"
        },
        {
         "metadata": "{}",
         "name": "col7",
         "type": "\"string\""
        },
        {
         "metadata": "{}",
         "name": "col8",
         "type": "\"string\""
        }
       ],
       "type": "table"
      }
     },
     "output_type": "display_data"
    }
   ],
   "source": [
    "merged_df = split_concat_df.withColumn(\"col8\",concat(col(\"col3\"),col(\"col4\"),col(\"col7\")))\n",
    "display(merged_df)"
   ]
  },
  {
   "cell_type": "code",
   "execution_count": null,
   "metadata": {
    "application/vnd.databricks.v1+cell": {
     "cellMetadata": {
      "byteLimit": 2048000,
      "rowLimit": 10000
     },
     "inputWidgets": {},
     "nuid": "76c445f1-6905-4929-a2e9-16fcfbc739ab",
     "showTitle": false,
     "title": ""
    }
   },
   "outputs": [
    {
     "data": {
      "text/html": [
       "<style scoped>\n",
       "  .table-result-container {\n",
       "    max-height: 300px;\n",
       "    overflow: auto;\n",
       "  }\n",
       "  table, th, td {\n",
       "    border: 1px solid black;\n",
       "    border-collapse: collapse;\n",
       "  }\n",
       "  th, td {\n",
       "    padding: 5px;\n",
       "  }\n",
       "  th {\n",
       "    text-align: left;\n",
       "  }\n",
       "</style><div class='table-result-container'><table class='table-result'><thead style='background-color: white'><tr><th>col2</th><th>col8</th></tr></thead><tbody><tr><td>{\"id\":\"1\",\"name\":\"nitin\",\"city\":\"blr\"}</td><td>{\"id\":\"1\",\"name\":\"nitin ,\"city\":\"blr\"}</td></tr><tr><td>{\"id\":\"1\",\"name\":\"neeraj\"kumar\",\"city\":\"del\"}</td><td>{\"id\":\"1\",\"name\":\"neeraj kumar\",\"city\":\"del\"}</td></tr></tbody></table></div>"
      ]
     },
     "metadata": {
      "application/vnd.databricks.v1+output": {
       "addedWidgets": {},
       "aggData": [],
       "aggError": "",
       "aggOverflow": false,
       "aggSchema": [],
       "aggSeriesLimitReached": false,
       "aggType": "",
       "arguments": {},
       "columnCustomDisplayInfos": {},
       "data": [
        [
         "{\"id\":\"1\",\"name\":\"nitin\",\"city\":\"blr\"}",
         "{\"id\":\"1\",\"name\":\"nitin ,\"city\":\"blr\"}"
        ],
        [
         "{\"id\":\"1\",\"name\":\"neeraj\"kumar\",\"city\":\"del\"}",
         "{\"id\":\"1\",\"name\":\"neeraj kumar\",\"city\":\"del\"}"
        ]
       ],
       "datasetInfos": [],
       "dbfsResultPath": null,
       "isJsonSchema": true,
       "metadata": {},
       "overflow": false,
       "plotOptions": {
        "customPlotOptions": {},
        "displayType": "table",
        "pivotAggregation": null,
        "pivotColumns": null,
        "xColumns": null,
        "yColumns": null
       },
       "removedWidgets": [],
       "schema": [
        {
         "metadata": "{}",
         "name": "col2",
         "type": "\"string\""
        },
        {
         "metadata": "{}",
         "name": "col8",
         "type": "\"string\""
        }
       ],
       "type": "table"
      }
     },
     "output_type": "display_data"
    },
    {
     "name": "stdout",
     "output_type": "stream",
     "text": [
      "+---------------------------------------------+---------------------------------------------+\n",
      "|col2                                         |col8                                         |\n",
      "+---------------------------------------------+---------------------------------------------+\n",
      "|{\"id\":\"1\",\"name\":\"nitin\",\"city\":\"blr\"}       |{\"id\":\"1\",\"name\":\"nitin ,\"city\":\"blr\"}       |\n",
      "|{\"id\":\"1\",\"name\":\"neeraj\"kumar\",\"city\":\"del\"}|{\"id\":\"1\",\"name\":\"neeraj kumar\",\"city\":\"del\"}|\n",
      "+---------------------------------------------+---------------------------------------------+\n",
      "\n",
      "Out[46]: [Row(col2='{\"id\":\"1\",\"name\":\"nitin\",\"city\":\"blr\"}', col8='{\"id\":\"1\",\"name\":\"nitin ,\"city\":\"blr\"}'),\n",
      " Row(col2='{\"id\":\"1\",\"name\":\"neeraj\"kumar\",\"city\":\"del\"}', col8='{\"id\":\"1\",\"name\":\"neeraj kumar\",\"city\":\"del\"}')]"
     ]
    }
   ],
   "source": [
    "final_df=merged_df.select(col(\"col2\"),col(\"col8\"))\n",
    "display(final_df)\n",
    "\n",
    "final_df.show(truncate=False)\n",
    "\n",
    "final_df.collect()"
   ]
  }
 ],
 "metadata": {
  "application/vnd.databricks.v1+notebook": {
   "dashboards": [],
   "environmentMetadata": null,
   "language": "python",
   "notebookMetadata": {
    "pythonIndentUnit": 4
   },
   "notebookName": "1.json_string",
   "widgets": {}
  },
  "language_info": {
   "name": "python"
  }
 },
 "nbformat": 4,
 "nbformat_minor": 0
}
