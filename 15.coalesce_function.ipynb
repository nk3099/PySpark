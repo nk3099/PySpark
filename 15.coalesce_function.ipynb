{
 "cells": [
  {
   "cell_type": "code",
   "execution_count": 0,
   "metadata": {
    "application/vnd.databricks.v1+cell": {
     "cellMetadata": {},
     "inputWidgets": {},
     "nuid": "4952946c-aae6-415f-b77b-459d95f7b2a1",
     "showTitle": false,
     "title": ""
    }
   },
   "outputs": [],
   "source": [
    "#Coalesce - to return first non-NULL value"
   ]
  },
  {
   "cell_type": "code",
   "execution_count": 0,
   "metadata": {
    "application/vnd.databricks.v1+cell": {
     "cellMetadata": {
      "byteLimit": 2048000,
      "rowLimit": 10000
     },
     "inputWidgets": {},
     "nuid": "a7df57ed-7a5c-40d9-aa13-ac39529b9298",
     "showTitle": false,
     "title": ""
    }
   },
   "outputs": [],
   "source": [
    "from pyspark.sql.functions import coalesce,col,when"
   ]
  },
  {
   "cell_type": "code",
   "execution_count": 0,
   "metadata": {
    "application/vnd.databricks.v1+cell": {
     "cellMetadata": {
      "byteLimit": 2048000,
      "rowLimit": 10000
     },
     "inputWidgets": {},
     "nuid": "e2294cb1-a89f-46d0-9e70-38912fa8d707",
     "showTitle": false,
     "title": ""
    }
   },
   "outputs": [
    {
     "output_type": "display_data",
     "data": {
      "text/html": [
       "<style scoped>\n",
       "  .table-result-container {\n",
       "    max-height: 300px;\n",
       "    overflow: auto;\n",
       "  }\n",
       "  table, th, td {\n",
       "    border: 1px solid black;\n",
       "    border-collapse: collapse;\n",
       "  }\n",
       "  th, td {\n",
       "    padding: 5px;\n",
       "  }\n",
       "  th {\n",
       "    text-align: left;\n",
       "  }\n",
       "</style><div class='table-result-container'><table class='table-result'><thead style='background-color: white'><tr><th>city1</th><th>city2</th><th>city3</th></tr></thead><tbody><tr><td>Goa</td><td></td><td>AP</td></tr><tr><td></td><td>AP</td><td>null</td></tr><tr><td>null</td><td></td><td>Blr</td></tr></tbody></table></div>"
      ]
     },
     "metadata": {
      "application/vnd.databricks.v1+output": {
       "addedWidgets": {},
       "aggData": [],
       "aggError": "",
       "aggOverflow": false,
       "aggSchema": [],
       "aggSeriesLimitReached": false,
       "aggType": "",
       "arguments": {},
       "columnCustomDisplayInfos": {},
       "data": [
        [
         "Goa",
         "",
         "AP"
        ],
        [
         "",
         "AP",
         null
        ],
        [
         null,
         "",
         "Blr"
        ]
       ],
       "datasetInfos": [],
       "dbfsResultPath": null,
       "isJsonSchema": true,
       "metadata": {},
       "overflow": false,
       "plotOptions": {
        "customPlotOptions": {},
        "displayType": "table",
        "pivotAggregation": null,
        "pivotColumns": null,
        "xColumns": null,
        "yColumns": null
       },
       "removedWidgets": [],
       "schema": [
        {
         "metadata": "{}",
         "name": "city1",
         "type": "\"string\""
        },
        {
         "metadata": "{}",
         "name": "city2",
         "type": "\"string\""
        },
        {
         "metadata": "{}",
         "name": "city3",
         "type": "\"string\""
        }
       ],
       "type": "table"
      }
     },
     "output_type": "display_data"
    }
   ],
   "source": [
    "data=[('Goa','','AP'),('','AP',None),(None,'','Blr')]\n",
    "columns=['city1','city2','city3']\n",
    "\n",
    "df=spark.createDataFrame(data,columns)\n",
    "\n",
    "df.display()"
   ]
  },
  {
   "cell_type": "code",
   "execution_count": 0,
   "metadata": {
    "application/vnd.databricks.v1+cell": {
     "cellMetadata": {
      "byteLimit": 2048000,
      "rowLimit": 10000
     },
     "inputWidgets": {},
     "nuid": "b130ebdd-6d37-4770-a86c-afa1ad7bc0d1",
     "showTitle": false,
     "title": ""
    }
   },
   "outputs": [
    {
     "output_type": "display_data",
     "data": {
      "text/html": [
       "<style scoped>\n",
       "  .table-result-container {\n",
       "    max-height: 300px;\n",
       "    overflow: auto;\n",
       "  }\n",
       "  table, th, td {\n",
       "    border: 1px solid black;\n",
       "    border-collapse: collapse;\n",
       "  }\n",
       "  th, td {\n",
       "    padding: 5px;\n",
       "  }\n",
       "  th {\n",
       "    text-align: left;\n",
       "  }\n",
       "</style><div class='table-result-container'><table class='table-result'><thead style='background-color: white'><tr><th>city1</th><th>city2</th><th>city3</th><th>firstnotnull</th></tr></thead><tbody><tr><td>Goa</td><td></td><td>AP</td><td>Goa</td></tr><tr><td></td><td>AP</td><td>null</td><td></td></tr><tr><td>null</td><td></td><td>Blr</td><td></td></tr></tbody></table></div>"
      ]
     },
     "metadata": {
      "application/vnd.databricks.v1+output": {
       "addedWidgets": {},
       "aggData": [],
       "aggError": "",
       "aggOverflow": false,
       "aggSchema": [],
       "aggSeriesLimitReached": false,
       "aggType": "",
       "arguments": {},
       "columnCustomDisplayInfos": {},
       "data": [
        [
         "Goa",
         "",
         "AP",
         "Goa"
        ],
        [
         "",
         "AP",
         null,
         ""
        ],
        [
         null,
         "",
         "Blr",
         ""
        ]
       ],
       "datasetInfos": [],
       "dbfsResultPath": null,
       "isJsonSchema": true,
       "metadata": {},
       "overflow": false,
       "plotOptions": {
        "customPlotOptions": {},
        "displayType": "table",
        "pivotAggregation": null,
        "pivotColumns": null,
        "xColumns": null,
        "yColumns": null
       },
       "removedWidgets": [],
       "schema": [
        {
         "metadata": "{}",
         "name": "city1",
         "type": "\"string\""
        },
        {
         "metadata": "{}",
         "name": "city2",
         "type": "\"string\""
        },
        {
         "metadata": "{}",
         "name": "city3",
         "type": "\"string\""
        },
        {
         "metadata": "{}",
         "name": "firstnotnull",
         "type": "\"string\""
        }
       ],
       "type": "table"
      }
     },
     "output_type": "display_data"
    }
   ],
   "source": [
    "#coalesce function reading rows from left side, can pick first non-NULL value\n",
    " \n",
    "result_df = df.withColumn(\"firstnotnull\",coalesce(df.city1,\"city2\",col(\"city3\"))\n",
    " \n",
    "display(result_df)\n",
    "\n",
    "#note: Here, considered Blank also as values."
   ]
  },
  {
   "cell_type": "code",
   "execution_count": 0,
   "metadata": {
    "application/vnd.databricks.v1+cell": {
     "cellMetadata": {
      "byteLimit": 2048000,
      "rowLimit": 10000
     },
     "inputWidgets": {},
     "nuid": "b793d0cd-5d40-490d-917c-f68cb62488fd",
     "showTitle": false,
     "title": ""
    }
   },
   "outputs": [
    {
     "output_type": "display_data",
     "data": {
      "text/html": [
       "<style scoped>\n",
       "  .table-result-container {\n",
       "    max-height: 300px;\n",
       "    overflow: auto;\n",
       "  }\n",
       "  table, th, td {\n",
       "    border: 1px solid black;\n",
       "    border-collapse: collapse;\n",
       "  }\n",
       "  th, td {\n",
       "    padding: 5px;\n",
       "  }\n",
       "  th {\n",
       "    text-align: left;\n",
       "  }\n",
       "</style><div class='table-result-container'><table class='table-result'><thead style='background-color: white'><tr><th>city1</th><th>city2</th><th>city3</th><th>firstnotnull</th></tr></thead><tbody><tr><td>Goa</td><td></td><td>AP</td><td>Goa</td></tr><tr><td></td><td>AP</td><td>null</td><td>AP</td></tr><tr><td>null</td><td></td><td>Blr</td><td>Blr</td></tr></tbody></table></div>"
      ]
     },
     "metadata": {
      "application/vnd.databricks.v1+output": {
       "addedWidgets": {},
       "aggData": [],
       "aggError": "",
       "aggOverflow": false,
       "aggSchema": [],
       "aggSeriesLimitReached": false,
       "aggType": "",
       "arguments": {},
       "columnCustomDisplayInfos": {},
       "data": [
        [
         "Goa",
         "",
         "AP",
         "Goa"
        ],
        [
         "",
         "AP",
         null,
         "AP"
        ],
        [
         null,
         "",
         "Blr",
         "Blr"
        ]
       ],
       "datasetInfos": [],
       "dbfsResultPath": null,
       "isJsonSchema": true,
       "metadata": {},
       "overflow": false,
       "plotOptions": {
        "customPlotOptions": {},
        "displayType": "table",
        "pivotAggregation": null,
        "pivotColumns": null,
        "xColumns": null,
        "yColumns": null
       },
       "removedWidgets": [],
       "schema": [
        {
         "metadata": "{}",
         "name": "city1",
         "type": "\"string\""
        },
        {
         "metadata": "{}",
         "name": "city2",
         "type": "\"string\""
        },
        {
         "metadata": "{}",
         "name": "city3",
         "type": "\"string\""
        },
        {
         "metadata": "{}",
         "name": "firstnotnull",
         "type": "\"string\""
        }
       ],
       "type": "table"
      }
     },
     "output_type": "display_data"
    }
   ],
   "source": [
    "#therefore, when city is Blank, marking as null\n",
    "#so, when coalesce function reading rows from left side, can pick first non-NULL value\n",
    "\n",
    "result_df = df.withColumn(\"firstnotnull\",\n",
    "                coalesce(\n",
    "                    when(df.city1==\"\",None).otherwise(df.city1),\n",
    "                    when(df.city2==\"\",None).otherwise(df.city2),\n",
    "                    when(df.city3==\"\",None).otherwise(df.city3)\n",
    "                ))\n",
    "\n",
    "result_df.display()"
   ]
  }
 ],
 "metadata": {
  "application/vnd.databricks.v1+notebook": {
   "dashboards": [],
   "environmentMetadata": null,
   "language": "python",
   "notebookMetadata": {
    "pythonIndentUnit": 4
   },
   "notebookName": "14.coalesce_function",
   "widgets": {}
  }
 },
 "nbformat": 4,
 "nbformat_minor": 0
}
