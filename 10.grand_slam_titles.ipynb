{
 "cells": [
  {
   "cell_type": "code",
   "execution_count": 0,
   "metadata": {
    "application/vnd.databricks.v1+cell": {
     "cellMetadata": {
      "byteLimit": 2048000,
      "rowLimit": 10000
     },
     "inputWidgets": {},
     "nuid": "4aaee541-1430-43c5-b931-b64a0b1bcd17",
     "showTitle": false,
     "title": ""
    }
   },
   "outputs": [],
   "source": [
    "#total grand slam titles winner"
   ]
  },
  {
   "cell_type": "code",
   "execution_count": 0,
   "metadata": {
    "application/vnd.databricks.v1+cell": {
     "cellMetadata": {
      "byteLimit": 2048000,
      "rowLimit": 10000
     },
     "inputWidgets": {},
     "nuid": "8de2b71b-75f0-47d7-bfed-0928abc5c9e0",
     "showTitle": false,
     "title": ""
    }
   },
   "outputs": [
    {
     "output_type": "display_data",
     "data": {
      "text/html": [
       "<style scoped>\n",
       "  .table-result-container {\n",
       "    max-height: 300px;\n",
       "    overflow: auto;\n",
       "  }\n",
       "  table, th, td {\n",
       "    border: 1px solid black;\n",
       "    border-collapse: collapse;\n",
       "  }\n",
       "  th, td {\n",
       "    padding: 5px;\n",
       "  }\n",
       "  th {\n",
       "    text-align: left;\n",
       "  }\n",
       "</style><div class='table-result-container'><table class='table-result'><thead style='background-color: white'><tr><th>player_id</th><th>player_name</th></tr></thead><tbody><tr><td>1</td><td>Nadal</td></tr><tr><td>2</td><td>Federer</td></tr><tr><td>3</td><td>Novak</td></tr></tbody></table></div>"
      ]
     },
     "metadata": {
      "application/vnd.databricks.v1+output": {
       "addedWidgets": {},
       "aggData": [],
       "aggError": "",
       "aggOverflow": false,
       "aggSchema": [],
       "aggSeriesLimitReached": false,
       "aggType": "",
       "arguments": {},
       "columnCustomDisplayInfos": {},
       "data": [
        [
         1,
         "Nadal"
        ],
        [
         2,
         "Federer"
        ],
        [
         3,
         "Novak"
        ]
       ],
       "datasetInfos": [],
       "dbfsResultPath": null,
       "isJsonSchema": true,
       "metadata": {},
       "overflow": false,
       "plotOptions": {
        "customPlotOptions": {},
        "displayType": "table",
        "pivotAggregation": null,
        "pivotColumns": null,
        "xColumns": null,
        "yColumns": null
       },
       "removedWidgets": [],
       "schema": [
        {
         "metadata": "{}",
         "name": "player_id",
         "type": "\"long\""
        },
        {
         "metadata": "{}",
         "name": "player_name",
         "type": "\"string\""
        }
       ],
       "type": "table"
      }
     },
     "output_type": "display_data"
    },
    {
     "output_type": "display_data",
     "data": {
      "text/html": [
       "<style scoped>\n",
       "  .table-result-container {\n",
       "    max-height: 300px;\n",
       "    overflow: auto;\n",
       "  }\n",
       "  table, th, td {\n",
       "    border: 1px solid black;\n",
       "    border-collapse: collapse;\n",
       "  }\n",
       "  th, td {\n",
       "    padding: 5px;\n",
       "  }\n",
       "  th {\n",
       "    text-align: left;\n",
       "  }\n",
       "</style><div class='table-result-container'><table class='table-result'><thead style='background-color: white'><tr><th>year</th><th>wimbeldon</th><th>fr_open</th><th>us_open</th><th>au_open</th></tr></thead><tbody><tr><td>2017</td><td>2</td><td>1</td><td>1</td><td>2</td></tr><tr><td>2018</td><td>3</td><td>1</td><td>3</td><td>2</td></tr><tr><td>2019</td><td>3</td><td>1</td><td>3</td><td>1</td></tr></tbody></table></div>"
      ]
     },
     "metadata": {
      "application/vnd.databricks.v1+output": {
       "addedWidgets": {},
       "aggData": [],
       "aggError": "",
       "aggOverflow": false,
       "aggSchema": [],
       "aggSeriesLimitReached": false,
       "aggType": "",
       "arguments": {},
       "columnCustomDisplayInfos": {},
       "data": [
        [
         2017,
         2,
         1,
         1,
         2
        ],
        [
         2018,
         3,
         1,
         3,
         2
        ],
        [
         2019,
         3,
         1,
         3,
         1
        ]
       ],
       "datasetInfos": [],
       "dbfsResultPath": null,
       "isJsonSchema": true,
       "metadata": {},
       "overflow": false,
       "plotOptions": {
        "customPlotOptions": {},
        "displayType": "table",
        "pivotAggregation": null,
        "pivotColumns": null,
        "xColumns": null,
        "yColumns": null
       },
       "removedWidgets": [],
       "schema": [
        {
         "metadata": "{}",
         "name": "year",
         "type": "\"long\""
        },
        {
         "metadata": "{}",
         "name": "wimbeldon",
         "type": "\"long\""
        },
        {
         "metadata": "{}",
         "name": "fr_open",
         "type": "\"long\""
        },
        {
         "metadata": "{}",
         "name": "us_open",
         "type": "\"long\""
        },
        {
         "metadata": "{}",
         "name": "au_open",
         "type": "\"long\""
        }
       ],
       "type": "table"
      }
     },
     "output_type": "display_data"
    }
   ],
   "source": [
    "from pyspark.sql.functions import col,sum,count\n",
    "\n",
    "#create players dataframe\n",
    "\n",
    "players_data=[\n",
    "    (1,\"Nadal\"),\n",
    "    (2,\"Federer\"),\n",
    "    (3,\"Novak\")\n",
    "]\n",
    "players_columns=['player_id','player_name']\n",
    "\n",
    "players_df=spark.createDataFrame(players_data,players_columns)\n",
    "\n",
    "#create championships dataframe\n",
    "championships_data=[\n",
    "    (2017,2,1,1,2),\n",
    "    (2018,3,1,3,2),\n",
    "    (2019,3,1,3,1)\n",
    "]\n",
    "championships_column=['year','wimbeldon','fr_open','us_open','au_open']\n",
    "\n",
    "championships_df=spark.createDataFrame(championships_data,championships_column)\n",
    "\n",
    "players_df.display()\n",
    "championships_df.display()\n"
   ]
  },
  {
   "cell_type": "code",
   "execution_count": 0,
   "metadata": {
    "application/vnd.databricks.v1+cell": {
     "cellMetadata": {
      "byteLimit": 2048000,
      "rowLimit": 10000
     },
     "inputWidgets": {},
     "nuid": "4c093aae-f65c-40b1-9814-033c49f361e1",
     "showTitle": false,
     "title": ""
    }
   },
   "outputs": [
    {
     "output_type": "display_data",
     "data": {
      "text/html": [
       "<style scoped>\n",
       "  .table-result-container {\n",
       "    max-height: 300px;\n",
       "    overflow: auto;\n",
       "  }\n",
       "  table, th, td {\n",
       "    border: 1px solid black;\n",
       "    border-collapse: collapse;\n",
       "  }\n",
       "  th, td {\n",
       "    padding: 5px;\n",
       "  }\n",
       "  th {\n",
       "    text-align: left;\n",
       "  }\n",
       "</style><div class='table-result-container'><table class='table-result'><thead style='background-color: white'><tr><th>year</th><th>player</th></tr></thead><tbody><tr><td>2017</td><td>2</td></tr><tr><td>2018</td><td>3</td></tr><tr><td>2019</td><td>3</td></tr><tr><td>2017</td><td>1</td></tr><tr><td>2018</td><td>1</td></tr><tr><td>2019</td><td>1</td></tr><tr><td>2017</td><td>1</td></tr><tr><td>2018</td><td>3</td></tr><tr><td>2019</td><td>3</td></tr><tr><td>2017</td><td>2</td></tr><tr><td>2018</td><td>2</td></tr><tr><td>2019</td><td>1</td></tr></tbody></table></div>"
      ]
     },
     "metadata": {
      "application/vnd.databricks.v1+output": {
       "addedWidgets": {},
       "aggData": [],
       "aggError": "",
       "aggOverflow": false,
       "aggSchema": [],
       "aggSeriesLimitReached": false,
       "aggType": "",
       "arguments": {},
       "columnCustomDisplayInfos": {},
       "data": [
        [
         2017,
         2
        ],
        [
         2018,
         3
        ],
        [
         2019,
         3
        ],
        [
         2017,
         1
        ],
        [
         2018,
         1
        ],
        [
         2019,
         1
        ],
        [
         2017,
         1
        ],
        [
         2018,
         3
        ],
        [
         2019,
         3
        ],
        [
         2017,
         2
        ],
        [
         2018,
         2
        ],
        [
         2019,
         1
        ]
       ],
       "datasetInfos": [],
       "dbfsResultPath": null,
       "isJsonSchema": true,
       "metadata": {},
       "overflow": false,
       "plotOptions": {
        "customPlotOptions": {},
        "displayType": "table",
        "pivotAggregation": null,
        "pivotColumns": null,
        "xColumns": null,
        "yColumns": null
       },
       "removedWidgets": [],
       "schema": [
        {
         "metadata": "{}",
         "name": "year",
         "type": "\"long\""
        },
        {
         "metadata": "{}",
         "name": "player",
         "type": "\"long\""
        }
       ],
       "type": "table"
      }
     },
     "output_type": "display_data"
    },
    {
     "output_type": "stream",
     "name": "stdout",
     "output_type": "stream",
     "text": [
      "Out[43]: '\\n1.PySpark is case-sensitive when it comes to DataFrame operations and function names. This means that unionAll (with a capital \"A\") is not the same as unionall \\n2.In PySpark, method names typically follow the camelCase convention\\n'"
     ]
    }
   ],
   "source": [
    "#create cte1\n",
    "#we should col() function when applying the alias method\n",
    "\n",
    "cte1 = championships_df.select(\"year\",col(\"wimbeldon\").alias(\"player\")) \\\n",
    "        .unionAll(championships_df.select(\"year\",col(\"fr_open\").alias(\"player\"))) \\\n",
    "        .unionAll(championships_df.select(\"year\",col(\"us_open\").alias(\"player\"))) \\\n",
    "        .unionAll(championships_df.select(\"year\",col(\"au_open\").alias(\"player\"))) \\\n",
    "\n",
    "cte1.display()\n",
    "\n",
    "#AttributeError: 'DataFrame' object has no attribute 'unionall'\n",
    "#Note: \n",
    "\"\"\"\n",
    "1.PySpark is case-sensitive when it comes to DataFrame operations and function names. This means that unionAll (with a capital \"A\") is not the same as unionall \n",
    "2.In PySpark, method names typically follow the camelCase convention\n",
    "\"\"\"\n",
    "                       "
   ]
  },
  {
   "cell_type": "code",
   "execution_count": 0,
   "metadata": {
    "application/vnd.databricks.v1+cell": {
     "cellMetadata": {
      "byteLimit": 2048000,
      "rowLimit": 10000
     },
     "inputWidgets": {},
     "nuid": "9eda0ffa-761b-493f-aee7-661111369207",
     "showTitle": false,
     "title": ""
    }
   },
   "outputs": [
    {
     "output_type": "display_data",
     "data": {
      "text/html": [
       "<style scoped>\n",
       "  .table-result-container {\n",
       "    max-height: 300px;\n",
       "    overflow: auto;\n",
       "  }\n",
       "  table, th, td {\n",
       "    border: 1px solid black;\n",
       "    border-collapse: collapse;\n",
       "  }\n",
       "  th, td {\n",
       "    padding: 5px;\n",
       "  }\n",
       "  th {\n",
       "    text-align: left;\n",
       "  }\n",
       "</style><div class='table-result-container'><table class='table-result'><thead style='background-color: white'><tr><th>player</th><th>grand_slams_count</th></tr></thead><tbody><tr><td>2</td><td>3</td></tr><tr><td>3</td><td>4</td></tr><tr><td>1</td><td>5</td></tr></tbody></table></div>"
      ]
     },
     "metadata": {
      "application/vnd.databricks.v1+output": {
       "addedWidgets": {},
       "aggData": [],
       "aggError": "",
       "aggOverflow": false,
       "aggSchema": [],
       "aggSeriesLimitReached": false,
       "aggType": "",
       "arguments": {},
       "columnCustomDisplayInfos": {},
       "data": [
        [
         2,
         3
        ],
        [
         3,
         4
        ],
        [
         1,
         5
        ]
       ],
       "datasetInfos": [],
       "dbfsResultPath": null,
       "isJsonSchema": true,
       "metadata": {},
       "overflow": false,
       "plotOptions": {
        "customPlotOptions": {},
        "displayType": "table",
        "pivotAggregation": null,
        "pivotColumns": null,
        "xColumns": null,
        "yColumns": null
       },
       "removedWidgets": [],
       "schema": [
        {
         "metadata": "{}",
         "name": "player",
         "type": "\"long\""
        },
        {
         "metadata": "{}",
         "name": "grand_slams_count",
         "type": "\"long\""
        }
       ],
       "type": "table"
      }
     },
     "output_type": "display_data"
    }
   ],
   "source": [
    "#create cte2\n",
    "\n",
    "cte2 = cte1.groupBy(\"player\").agg(count(\"*\").alias(\"grand_slams_count\"))\n",
    "\n",
    "cte2.display()"
   ]
  },
  {
   "cell_type": "code",
   "execution_count": 0,
   "metadata": {
    "application/vnd.databricks.v1+cell": {
     "cellMetadata": {
      "byteLimit": 2048000,
      "rowLimit": 10000
     },
     "inputWidgets": {},
     "nuid": "578451da-0c7d-4baf-b366-b90d106bfb7b",
     "showTitle": false,
     "title": ""
    }
   },
   "outputs": [
    {
     "output_type": "display_data",
     "data": {
      "text/html": [
       "<style scoped>\n",
       "  .table-result-container {\n",
       "    max-height: 300px;\n",
       "    overflow: auto;\n",
       "  }\n",
       "  table, th, td {\n",
       "    border: 1px solid black;\n",
       "    border-collapse: collapse;\n",
       "  }\n",
       "  th, td {\n",
       "    padding: 5px;\n",
       "  }\n",
       "  th {\n",
       "    text-align: left;\n",
       "  }\n",
       "</style><div class='table-result-container'><table class='table-result'><thead style='background-color: white'><tr><th>player_id</th><th>player_name</th><th>grand_slams_count</th></tr></thead><tbody><tr><td>1</td><td>Nadal</td><td>5</td></tr><tr><td>2</td><td>Federer</td><td>3</td></tr><tr><td>3</td><td>Novak</td><td>4</td></tr></tbody></table></div>"
      ]
     },
     "metadata": {
      "application/vnd.databricks.v1+output": {
       "addedWidgets": {},
       "aggData": [],
       "aggError": "",
       "aggOverflow": false,
       "aggSchema": [],
       "aggSeriesLimitReached": false,
       "aggType": "",
       "arguments": {},
       "columnCustomDisplayInfos": {},
       "data": [
        [
         1,
         "Nadal",
         5
        ],
        [
         2,
         "Federer",
         3
        ],
        [
         3,
         "Novak",
         4
        ]
       ],
       "datasetInfos": [],
       "dbfsResultPath": null,
       "isJsonSchema": true,
       "metadata": {},
       "overflow": false,
       "plotOptions": {
        "customPlotOptions": {},
        "displayType": "table",
        "pivotAggregation": null,
        "pivotColumns": null,
        "xColumns": null,
        "yColumns": null
       },
       "removedWidgets": [],
       "schema": [
        {
         "metadata": "{}",
         "name": "player_id",
         "type": "\"long\""
        },
        {
         "metadata": "{}",
         "name": "player_name",
         "type": "\"string\""
        },
        {
         "metadata": "{}",
         "name": "grand_slams_count",
         "type": "\"long\""
        }
       ],
       "type": "table"
      }
     },
     "output_type": "display_data"
    }
   ],
   "source": [
    "#join cte2 with players dataframe\n",
    "\n",
    "result_df = cte2.join(players_df, cte2.player==players_df.player_id, \"inner\") \\\n",
    "                .select(\"player_id\",\"player_name\",\"grand_slams_count\")\n",
    "\n",
    "result_df.display()"
   ]
  },
  {
   "cell_type": "markdown",
   "metadata": {
    "application/vnd.databricks.v1+cell": {
     "cellMetadata": {
      "byteLimit": 2048000,
      "rowLimit": 10000
     },
     "inputWidgets": {},
     "nuid": "f0487100-0105-467c-a2ed-9e497597b53b",
     "showTitle": false,
     "title": ""
    }
   },
   "source": [
    "##SQL Approach:"
   ]
  },
  {
   "cell_type": "code",
   "execution_count": 0,
   "metadata": {
    "application/vnd.databricks.v1+cell": {
     "cellMetadata": {
      "byteLimit": 2048000,
      "rowLimit": 10000
     },
     "inputWidgets": {},
     "nuid": "0336501b-de1d-4472-a5c1-e4fa98e4d26e",
     "showTitle": false,
     "title": ""
    }
   },
   "outputs": [],
   "source": [
    "players_df.createOrReplaceTempView(\"players\")\n",
    "championships_df.createOrReplaceTempView(\"championships\")"
   ]
  },
  {
   "cell_type": "markdown",
   "metadata": {
    "application/vnd.databricks.v1+cell": {
     "cellMetadata": {
      "byteLimit": 2048000,
      "rowLimit": 10000
     },
     "inputWidgets": {},
     "nuid": "66f2e098-cc84-4131-988d-e37b243ea3ab",
     "showTitle": false,
     "title": ""
    }
   },
   "source": [
    "#### SQL Approach 1:"
   ]
  },
  {
   "cell_type": "code",
   "execution_count": 0,
   "metadata": {
    "application/vnd.databricks.v1+cell": {
     "cellMetadata": {
      "byteLimit": 2048000,
      "implicitDf": true,
      "rowLimit": 10000
     },
     "inputWidgets": {},
     "nuid": "e0b0a1c8-bb91-472b-83fe-cf43319e4acb",
     "showTitle": false,
     "title": ""
    }
   },
   "outputs": [
    {
     "output_type": "display_data",
     "data": {
      "text/html": [
       "<style scoped>\n",
       "  .table-result-container {\n",
       "    max-height: 300px;\n",
       "    overflow: auto;\n",
       "  }\n",
       "  table, th, td {\n",
       "    border: 1px solid black;\n",
       "    border-collapse: collapse;\n",
       "  }\n",
       "  th, td {\n",
       "    padding: 5px;\n",
       "  }\n",
       "  th {\n",
       "    text-align: left;\n",
       "  }\n",
       "</style><div class='table-result-container'><table class='table-result'><thead style='background-color: white'><tr><th>player</th><th>grand_slams_count</th></tr></thead><tbody><tr><td>2</td><td>3</td></tr><tr><td>3</td><td>4</td></tr><tr><td>1</td><td>5</td></tr></tbody></table></div>"
      ]
     },
     "metadata": {
      "application/vnd.databricks.v1+output": {
       "addedWidgets": {},
       "aggData": [],
       "aggError": "",
       "aggOverflow": false,
       "aggSchema": [],
       "aggSeriesLimitReached": false,
       "aggType": "",
       "arguments": {},
       "columnCustomDisplayInfos": {},
       "data": [
        [
         2,
         3
        ],
        [
         3,
         4
        ],
        [
         1,
         5
        ]
       ],
       "datasetInfos": [],
       "dbfsResultPath": null,
       "isJsonSchema": true,
       "metadata": {},
       "overflow": false,
       "plotOptions": {
        "customPlotOptions": {},
        "displayType": "table",
        "pivotAggregation": null,
        "pivotColumns": null,
        "xColumns": null,
        "yColumns": null
       },
       "removedWidgets": [],
       "schema": [
        {
         "metadata": "{}",
         "name": "player",
         "type": "\"long\""
        },
        {
         "metadata": "{}",
         "name": "grand_slams_count",
         "type": "\"long\""
        }
       ],
       "type": "table"
      }
     },
     "output_type": "display_data"
    }
   ],
   "source": [
    "%sql\n",
    "\n",
    "--split tournament into separate rows:\n",
    "\n",
    "with cte1 as (\n",
    "select year,wimbeldon as player from championships\n",
    "union all\n",
    "select year,fr_open as player from championships\n",
    "union all\n",
    "select year,us_open as player from championships\n",
    "union all\n",
    "select year,au_open as player from championships\n",
    ")\n",
    "select player,count(1) as grand_slams_count\n",
    "from cte1\n",
    "group by player\n"
   ]
  },
  {
   "cell_type": "code",
   "execution_count": 0,
   "metadata": {
    "application/vnd.databricks.v1+cell": {
     "cellMetadata": {
      "byteLimit": 2048000,
      "implicitDf": true,
      "rowLimit": 10000
     },
     "inputWidgets": {},
     "nuid": "2dc19dff-7fd1-4ff3-9c35-e2046d116f08",
     "showTitle": false,
     "title": ""
    }
   },
   "outputs": [
    {
     "output_type": "display_data",
     "data": {
      "text/html": [
       "<style scoped>\n",
       "  .table-result-container {\n",
       "    max-height: 300px;\n",
       "    overflow: auto;\n",
       "  }\n",
       "  table, th, td {\n",
       "    border: 1px solid black;\n",
       "    border-collapse: collapse;\n",
       "  }\n",
       "  th, td {\n",
       "    padding: 5px;\n",
       "  }\n",
       "  th {\n",
       "    text-align: left;\n",
       "  }\n",
       "</style><div class='table-result-container'><table class='table-result'><thead style='background-color: white'><tr><th>player_id</th><th>player_name</th><th>grand_slams_count</th></tr></thead><tbody><tr><td>1</td><td>Nadal</td><td>5</td></tr><tr><td>2</td><td>Federer</td><td>3</td></tr><tr><td>3</td><td>Novak</td><td>4</td></tr></tbody></table></div>"
      ]
     },
     "metadata": {
      "application/vnd.databricks.v1+output": {
       "addedWidgets": {},
       "aggData": [],
       "aggError": "",
       "aggOverflow": false,
       "aggSchema": [],
       "aggSeriesLimitReached": false,
       "aggType": "",
       "arguments": {},
       "columnCustomDisplayInfos": {},
       "data": [
        [
         1,
         "Nadal",
         5
        ],
        [
         2,
         "Federer",
         3
        ],
        [
         3,
         "Novak",
         4
        ]
       ],
       "datasetInfos": [],
       "dbfsResultPath": null,
       "isJsonSchema": true,
       "metadata": {},
       "overflow": false,
       "plotOptions": {
        "customPlotOptions": {},
        "displayType": "table",
        "pivotAggregation": null,
        "pivotColumns": null,
        "xColumns": null,
        "yColumns": null
       },
       "removedWidgets": [],
       "schema": [
        {
         "metadata": "{}",
         "name": "player_id",
         "type": "\"long\""
        },
        {
         "metadata": "{}",
         "name": "player_name",
         "type": "\"string\""
        },
        {
         "metadata": "{}",
         "name": "grand_slams_count",
         "type": "\"long\""
        }
       ],
       "type": "table"
      }
     },
     "output_type": "display_data"
    }
   ],
   "source": [
    "%sql\n",
    "\n",
    "--aggregate each player\n",
    "\n",
    "with cte1 as (\n",
    "select year,wimbeldon as player from championships\n",
    "union all\n",
    "select year,fr_open as player from championships\n",
    "union all\n",
    "select year,us_open as player from championships\n",
    "union all\n",
    "select year,au_open as player from championships\n",
    ")\n",
    ",cte2 as (\n",
    "select player,count(1) as grand_slams_count\n",
    "from cte1\n",
    "group by player\n",
    ")\n",
    "\n",
    "--join to get player_name in final result\n",
    "\n",
    "select player_id,player_name,grand_slams_count\n",
    "from players\n",
    "inner join cte2 on players.player_id = cte2.player\n",
    "\n"
   ]
  },
  {
   "cell_type": "markdown",
   "metadata": {
    "application/vnd.databricks.v1+cell": {
     "cellMetadata": {
      "byteLimit": 2048000,
      "rowLimit": 10000
     },
     "inputWidgets": {},
     "nuid": "31514203-ed65-4a61-9f24-a7dbfe8057ea",
     "showTitle": false,
     "title": ""
    }
   },
   "source": [
    "#### SQL Approach 2:"
   ]
  },
  {
   "cell_type": "code",
   "execution_count": 0,
   "metadata": {
    "application/vnd.databricks.v1+cell": {
     "cellMetadata": {
      "byteLimit": 2048000,
      "implicitDf": true,
      "rowLimit": 10000
     },
     "inputWidgets": {},
     "nuid": "22121d9d-c776-4497-8fba-11f6f5902082",
     "showTitle": false,
     "title": ""
    }
   },
   "outputs": [
    {
     "output_type": "display_data",
     "data": {
      "text/html": [
       "<style scoped>\n",
       "  .table-result-container {\n",
       "    max-height: 300px;\n",
       "    overflow: auto;\n",
       "  }\n",
       "  table, th, td {\n",
       "    border: 1px solid black;\n",
       "    border-collapse: collapse;\n",
       "  }\n",
       "  th, td {\n",
       "    padding: 5px;\n",
       "  }\n",
       "  th {\n",
       "    text-align: left;\n",
       "  }\n",
       "</style><div class='table-result-container'><table class='table-result'><thead style='background-color: white'><tr><th>player_id</th><th>player_name</th><th>year</th><th>wimbeldon</th><th>fr_open</th><th>us_open</th><th>au_open</th></tr></thead><tbody><tr><td>1</td><td>Nadal</td><td>2017</td><td>2</td><td>1</td><td>1</td><td>2</td></tr><tr><td>1</td><td>Nadal</td><td>2018</td><td>3</td><td>1</td><td>3</td><td>2</td></tr><tr><td>1</td><td>Nadal</td><td>2019</td><td>3</td><td>1</td><td>3</td><td>1</td></tr><tr><td>2</td><td>Federer</td><td>2017</td><td>2</td><td>1</td><td>1</td><td>2</td></tr><tr><td>2</td><td>Federer</td><td>2018</td><td>3</td><td>1</td><td>3</td><td>2</td></tr><tr><td>3</td><td>Novak</td><td>2018</td><td>3</td><td>1</td><td>3</td><td>2</td></tr><tr><td>3</td><td>Novak</td><td>2019</td><td>3</td><td>1</td><td>3</td><td>1</td></tr></tbody></table></div>"
      ]
     },
     "metadata": {
      "application/vnd.databricks.v1+output": {
       "addedWidgets": {},
       "aggData": [],
       "aggError": "",
       "aggOverflow": false,
       "aggSchema": [],
       "aggSeriesLimitReached": false,
       "aggType": "",
       "arguments": {},
       "columnCustomDisplayInfos": {},
       "data": [
        [
         1,
         "Nadal",
         2017,
         2,
         1,
         1,
         2
        ],
        [
         1,
         "Nadal",
         2018,
         3,
         1,
         3,
         2
        ],
        [
         1,
         "Nadal",
         2019,
         3,
         1,
         3,
         1
        ],
        [
         2,
         "Federer",
         2017,
         2,
         1,
         1,
         2
        ],
        [
         2,
         "Federer",
         2018,
         3,
         1,
         3,
         2
        ],
        [
         3,
         "Novak",
         2018,
         3,
         1,
         3,
         2
        ],
        [
         3,
         "Novak",
         2019,
         3,
         1,
         3,
         1
        ]
       ],
       "datasetInfos": [],
       "dbfsResultPath": null,
       "isJsonSchema": true,
       "metadata": {},
       "overflow": false,
       "plotOptions": {
        "customPlotOptions": {},
        "displayType": "table",
        "pivotAggregation": null,
        "pivotColumns": null,
        "xColumns": null,
        "yColumns": null
       },
       "removedWidgets": [],
       "schema": [
        {
         "metadata": "{}",
         "name": "player_id",
         "type": "\"long\""
        },
        {
         "metadata": "{}",
         "name": "player_name",
         "type": "\"string\""
        },
        {
         "metadata": "{}",
         "name": "year",
         "type": "\"long\""
        },
        {
         "metadata": "{}",
         "name": "wimbeldon",
         "type": "\"long\""
        },
        {
         "metadata": "{}",
         "name": "fr_open",
         "type": "\"long\""
        },
        {
         "metadata": "{}",
         "name": "us_open",
         "type": "\"long\""
        },
        {
         "metadata": "{}",
         "name": "au_open",
         "type": "\"long\""
        }
       ],
       "type": "table"
      }
     },
     "output_type": "display_data"
    }
   ],
   "source": [
    "%sql\n",
    "\n",
    "--join player with tournament:\n",
    "\n",
    "select *\n",
    "from players p\n",
    "join championships c\n",
    "on c.wimbeldon=p.player_id or c.fr_open=p.player_id or c.us_open=p.player_id or c.au_open=p.player_id\n",
    "order by 1,3\n",
    "\n",
    "\n",
    "--OR\n",
    "--condition column_name IN (col1, col2, col3) checks if column_name is equal to any of the values in col1, col2, or col3.\n",
    "/*\n",
    "SELECT *\n",
    "FROM players p\n",
    "JOIN championships c\n",
    "ON p.player_id IN (c.wimbeldon, c.fr_open, c.us_open, c.au_open)\n",
    "ORDER BY 1, 3;\n",
    "*/\n",
    "\n",
    "--ORDER BY 1, 3 means the results will be ordered by the first column and the third column in the select list.\n",
    "\n"
   ]
  },
  {
   "cell_type": "markdown",
   "metadata": {
    "application/vnd.databricks.v1+cell": {
     "cellMetadata": {
      "byteLimit": 2048000,
      "rowLimit": 10000
     },
     "inputWidgets": {},
     "nuid": "f2f9fb65-6c1a-4f82-bea4-9e8e61d609dc",
     "showTitle": false,
     "title": ""
    }
   },
   "source": [
    "add no. of titles for each year\n",
    "\n",
    "\n"
   ]
  },
  {
   "cell_type": "code",
   "execution_count": 0,
   "metadata": {
    "application/vnd.databricks.v1+cell": {
     "cellMetadata": {
      "byteLimit": 2048000,
      "implicitDf": true,
      "rowLimit": 10000
     },
     "inputWidgets": {},
     "nuid": "d4b59a99-c8e9-4748-aa37-b5472cbc37ef",
     "showTitle": false,
     "title": ""
    }
   },
   "outputs": [
    {
     "output_type": "display_data",
     "data": {
      "text/html": [
       "<style scoped>\n",
       "  .table-result-container {\n",
       "    max-height: 300px;\n",
       "    overflow: auto;\n",
       "  }\n",
       "  table, th, td {\n",
       "    border: 1px solid black;\n",
       "    border-collapse: collapse;\n",
       "  }\n",
       "  th, td {\n",
       "    padding: 5px;\n",
       "  }\n",
       "  th {\n",
       "    text-align: left;\n",
       "  }\n",
       "</style><div class='table-result-container'><table class='table-result'><thead style='background-color: white'><tr><th>player_id</th><th>player_name</th><th>year</th><th>year_total</th></tr></thead><tbody><tr><td>1</td><td>Nadal</td><td>2017</td><td>2</td></tr><tr><td>1</td><td>Nadal</td><td>2018</td><td>1</td></tr><tr><td>1</td><td>Nadal</td><td>2019</td><td>2</td></tr><tr><td>2</td><td>Federer</td><td>2017</td><td>2</td></tr><tr><td>2</td><td>Federer</td><td>2018</td><td>1</td></tr><tr><td>3</td><td>Novak</td><td>2018</td><td>2</td></tr><tr><td>3</td><td>Novak</td><td>2019</td><td>2</td></tr></tbody></table></div>"
      ]
     },
     "metadata": {
      "application/vnd.databricks.v1+output": {
       "addedWidgets": {},
       "aggData": [],
       "aggError": "",
       "aggOverflow": false,
       "aggSchema": [],
       "aggSeriesLimitReached": false,
       "aggType": "",
       "arguments": {},
       "columnCustomDisplayInfos": {},
       "data": [
        [
         1,
         "Nadal",
         2017,
         2
        ],
        [
         1,
         "Nadal",
         2018,
         1
        ],
        [
         1,
         "Nadal",
         2019,
         2
        ],
        [
         2,
         "Federer",
         2017,
         2
        ],
        [
         2,
         "Federer",
         2018,
         1
        ],
        [
         3,
         "Novak",
         2018,
         2
        ],
        [
         3,
         "Novak",
         2019,
         2
        ]
       ],
       "datasetInfos": [],
       "dbfsResultPath": null,
       "isJsonSchema": true,
       "metadata": {},
       "overflow": false,
       "plotOptions": {
        "customPlotOptions": {},
        "displayType": "table",
        "pivotAggregation": null,
        "pivotColumns": null,
        "xColumns": null,
        "yColumns": null
       },
       "removedWidgets": [],
       "schema": [
        {
         "metadata": "{}",
         "name": "player_id",
         "type": "\"long\""
        },
        {
         "metadata": "{}",
         "name": "player_name",
         "type": "\"string\""
        },
        {
         "metadata": "{}",
         "name": "year",
         "type": "\"long\""
        },
        {
         "metadata": "{}",
         "name": "year_total",
         "type": "\"integer\""
        }
       ],
       "type": "table"
      }
     },
     "output_type": "display_data"
    }
   ],
   "source": [
    "%sql\n",
    "select \n",
    "p.player_id,p.player_name,c.year,\n",
    "(case when c.wimbeldon=p.player_id then 1 else 0 end) +\n",
    "(case when c.fr_open=p.player_id then 1 else 0 end) +\n",
    "(case when c.us_open=p.player_id then 1 else 0 end) +\n",
    "(case when c.au_open=p.player_id then 1 else 0 end) as year_total\n",
    "from players p\n",
    "join championships c\n",
    "on p.player_id IN (c.wimbeldon, c.fr_open, c.us_open, c.au_open)\n",
    "order by 1,3\n",
    "\n"
   ]
  },
  {
   "cell_type": "markdown",
   "metadata": {
    "application/vnd.databricks.v1+cell": {
     "cellMetadata": {
      "byteLimit": 2048000,
      "rowLimit": 10000
     },
     "inputWidgets": {},
     "nuid": "6d1151df-dbd4-4357-b4cf-6402246c76ff",
     "showTitle": false,
     "title": ""
    }
   },
   "source": [
    "aggregate no. of titles for each year"
   ]
  },
  {
   "cell_type": "code",
   "execution_count": 0,
   "metadata": {
    "application/vnd.databricks.v1+cell": {
     "cellMetadata": {
      "byteLimit": 2048000,
      "implicitDf": true,
      "rowLimit": 10000
     },
     "inputWidgets": {},
     "nuid": "99ac8110-e3d6-4bc8-96aa-a01b60d0ef0e",
     "showTitle": false,
     "title": ""
    }
   },
   "outputs": [
    {
     "output_type": "display_data",
     "data": {
      "text/html": [
       "<style scoped>\n",
       "  .table-result-container {\n",
       "    max-height: 300px;\n",
       "    overflow: auto;\n",
       "  }\n",
       "  table, th, td {\n",
       "    border: 1px solid black;\n",
       "    border-collapse: collapse;\n",
       "  }\n",
       "  th, td {\n",
       "    padding: 5px;\n",
       "  }\n",
       "  th {\n",
       "    text-align: left;\n",
       "  }\n",
       "</style><div class='table-result-container'><table class='table-result'><thead style='background-color: white'><tr><th>player_id</th><th>player_name</th><th>grand_slams_count</th></tr></thead><tbody><tr><td>3</td><td>Novak</td><td>4</td></tr><tr><td>2</td><td>Federer</td><td>3</td></tr><tr><td>1</td><td>Nadal</td><td>5</td></tr></tbody></table></div>"
      ]
     },
     "metadata": {
      "application/vnd.databricks.v1+output": {
       "addedWidgets": {},
       "aggData": [],
       "aggError": "",
       "aggOverflow": false,
       "aggSchema": [],
       "aggSeriesLimitReached": false,
       "aggType": "",
       "arguments": {},
       "columnCustomDisplayInfos": {},
       "data": [
        [
         3,
         "Novak",
         4
        ],
        [
         2,
         "Federer",
         3
        ],
        [
         1,
         "Nadal",
         5
        ]
       ],
       "datasetInfos": [],
       "dbfsResultPath": null,
       "isJsonSchema": true,
       "metadata": {},
       "overflow": false,
       "plotOptions": {
        "customPlotOptions": {},
        "displayType": "table",
        "pivotAggregation": null,
        "pivotColumns": null,
        "xColumns": null,
        "yColumns": null
       },
       "removedWidgets": [],
       "schema": [
        {
         "metadata": "{}",
         "name": "player_id",
         "type": "\"long\""
        },
        {
         "metadata": "{}",
         "name": "player_name",
         "type": "\"string\""
        },
        {
         "metadata": "{}",
         "name": "grand_slams_count",
         "type": "\"long\""
        }
       ],
       "type": "table"
      }
     },
     "output_type": "display_data"
    }
   ],
   "source": [
    "%sql\n",
    "select \n",
    "p.player_id,p.player_name,\n",
    "sum(\n",
    "(case when c.wimbeldon=p.player_id then 1 else 0 end) +\n",
    "(case when c.fr_open=p.player_id then 1 else 0 end) +\n",
    "(case when c.us_open=p.player_id then 1 else 0 end) +\n",
    "(case when c.au_open=p.player_id then 1 else 0 end)\n",
    ") as grand_slams_count\n",
    "from players p\n",
    "join championships c\n",
    "on p.player_id IN (c.wimbeldon, c.fr_open, c.us_open, c.au_open)\n",
    "group by 1,2 --i.e. grouping by p.player_id and p.player_name\n",
    "order by p.player_id desc\n",
    "\n"
   ]
  }
 ],
 "metadata": {
  "application/vnd.databricks.v1+notebook": {
   "dashboards": [],
   "environmentMetadata": null,
   "language": "python",
   "notebookMetadata": {
    "mostRecentlyExecutedCommandWithImplicitDF": {
     "commandId": 1682998425992642,
     "dataframes": [
      "_sqldf"
     ]
    },
    "pythonIndentUnit": 4
   },
   "notebookName": "10.grand_slam_titles",
   "widgets": {}
  }
 },
 "nbformat": 4,
 "nbformat_minor": 0
}
