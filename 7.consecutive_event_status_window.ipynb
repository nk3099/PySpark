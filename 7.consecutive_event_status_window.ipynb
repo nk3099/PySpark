{
 "cells": [
  {
   "cell_type": "code",
   "execution_count": 0,
   "metadata": {
    "application/vnd.databricks.v1+cell": {
     "cellMetadata": {
      "byteLimit": 2048000,
      "rowLimit": 10000
     },
     "inputWidgets": {},
     "nuid": "a88a0495-7f62-46e2-8467-26eacf952550",
     "showTitle": false,
     "title": ""
    }
   },
   "outputs": [
    {
     "output_type": "display_data",
     "data": {
      "text/html": [
       "<style scoped>\n",
       "  .table-result-container {\n",
       "    max-height: 300px;\n",
       "    overflow: auto;\n",
       "  }\n",
       "  table, th, td {\n",
       "    border: 1px solid black;\n",
       "    border-collapse: collapse;\n",
       "  }\n",
       "  th, td {\n",
       "    padding: 5px;\n",
       "  }\n",
       "  th {\n",
       "    text-align: left;\n",
       "  }\n",
       "</style><div class='table-result-container'><table class='table-result'><thead style='background-color: white'><tr><th>event_date</th><th>event_status</th></tr></thead><tbody><tr><td>2020-06-01</td><td>Won</td></tr><tr><td>2020-06-02</td><td>Won</td></tr><tr><td>2020-06-03</td><td>Won</td></tr><tr><td>2020-06-04</td><td>Lost</td></tr><tr><td>2020-06-05</td><td>Lost</td></tr><tr><td>2020-06-06</td><td>Lost</td></tr><tr><td>2020-06-07</td><td>Won</td></tr></tbody></table></div>"
      ]
     },
     "metadata": {
      "application/vnd.databricks.v1+output": {
       "addedWidgets": {},
       "aggData": [],
       "aggError": "",
       "aggOverflow": false,
       "aggSchema": [],
       "aggSeriesLimitReached": false,
       "aggType": "",
       "arguments": {},
       "columnCustomDisplayInfos": {},
       "data": [
        [
         "2020-06-01",
         "Won"
        ],
        [
         "2020-06-02",
         "Won"
        ],
        [
         "2020-06-03",
         "Won"
        ],
        [
         "2020-06-04",
         "Lost"
        ],
        [
         "2020-06-05",
         "Lost"
        ],
        [
         "2020-06-06",
         "Lost"
        ],
        [
         "2020-06-07",
         "Won"
        ]
       ],
       "datasetInfos": [],
       "dbfsResultPath": null,
       "isJsonSchema": true,
       "metadata": {},
       "overflow": false,
       "plotOptions": {
        "customPlotOptions": {},
        "displayType": "table",
        "pivotAggregation": null,
        "pivotColumns": null,
        "xColumns": null,
        "yColumns": null
       },
       "removedWidgets": [],
       "schema": [
        {
         "metadata": "{}",
         "name": "event_date",
         "type": "\"date\""
        },
        {
         "metadata": "{}",
         "name": "event_status",
         "type": "\"string\""
        }
       ],
       "type": "table"
      }
     },
     "output_type": "display_data"
    }
   ],
   "source": [
    "#Find Start and End date for each Consecutive Event Status Window\n",
    "\n",
    "from pyspark.sql.functions import *\n",
    "\n",
    "#create the input DataFrame\n",
    "\n",
    "data=[\n",
    "(\"2020-06-01\",\"Won\"),\n",
    "(\"2020-06-02\",\"Won\"),\n",
    "(\"2020-06-03\",\"Won\"),\n",
    "(\"2020-06-04\",\"Lost\"),\n",
    "(\"2020-06-05\",\"Lost\"),\n",
    "(\"2020-06-06\",\"Lost\"),\n",
    "(\"2020-06-07\",\"Won\")\n",
    "]\n",
    "\n",
    "df=spark.createDataFrame(data,[\"event_date\",\"event_status\"])\n",
    "\n",
    "#convert the event date column to date type\n",
    "df=df.withColumn(\"event_date\",to_date(col(\"event_date\")))\n",
    "\n",
    "df.display()"
   ]
  },
  {
   "cell_type": "code",
   "execution_count": 0,
   "metadata": {
    "application/vnd.databricks.v1+cell": {
     "cellMetadata": {
      "byteLimit": 2048000,
      "rowLimit": 10000
     },
     "inputWidgets": {},
     "nuid": "48a83a5f-4a36-4ba5-bac9-f0ede1521d69",
     "showTitle": false,
     "title": ""
    }
   },
   "outputs": [
    {
     "output_type": "display_data",
     "data": {
      "text/html": [
       "<style scoped>\n",
       "  .table-result-container {\n",
       "    max-height: 300px;\n",
       "    overflow: auto;\n",
       "  }\n",
       "  table, th, td {\n",
       "    border: 1px solid black;\n",
       "    border-collapse: collapse;\n",
       "  }\n",
       "  th, td {\n",
       "    padding: 5px;\n",
       "  }\n",
       "  th {\n",
       "    text-align: left;\n",
       "  }\n",
       "</style><div class='table-result-container'><table class='table-result'><thead style='background-color: white'><tr><th>event_date</th><th>event_status</th><th>event_change</th></tr></thead><tbody><tr><td>2020-06-01</td><td>Won</td><td>0</td></tr><tr><td>2020-06-02</td><td>Won</td><td>0</td></tr><tr><td>2020-06-03</td><td>Won</td><td>0</td></tr><tr><td>2020-06-04</td><td>Lost</td><td>1</td></tr><tr><td>2020-06-05</td><td>Lost</td><td>0</td></tr><tr><td>2020-06-06</td><td>Lost</td><td>0</td></tr><tr><td>2020-06-07</td><td>Won</td><td>1</td></tr></tbody></table></div>"
      ]
     },
     "metadata": {
      "application/vnd.databricks.v1+output": {
       "addedWidgets": {},
       "aggData": [],
       "aggError": "",
       "aggOverflow": false,
       "aggSchema": [],
       "aggSeriesLimitReached": false,
       "aggType": "",
       "arguments": {},
       "columnCustomDisplayInfos": {},
       "data": [
        [
         "2020-06-01",
         "Won",
         0
        ],
        [
         "2020-06-02",
         "Won",
         0
        ],
        [
         "2020-06-03",
         "Won",
         0
        ],
        [
         "2020-06-04",
         "Lost",
         1
        ],
        [
         "2020-06-05",
         "Lost",
         0
        ],
        [
         "2020-06-06",
         "Lost",
         0
        ],
        [
         "2020-06-07",
         "Won",
         1
        ]
       ],
       "datasetInfos": [],
       "dbfsResultPath": null,
       "isJsonSchema": true,
       "metadata": {},
       "overflow": false,
       "plotOptions": {
        "customPlotOptions": {},
        "displayType": "table",
        "pivotAggregation": null,
        "pivotColumns": null,
        "xColumns": null,
        "yColumns": null
       },
       "removedWidgets": [],
       "schema": [
        {
         "metadata": "{}",
         "name": "event_date",
         "type": "\"date\""
        },
        {
         "metadata": "{}",
         "name": "event_status",
         "type": "\"string\""
        },
        {
         "metadata": "{}",
         "name": "event_change",
         "type": "\"integer\""
        }
       ],
       "type": "table"
      }
     },
     "output_type": "display_data"
    }
   ],
   "source": [
    "from pyspark.sql.window import Window\n",
    "\n",
    "#find event changing row\n",
    "#ie. create a column \"event_change\" to identify changes in the event_name\n",
    "\n",
    "from pyspark.sql.window import Window\n",
    " \n",
    "df1 = df.withColumn(\"event_change\",when(col(\"event_status\")!=lag(\"event_status\",1).over(Window.orderBy(\"event_date\")),1).otherwise(0))\n",
    "\n",
    "df1.display()"
   ]
  },
  {
   "cell_type": "code",
   "execution_count": 0,
   "metadata": {
    "application/vnd.databricks.v1+cell": {
     "cellMetadata": {
      "byteLimit": 2048000,
      "rowLimit": 10000
     },
     "inputWidgets": {},
     "nuid": "9787158d-bbb7-4609-8f38-3f374bd2fe1b",
     "showTitle": false,
     "title": ""
    }
   },
   "outputs": [
    {
     "output_type": "display_data",
     "data": {
      "text/html": [
       "<style scoped>\n",
       "  .table-result-container {\n",
       "    max-height: 300px;\n",
       "    overflow: auto;\n",
       "  }\n",
       "  table, th, td {\n",
       "    border: 1px solid black;\n",
       "    border-collapse: collapse;\n",
       "  }\n",
       "  th, td {\n",
       "    padding: 5px;\n",
       "  }\n",
       "  th {\n",
       "    text-align: left;\n",
       "  }\n",
       "</style><div class='table-result-container'><table class='table-result'><thead style='background-color: white'><tr><th>event_date</th><th>event_status</th><th>prev_status</th><th>event_change</th></tr></thead><tbody><tr><td>2020-06-01</td><td>Won</td><td>null</td><td>0</td></tr><tr><td>2020-06-02</td><td>Won</td><td>Won</td><td>0</td></tr><tr><td>2020-06-03</td><td>Won</td><td>Won</td><td>0</td></tr><tr><td>2020-06-04</td><td>Lost</td><td>Won</td><td>1</td></tr><tr><td>2020-06-05</td><td>Lost</td><td>Lost</td><td>0</td></tr><tr><td>2020-06-06</td><td>Lost</td><td>Lost</td><td>0</td></tr><tr><td>2020-06-07</td><td>Won</td><td>Lost</td><td>1</td></tr></tbody></table></div>"
      ]
     },
     "metadata": {
      "application/vnd.databricks.v1+output": {
       "addedWidgets": {},
       "aggData": [],
       "aggError": "",
       "aggOverflow": false,
       "aggSchema": [],
       "aggSeriesLimitReached": false,
       "aggType": "",
       "arguments": {},
       "columnCustomDisplayInfos": {},
       "data": [
        [
         "2020-06-01",
         "Won",
         null,
         0
        ],
        [
         "2020-06-02",
         "Won",
         "Won",
         0
        ],
        [
         "2020-06-03",
         "Won",
         "Won",
         0
        ],
        [
         "2020-06-04",
         "Lost",
         "Won",
         1
        ],
        [
         "2020-06-05",
         "Lost",
         "Lost",
         0
        ],
        [
         "2020-06-06",
         "Lost",
         "Lost",
         0
        ],
        [
         "2020-06-07",
         "Won",
         "Lost",
         1
        ]
       ],
       "datasetInfos": [],
       "dbfsResultPath": null,
       "isJsonSchema": true,
       "metadata": {},
       "overflow": false,
       "plotOptions": {
        "customPlotOptions": {},
        "displayType": "table",
        "pivotAggregation": null,
        "pivotColumns": null,
        "xColumns": null,
        "yColumns": null
       },
       "removedWidgets": [],
       "schema": [
        {
         "metadata": "{}",
         "name": "event_date",
         "type": "\"date\""
        },
        {
         "metadata": "{}",
         "name": "event_status",
         "type": "\"string\""
        },
        {
         "metadata": "{}",
         "name": "prev_status",
         "type": "\"string\""
        },
        {
         "metadata": "{}",
         "name": "event_change",
         "type": "\"integer\""
        }
       ],
       "type": "table"
      }
     },
     "output_type": "display_data"
    }
   ],
   "source": [
    "#or\n",
    "windowSpec=Window.orderBy(\"event_date\")\n",
    "\n",
    "df1 = df.withColumn(\"prev_status\",lag(\"event_status\",1).over(windowSpec))\n",
    "\n",
    "df1 = df1.withColumn(\"event_change\",when(col(\"event_status\")!=col(\"prev_status\"),1).otherwise(0))\n",
    "\n",
    "df1.display()\n"
   ]
  },
  {
   "cell_type": "code",
   "execution_count": 0,
   "metadata": {
    "application/vnd.databricks.v1+cell": {
     "cellMetadata": {
      "byteLimit": 2048000,
      "rowLimit": 10000
     },
     "inputWidgets": {},
     "nuid": "1d3eba39-cc38-4bf3-8ff2-d39af43f1ea6",
     "showTitle": false,
     "title": ""
    }
   },
   "outputs": [
    {
     "output_type": "display_data",
     "data": {
      "text/html": [
       "<style scoped>\n",
       "  .table-result-container {\n",
       "    max-height: 300px;\n",
       "    overflow: auto;\n",
       "  }\n",
       "  table, th, td {\n",
       "    border: 1px solid black;\n",
       "    border-collapse: collapse;\n",
       "  }\n",
       "  th, td {\n",
       "    padding: 5px;\n",
       "  }\n",
       "  th {\n",
       "    text-align: left;\n",
       "  }\n",
       "</style><div class='table-result-container'><table class='table-result'><thead style='background-color: white'><tr><th>event_date</th><th>event_status</th><th>prev_status</th><th>event_change</th><th>event_group</th></tr></thead><tbody><tr><td>2020-06-01</td><td>Won</td><td>null</td><td>0</td><td>0</td></tr><tr><td>2020-06-02</td><td>Won</td><td>Won</td><td>0</td><td>0</td></tr><tr><td>2020-06-03</td><td>Won</td><td>Won</td><td>0</td><td>0</td></tr><tr><td>2020-06-04</td><td>Lost</td><td>Won</td><td>1</td><td>1</td></tr><tr><td>2020-06-05</td><td>Lost</td><td>Lost</td><td>0</td><td>1</td></tr><tr><td>2020-06-06</td><td>Lost</td><td>Lost</td><td>0</td><td>1</td></tr><tr><td>2020-06-07</td><td>Won</td><td>Lost</td><td>1</td><td>2</td></tr></tbody></table></div>"
      ]
     },
     "metadata": {
      "application/vnd.databricks.v1+output": {
       "addedWidgets": {},
       "aggData": [],
       "aggError": "",
       "aggOverflow": false,
       "aggSchema": [],
       "aggSeriesLimitReached": false,
       "aggType": "",
       "arguments": {},
       "columnCustomDisplayInfos": {},
       "data": [
        [
         "2020-06-01",
         "Won",
         null,
         0,
         0
        ],
        [
         "2020-06-02",
         "Won",
         "Won",
         0,
         0
        ],
        [
         "2020-06-03",
         "Won",
         "Won",
         0,
         0
        ],
        [
         "2020-06-04",
         "Lost",
         "Won",
         1,
         1
        ],
        [
         "2020-06-05",
         "Lost",
         "Lost",
         0,
         1
        ],
        [
         "2020-06-06",
         "Lost",
         "Lost",
         0,
         1
        ],
        [
         "2020-06-07",
         "Won",
         "Lost",
         1,
         2
        ]
       ],
       "datasetInfos": [],
       "dbfsResultPath": null,
       "isJsonSchema": true,
       "metadata": {},
       "overflow": false,
       "plotOptions": {
        "customPlotOptions": {},
        "displayType": "table",
        "pivotAggregation": null,
        "pivotColumns": null,
        "xColumns": null,
        "yColumns": null
       },
       "removedWidgets": [],
       "schema": [
        {
         "metadata": "{}",
         "name": "event_date",
         "type": "\"date\""
        },
        {
         "metadata": "{}",
         "name": "event_status",
         "type": "\"string\""
        },
        {
         "metadata": "{}",
         "name": "prev_status",
         "type": "\"string\""
        },
        {
         "metadata": "{}",
         "name": "event_change",
         "type": "\"integer\""
        },
        {
         "metadata": "{}",
         "name": "event_group",
         "type": "\"long\""
        }
       ],
       "type": "table"
      }
     },
     "output_type": "display_data"
    }
   ],
   "source": [
    "#create a column \"event_group\" based on the cumulativ sum of event_change column\n",
    "\n",
    "#ie. running sum for event_change column: \n",
    "df2 = df1.withColumn(\"event_group\",sum(\"event_change\").over(Window.orderBy(\"event_date\")))\n",
    "df2.display()\n"
   ]
  },
  {
   "cell_type": "code",
   "execution_count": 0,
   "metadata": {
    "application/vnd.databricks.v1+cell": {
     "cellMetadata": {
      "byteLimit": 2048000,
      "rowLimit": 10000
     },
     "inputWidgets": {},
     "nuid": "73e865ef-b9d6-48a7-bdde-576c0681a211",
     "showTitle": false,
     "title": ""
    }
   },
   "outputs": [
    {
     "output_type": "display_data",
     "data": {
      "text/html": [
       "<style scoped>\n",
       "  .table-result-container {\n",
       "    max-height: 300px;\n",
       "    overflow: auto;\n",
       "  }\n",
       "  table, th, td {\n",
       "    border: 1px solid black;\n",
       "    border-collapse: collapse;\n",
       "  }\n",
       "  th, td {\n",
       "    padding: 5px;\n",
       "  }\n",
       "  th {\n",
       "    text-align: left;\n",
       "  }\n",
       "</style><div class='table-result-container'><table class='table-result'><thead style='background-color: white'><tr><th>event_status</th><th>start_date</th><th>end_date</th></tr></thead><tbody><tr><td>Won</td><td>2020-06-01</td><td>2020-06-03</td></tr><tr><td>Lost</td><td>2020-06-04</td><td>2020-06-06</td></tr><tr><td>Won</td><td>2020-06-07</td><td>2020-06-07</td></tr></tbody></table></div>"
      ]
     },
     "metadata": {
      "application/vnd.databricks.v1+output": {
       "addedWidgets": {},
       "aggData": [],
       "aggError": "",
       "aggOverflow": false,
       "aggSchema": [],
       "aggSeriesLimitReached": false,
       "aggType": "",
       "arguments": {},
       "columnCustomDisplayInfos": {},
       "data": [
        [
         "Won",
         "2020-06-01",
         "2020-06-03"
        ],
        [
         "Lost",
         "2020-06-04",
         "2020-06-06"
        ],
        [
         "Won",
         "2020-06-07",
         "2020-06-07"
        ]
       ],
       "datasetInfos": [],
       "dbfsResultPath": null,
       "isJsonSchema": true,
       "metadata": {},
       "overflow": false,
       "plotOptions": {
        "customPlotOptions": {},
        "displayType": "table",
        "pivotAggregation": null,
        "pivotColumns": null,
        "xColumns": null,
        "yColumns": null
       },
       "removedWidgets": [],
       "schema": [
        {
         "metadata": "{}",
         "name": "event_status",
         "type": "\"string\""
        },
        {
         "metadata": "{}",
         "name": "start_date",
         "type": "\"date\""
        },
        {
         "metadata": "{}",
         "name": "end_date",
         "type": "\"date\""
        }
       ],
       "type": "table"
      }
     },
     "output_type": "display_data"
    }
   ],
   "source": [
    "#First & Last Window Function : Calculate Event Start and End Date\n",
    "\n",
    "output_df = df2.groupBy(\"event_group\",\"event_status\") \\\n",
    "               .agg(first(\"event_date\").alias(\"start_date\"), last(\"event_date\").alias(\"end_date\")) \\\n",
    "               .drop(\"event_group\") #dropping unwanted column\n",
    "\n",
    "output_df.display()"
   ]
  },
  {
   "cell_type": "code",
   "execution_count": 0,
   "metadata": {
    "application/vnd.databricks.v1+cell": {
     "cellMetadata": {
      "byteLimit": 2048000,
      "rowLimit": 10000
     },
     "inputWidgets": {},
     "nuid": "93df1622-b157-4d60-a9c8-f5eb68b150d5",
     "showTitle": false,
     "title": ""
    }
   },
   "outputs": [
    {
     "output_type": "display_data",
     "data": {
      "text/html": [
       "<style scoped>\n",
       "  .table-result-container {\n",
       "    max-height: 300px;\n",
       "    overflow: auto;\n",
       "  }\n",
       "  table, th, td {\n",
       "    border: 1px solid black;\n",
       "    border-collapse: collapse;\n",
       "  }\n",
       "  th, td {\n",
       "    padding: 5px;\n",
       "  }\n",
       "  th {\n",
       "    text-align: left;\n",
       "  }\n",
       "</style><div class='table-result-container'><table class='table-result'><thead style='background-color: white'><tr><th>event_status</th><th>start_date</th><th>end_date</th></tr></thead><tbody><tr><td>Won</td><td>2020-06-01</td><td>2020-06-03</td></tr><tr><td>Lost</td><td>2020-06-04</td><td>2020-06-06</td></tr><tr><td>Won</td><td>2020-06-07</td><td>2020-06-07</td></tr></tbody></table></div>"
      ]
     },
     "metadata": {
      "application/vnd.databricks.v1+output": {
       "addedWidgets": {},
       "aggData": [],
       "aggError": "",
       "aggOverflow": false,
       "aggSchema": [],
       "aggSeriesLimitReached": false,
       "aggType": "",
       "arguments": {},
       "columnCustomDisplayInfos": {},
       "data": [
        [
         "Won",
         "2020-06-01",
         "2020-06-03"
        ],
        [
         "Lost",
         "2020-06-04",
         "2020-06-06"
        ],
        [
         "Won",
         "2020-06-07",
         "2020-06-07"
        ]
       ],
       "datasetInfos": [],
       "dbfsResultPath": null,
       "isJsonSchema": true,
       "metadata": {},
       "overflow": false,
       "plotOptions": {
        "customPlotOptions": {},
        "displayType": "table",
        "pivotAggregation": null,
        "pivotColumns": null,
        "xColumns": null,
        "yColumns": null
       },
       "removedWidgets": [],
       "schema": [
        {
         "metadata": "{}",
         "name": "event_status",
         "type": "\"string\""
        },
        {
         "metadata": "{}",
         "name": "start_date",
         "type": "\"date\""
        },
        {
         "metadata": "{}",
         "name": "end_date",
         "type": "\"date\""
        }
       ],
       "type": "table"
      }
     },
     "output_type": "display_data"
    }
   ],
   "source": [
    "#or\n",
    "\n",
    "output_df = df2.groupBy(\"event_group\",\"event_status\") \\\n",
    "               .agg(min(\"event_date\").alias(\"start_date\"), max(\"event_date\").alias(\"end_date\")) \\\n",
    "               .drop(\"event_group\") #dropping unwanted column\n",
    "\n",
    "output_df.display()"
   ]
  },
  {
   "cell_type": "markdown",
   "metadata": {
    "application/vnd.databricks.v1+cell": {
     "cellMetadata": {},
     "inputWidgets": {},
     "nuid": "dd54f7ac-8bc7-4f29-b7aa-e405e59cc012",
     "showTitle": false,
     "title": ""
    }
   },
   "source": [
    "##Using SPARK SQL"
   ]
  },
  {
   "cell_type": "code",
   "execution_count": 0,
   "metadata": {
    "application/vnd.databricks.v1+cell": {
     "cellMetadata": {
      "byteLimit": 2048000,
      "rowLimit": 10000
     },
     "inputWidgets": {},
     "nuid": "70e85f7d-77b0-405e-85de-4481066c4b9f",
     "showTitle": false,
     "title": ""
    }
   },
   "outputs": [],
   "source": [
    "#convert dataframe to TempView\n",
    "\n",
    "df.createOrReplaceTempView(\"events\")"
   ]
  },
  {
   "cell_type": "code",
   "execution_count": 0,
   "metadata": {
    "application/vnd.databricks.v1+cell": {
     "cellMetadata": {
      "byteLimit": 2048000,
      "implicitDf": true,
      "rowLimit": 10000
     },
     "inputWidgets": {},
     "nuid": "55c6dacf-722e-4d88-baf7-0ddb191f14ab",
     "showTitle": false,
     "title": ""
    }
   },
   "outputs": [
    {
     "output_type": "display_data",
     "data": {
      "text/html": [
       "<style scoped>\n",
       "  .table-result-container {\n",
       "    max-height: 300px;\n",
       "    overflow: auto;\n",
       "  }\n",
       "  table, th, td {\n",
       "    border: 1px solid black;\n",
       "    border-collapse: collapse;\n",
       "  }\n",
       "  th, td {\n",
       "    padding: 5px;\n",
       "  }\n",
       "  th {\n",
       "    text-align: left;\n",
       "  }\n",
       "</style><div class='table-result-container'><table class='table-result'><thead style='background-color: white'><tr><th>event_status</th><th>start_date</th><th>end_date</th></tr></thead><tbody><tr><td>Won</td><td>2020-06-01</td><td>2020-06-03</td></tr><tr><td>Lost</td><td>2020-06-04</td><td>2020-06-06</td></tr><tr><td>Won</td><td>2020-06-07</td><td>2020-06-07</td></tr></tbody></table></div>"
      ]
     },
     "metadata": {
      "application/vnd.databricks.v1+output": {
       "addedWidgets": {},
       "aggData": [],
       "aggError": "",
       "aggOverflow": false,
       "aggSchema": [],
       "aggSeriesLimitReached": false,
       "aggType": "",
       "arguments": {},
       "columnCustomDisplayInfos": {},
       "data": [
        [
         "Won",
         "2020-06-01",
         "2020-06-03"
        ],
        [
         "Lost",
         "2020-06-04",
         "2020-06-06"
        ],
        [
         "Won",
         "2020-06-07",
         "2020-06-07"
        ]
       ],
       "datasetInfos": [],
       "dbfsResultPath": null,
       "isJsonSchema": true,
       "metadata": {},
       "overflow": false,
       "plotOptions": {
        "customPlotOptions": {},
        "displayType": "table",
        "pivotAggregation": null,
        "pivotColumns": null,
        "xColumns": null,
        "yColumns": null
       },
       "removedWidgets": [],
       "schema": [
        {
         "metadata": "{}",
         "name": "event_status",
         "type": "\"string\""
        },
        {
         "metadata": "{}",
         "name": "start_date",
         "type": "\"date\""
        },
        {
         "metadata": "{}",
         "name": "end_date",
         "type": "\"date\""
        }
       ],
       "type": "table"
      }
     },
     "output_type": "display_data"
    }
   ],
   "source": [
    "%sql\n",
    "\n",
    "with cte1 as (\n",
    "  select event_date,event_status,\n",
    "  lag(event_status,1) over (order by event_date) as prev_event,\n",
    "  case\n",
    "   when event_status!=lag(event_status,1) over (order by event_date) then 1 else 0\n",
    "  end as event_change\n",
    "  from events\n",
    "),\n",
    "cte2 as (\n",
    "  select event_date,event_status,prev_event,event_change,\n",
    "  sum(event_change) over (order by event_date) as event_group\n",
    "  from cte1\n",
    ")\n",
    "\n",
    "select event_status,min(event_date) as start_date, max(event_date) as end_date\n",
    "from cte2\n",
    "group by event_group,event_status\n"
   ]
  },
  {
   "cell_type": "code",
   "execution_count": 0,
   "metadata": {
    "application/vnd.databricks.v1+cell": {
     "cellMetadata": {
      "byteLimit": 2048000,
      "implicitDf": true,
      "rowLimit": 10000
     },
     "inputWidgets": {},
     "nuid": "00775820-0675-4db4-8b39-157cabff83ba",
     "showTitle": false,
     "title": ""
    }
   },
   "outputs": [
    {
     "output_type": "display_data",
     "data": {
      "text/html": [
       "<style scoped>\n",
       "  .table-result-container {\n",
       "    max-height: 300px;\n",
       "    overflow: auto;\n",
       "  }\n",
       "  table, th, td {\n",
       "    border: 1px solid black;\n",
       "    border-collapse: collapse;\n",
       "  }\n",
       "  th, td {\n",
       "    padding: 5px;\n",
       "  }\n",
       "  th {\n",
       "    text-align: left;\n",
       "  }\n",
       "</style><div class='table-result-container'><table class='table-result'><thead style='background-color: white'><tr><th>event_status</th><th>start_date</th><th>end_date</th></tr></thead><tbody><tr><td>Won</td><td>2020-06-01</td><td>2020-06-03</td></tr><tr><td>Lost</td><td>2020-06-04</td><td>2020-06-06</td></tr><tr><td>Won</td><td>2020-06-07</td><td>2020-06-07</td></tr></tbody></table></div>"
      ]
     },
     "metadata": {
      "application/vnd.databricks.v1+output": {
       "addedWidgets": {},
       "aggData": [],
       "aggError": "",
       "aggOverflow": false,
       "aggSchema": [],
       "aggSeriesLimitReached": false,
       "aggType": "",
       "arguments": {},
       "columnCustomDisplayInfos": {},
       "data": [
        [
         "Won",
         "2020-06-01",
         "2020-06-03"
        ],
        [
         "Lost",
         "2020-06-04",
         "2020-06-06"
        ],
        [
         "Won",
         "2020-06-07",
         "2020-06-07"
        ]
       ],
       "datasetInfos": [],
       "dbfsResultPath": null,
       "isJsonSchema": true,
       "metadata": {},
       "overflow": false,
       "plotOptions": {
        "customPlotOptions": {},
        "displayType": "table",
        "pivotAggregation": null,
        "pivotColumns": null,
        "xColumns": null,
        "yColumns": null
       },
       "removedWidgets": [],
       "schema": [
        {
         "metadata": "{}",
         "name": "event_status",
         "type": "\"string\""
        },
        {
         "metadata": "{}",
         "name": "start_date",
         "type": "\"date\""
        },
        {
         "metadata": "{}",
         "name": "end_date",
         "type": "\"date\""
        }
       ],
       "type": "table"
      }
     },
     "output_type": "display_data"
    }
   ],
   "source": [
    "%sql\n",
    "\n",
    "--or--\n",
    "--using First and Last \n",
    "\n",
    "with cte1 as (\n",
    "  select event_date,event_status,\n",
    "  lag(event_status,1) over (order by event_date) as prev_event,\n",
    "  case\n",
    "   when event_status!=lag(event_status,1) over (order by event_date) then 1 else 0\n",
    "  end as event_change\n",
    "  from events\n",
    "),\n",
    "cte2 as (\n",
    "  select event_date,event_status,prev_event,event_change,\n",
    "  sum(event_change) over (order by event_date) as event_group\n",
    "  from cte1\n",
    ")\n",
    "\n",
    "select event_status,first(event_date) as start_date, last(event_date) as end_date\n",
    "from cte2\n",
    "group by event_group,event_status"
   ]
  },
  {
   "cell_type": "code",
   "execution_count": 0,
   "metadata": {
    "application/vnd.databricks.v1+cell": {
     "cellMetadata": {},
     "inputWidgets": {},
     "nuid": "594475b1-1423-41f5-871b-fdcaa0712391",
     "showTitle": false,
     "title": ""
    }
   },
   "outputs": [],
   "source": []
  }
 ],
 "metadata": {
  "application/vnd.databricks.v1+notebook": {
   "dashboards": [],
   "environmentMetadata": null,
   "language": "python",
   "notebookMetadata": {
    "mostRecentlyExecutedCommandWithImplicitDF": {
     "commandId": 2369326855192641,
     "dataframes": [
      "_sqldf"
     ]
    },
    "pythonIndentUnit": 4
   },
   "notebookName": "7.consecutive_event_status_window",
   "widgets": {}
  }
 },
 "nbformat": 4,
 "nbformat_minor": 0
}
