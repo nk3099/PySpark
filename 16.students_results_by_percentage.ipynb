{
 "cells": [
  {
   "cell_type": "markdown",
   "metadata": {
    "application/vnd.databricks.v1+cell": {
     "cellMetadata": {},
     "inputWidgets": {},
     "nuid": "475d605e-37aa-4ea5-a289-2032eeda8866",
     "showTitle": false,
     "tableResultSettingsMap": {},
     "title": ""
    }
   },
   "source": [
    "calculate the % marks for each student. for each subject is of 100 marks. \n",
    "\n",
    "create a result column by following the below condition: \n",
    "1. % marks greater than or equal to 70 then 'Distinction' \n",
    "2. % marks range between 60-69 then  'First Class' \n",
    "3. % marks range between 50-59 then 'Second Class' \n",
    "4. % marks range between 40-49 then 'Third Class' \n",
    "5. % marks less than or equal to 39 then 'Fail'"
   ]
  },
  {
   "cell_type": "code",
   "execution_count": 0,
   "metadata": {
    "application/vnd.databricks.v1+cell": {
     "cellMetadata": {
      "byteLimit": 2048000,
      "rowLimit": 10000
     },
     "inputWidgets": {},
     "nuid": "62bae23f-f163-4527-83e1-da8a3ca281f3",
     "showTitle": false,
     "tableResultSettingsMap": {},
     "title": ""
    }
   },
   "outputs": [
    {
     "output_type": "display_data",
     "data": {
      "text/html": [
       "<style scoped>\n",
       "  .table-result-container {\n",
       "    max-height: 300px;\n",
       "    overflow: auto;\n",
       "  }\n",
       "  table, th, td {\n",
       "    border: 1px solid black;\n",
       "    border-collapse: collapse;\n",
       "  }\n",
       "  th, td {\n",
       "    padding: 5px;\n",
       "  }\n",
       "  th {\n",
       "    text-align: left;\n",
       "  }\n",
       "</style><div class='table-result-container'><table class='table-result'><thead style='background-color: white'><tr><th>Id</th><th>Name</th></tr></thead><tbody><tr><td>1</td><td>Steve</td></tr><tr><td>2</td><td>David</td></tr><tr><td>3</td><td>John</td></tr><tr><td>4</td><td>Shree</td></tr><tr><td>5</td><td>Helen</td></tr></tbody></table></div>"
      ]
     },
     "metadata": {
      "application/vnd.databricks.v1+output": {
       "addedWidgets": {},
       "aggData": [],
       "aggError": "",
       "aggOverflow": false,
       "aggSchema": [],
       "aggSeriesLimitReached": false,
       "aggType": "",
       "arguments": {},
       "columnCustomDisplayInfos": {},
       "data": [
        [
         1,
         "Steve"
        ],
        [
         2,
         "David"
        ],
        [
         3,
         "John"
        ],
        [
         4,
         "Shree"
        ],
        [
         5,
         "Helen"
        ]
       ],
       "datasetInfos": [],
       "dbfsResultPath": null,
       "isJsonSchema": true,
       "metadata": {},
       "overflow": false,
       "plotOptions": {
        "customPlotOptions": {},
        "displayType": "table",
        "pivotAggregation": null,
        "pivotColumns": null,
        "xColumns": null,
        "yColumns": null
       },
       "removedWidgets": [],
       "schema": [
        {
         "metadata": "{}",
         "name": "Id",
         "type": "\"long\""
        },
        {
         "metadata": "{}",
         "name": "Name",
         "type": "\"string\""
        }
       ],
       "type": "table"
      }
     },
     "output_type": "display_data"
    },
    {
     "output_type": "display_data",
     "data": {
      "text/html": [
       "<style scoped>\n",
       "  .table-result-container {\n",
       "    max-height: 300px;\n",
       "    overflow: auto;\n",
       "  }\n",
       "  table, th, td {\n",
       "    border: 1px solid black;\n",
       "    border-collapse: collapse;\n",
       "  }\n",
       "  th, td {\n",
       "    padding: 5px;\n",
       "  }\n",
       "  th {\n",
       "    text-align: left;\n",
       "  }\n",
       "</style><div class='table-result-container'><table class='table-result'><thead style='background-color: white'><tr><th>Id</th><th>Subject</th><th>Mark</th></tr></thead><tbody><tr><td>1</td><td>SQL</td><td>90</td></tr><tr><td>1</td><td>PySpark</td><td>100</td></tr><tr><td>2</td><td>SQL</td><td>70</td></tr><tr><td>2</td><td>PySpark</td><td>60</td></tr><tr><td>3</td><td>SQL</td><td>30</td></tr><tr><td>3</td><td>PySpark</td><td>50</td></tr><tr><td>5</td><td>SQL</td><td>45</td></tr><tr><td>5</td><td>PySpark</td><td>45</td></tr></tbody></table></div>"
      ]
     },
     "metadata": {
      "application/vnd.databricks.v1+output": {
       "addedWidgets": {},
       "aggData": [],
       "aggError": "",
       "aggOverflow": false,
       "aggSchema": [],
       "aggSeriesLimitReached": false,
       "aggType": "",
       "arguments": {},
       "columnCustomDisplayInfos": {},
       "data": [
        [
         1,
         "SQL",
         90
        ],
        [
         1,
         "PySpark",
         100
        ],
        [
         2,
         "SQL",
         70
        ],
        [
         2,
         "PySpark",
         60
        ],
        [
         3,
         "SQL",
         30
        ],
        [
         3,
         "PySpark",
         50
        ],
        [
         5,
         "SQL",
         45
        ],
        [
         5,
         "PySpark",
         45
        ]
       ],
       "datasetInfos": [],
       "dbfsResultPath": null,
       "isJsonSchema": true,
       "metadata": {},
       "overflow": false,
       "plotOptions": {
        "customPlotOptions": {},
        "displayType": "table",
        "pivotAggregation": null,
        "pivotColumns": null,
        "xColumns": null,
        "yColumns": null
       },
       "removedWidgets": [],
       "schema": [
        {
         "metadata": "{}",
         "name": "Id",
         "type": "\"long\""
        },
        {
         "metadata": "{}",
         "name": "Subject",
         "type": "\"string\""
        },
        {
         "metadata": "{}",
         "name": "Mark",
         "type": "\"long\""
        }
       ],
       "type": "table"
      }
     },
     "output_type": "display_data"
    }
   ],
   "source": [
    "data1=[(1, \"Steve\"), (2, \"David\"), (3, \"John\"), (4, \"Shree\"), (5, \"Helen\" )] \n",
    "data2=[ (1, \"SQL\",90), (1, \"PySpark\",100), (2, \"SQL\",70), (2, \"PySpark\",60), (3, \"SQL\", 30), (3,\"PySpark\", 50), \n",
    "       (5,\"SQL\",45), (5, \"PySpark\", 45)]\n",
    "\n",
    "schema1=[\"Id\",\"Name\" ]\n",
    "schema2=[\"Id\",\"Subject\",\"Mark\"]\n",
    "\n",
    "df1=spark.createDataFrame(data1,schema1)\n",
    "df2=spark.createDataFrame(data2,schema2)\n",
    "\n",
    "display(df1)\n",
    "display(df2)"
   ]
  },
  {
   "cell_type": "code",
   "execution_count": 0,
   "metadata": {
    "application/vnd.databricks.v1+cell": {
     "cellMetadata": {
      "byteLimit": 2048000,
      "rowLimit": 10000
     },
     "inputWidgets": {},
     "nuid": "8e34ffec-5283-4771-a032-39fa36355aae",
     "showTitle": false,
     "tableResultSettingsMap": {},
     "title": ""
    }
   },
   "outputs": [
    {
     "output_type": "stream",
     "name": "stdout",
     "output_type": "stream",
     "text": [
      "+---+-----+-------+----+\n| Id| Name|Subject|Mark|\n+---+-----+-------+----+\n|  1|Steve|    SQL|  90|\n|  1|Steve|PySpark| 100|\n|  2|David|    SQL|  70|\n|  2|David|PySpark|  60|\n|  3| John|    SQL|  30|\n|  3| John|PySpark|  50|\n|  5|Helen|    SQL|  45|\n|  5|Helen|PySpark|  45|\n+---+-----+-------+----+\n\n"
     ]
    }
   ],
   "source": [
    "df_join=df1.join(df2,\"id\",\"inner\")\n",
    "df_join.show()"
   ]
  },
  {
   "cell_type": "code",
   "execution_count": 0,
   "metadata": {
    "application/vnd.databricks.v1+cell": {
     "cellMetadata": {
      "byteLimit": 2048000,
      "rowLimit": 10000
     },
     "inputWidgets": {},
     "nuid": "540f55fe-cd14-44d7-b98b-82cd37700ab9",
     "showTitle": false,
     "tableResultSettingsMap": {},
     "title": ""
    }
   },
   "outputs": [
    {
     "output_type": "stream",
     "name": "stdout",
     "output_type": "stream",
     "text": [
      "+---+-----+-------+----+\n| Id| Name|Subject|Mark|\n+---+-----+-------+----+\n|  1|Steve|    SQL|  90|\n|  1|Steve|PySpark| 100|\n|  2|David|    SQL|  70|\n|  2|David|PySpark|  60|\n|  3| John|    SQL|  30|\n|  3| John|PySpark|  50|\n|  5|Helen|    SQL|  45|\n|  5|Helen|PySpark|  45|\n+---+-----+-------+----+\n\n"
     ]
    }
   ],
   "source": [
    "df_join=df1.join(df2,df1.Id==df2.Id,\"inner\").drop(df2.Id)\n",
    "df_join.show()"
   ]
  },
  {
   "cell_type": "code",
   "execution_count": 0,
   "metadata": {
    "application/vnd.databricks.v1+cell": {
     "cellMetadata": {
      "byteLimit": 2048000,
      "rowLimit": 10000
     },
     "inputWidgets": {},
     "nuid": "52b5ebae-c36f-4c67-85d1-5b3028e40f7d",
     "showTitle": false,
     "tableResultSettingsMap": {},
     "title": ""
    }
   },
   "outputs": [
    {
     "output_type": "stream",
     "name": "stdout",
     "output_type": "stream",
     "text": [
      "+---+-----+----------+\n| Id| Name|percentage|\n+---+-----+----------+\n|  1|Steve|      95.0|\n|  2|David|      65.0|\n|  3| John|      40.0|\n|  5|Helen|      45.0|\n+---+-----+----------+\n\n"
     ]
    }
   ],
   "source": [
    "from pyspark.sql.functions import *\n",
    "df_percent=df_join.groupBy(\"Id\",\"Name\").agg(\n",
    "    (sum(\"Mark\")/count(\"*\")).alias(\"percentage\")\n",
    ")\n",
    "\n",
    "df_percent.show()\n"
   ]
  },
  {
   "cell_type": "code",
   "execution_count": 0,
   "metadata": {
    "application/vnd.databricks.v1+cell": {
     "cellMetadata": {
      "byteLimit": 2048000,
      "rowLimit": 10000
     },
     "inputWidgets": {},
     "nuid": "f3853ecd-0c10-40e8-9208-45b4dd131fd0",
     "showTitle": false,
     "tableResultSettingsMap": {},
     "title": ""
    }
   },
   "outputs": [
    {
     "output_type": "display_data",
     "data": {
      "text/html": [
       "<style scoped>\n",
       "  .table-result-container {\n",
       "    max-height: 300px;\n",
       "    overflow: auto;\n",
       "  }\n",
       "  table, th, td {\n",
       "    border: 1px solid black;\n",
       "    border-collapse: collapse;\n",
       "  }\n",
       "  th, td {\n",
       "    padding: 5px;\n",
       "  }\n",
       "  th {\n",
       "    text-align: left;\n",
       "  }\n",
       "</style><div class='table-result-container'><table class='table-result'><thead style='background-color: white'><tr><th>Id</th><th>Name</th><th>percentage</th><th>Result</th></tr></thead><tbody><tr><td>1</td><td>Steve</td><td>95.0</td><td>Distinction</td></tr><tr><td>2</td><td>David</td><td>65.0</td><td>First Class</td></tr><tr><td>3</td><td>John</td><td>40.0</td><td>Third Class</td></tr><tr><td>5</td><td>Helen</td><td>45.0</td><td>Third Class</td></tr></tbody></table></div>"
      ]
     },
     "metadata": {
      "application/vnd.databricks.v1+output": {
       "addedWidgets": {},
       "aggData": [],
       "aggError": "",
       "aggOverflow": false,
       "aggSchema": [],
       "aggSeriesLimitReached": false,
       "aggType": "",
       "arguments": {},
       "columnCustomDisplayInfos": {},
       "data": [
        [
         1,
         "Steve",
         95.0,
         "Distinction"
        ],
        [
         2,
         "David",
         65.0,
         "First Class"
        ],
        [
         3,
         "John",
         40.0,
         "Third Class"
        ],
        [
         5,
         "Helen",
         45.0,
         "Third Class"
        ]
       ],
       "datasetInfos": [],
       "dbfsResultPath": null,
       "isJsonSchema": true,
       "metadata": {},
       "overflow": false,
       "plotOptions": {
        "customPlotOptions": {},
        "displayType": "table",
        "pivotAggregation": null,
        "pivotColumns": null,
        "xColumns": null,
        "yColumns": null
       },
       "removedWidgets": [],
       "schema": [
        {
         "metadata": "{}",
         "name": "Id",
         "type": "\"long\""
        },
        {
         "metadata": "{}",
         "name": "Name",
         "type": "\"string\""
        },
        {
         "metadata": "{}",
         "name": "percentage",
         "type": "\"double\""
        },
        {
         "metadata": "{}",
         "name": "Result",
         "type": "\"string\""
        }
       ],
       "type": "table"
      }
     },
     "output_type": "display_data"
    }
   ],
   "source": [
    "df_final = df_percent.select(\"*\",\n",
    "                  when (df_percent.percentage>=70,'Distinction')\n",
    "                  .when ((df_percent.percentage<70) & (df_percent.percentage>=60), 'First Class')\n",
    "                  .when ((df_percent.percentage<60) & (df_percent.percentage>=50), 'Second Class')\n",
    "                  .when ((df_percent.percentage<50) & (df_percent.percentage>=40), 'Third Class')\n",
    "                  .when ((df_percent.percentage<40), 'Fail').alias('Result')\n",
    "                )\n",
    "\n",
    "display(df_final)\n"
   ]
  }
 ],
 "metadata": {
  "application/vnd.databricks.v1+notebook": {
   "dashboards": [],
   "environmentMetadata": null,
   "language": "python",
   "notebookMetadata": {
    "pythonIndentUnit": 4
   },
   "notebookName": "16.students_results_by_percentage",
   "widgets": {}
  }
 },
 "nbformat": 4,
 "nbformat_minor": 0
}
