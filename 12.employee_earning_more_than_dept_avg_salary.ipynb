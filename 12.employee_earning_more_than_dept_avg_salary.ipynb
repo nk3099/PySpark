{
 "cells": [
  {
   "cell_type": "code",
   "execution_count": 0,
   "metadata": {
    "application/vnd.databricks.v1+cell": {
     "cellMetadata": {
      "byteLimit": 2048000,
      "rowLimit": 10000
     },
     "inputWidgets": {},
     "nuid": "05602532-5603-4c16-a5ba-3a567aa38602",
     "showTitle": false,
     "title": ""
    }
   },
   "outputs": [],
   "source": [
    "#Employees earning more than department average salary"
   ]
  },
  {
   "cell_type": "code",
   "execution_count": 0,
   "metadata": {
    "application/vnd.databricks.v1+cell": {
     "cellMetadata": {
      "byteLimit": 2048000,
      "rowLimit": 10000
     },
     "inputWidgets": {},
     "nuid": "7babef04-d0f6-4831-975c-db03b37fc264",
     "showTitle": false,
     "title": ""
    }
   },
   "outputs": [
    {
     "output_type": "display_data",
     "data": {
      "text/html": [
       "<style scoped>\n",
       "  .table-result-container {\n",
       "    max-height: 300px;\n",
       "    overflow: auto;\n",
       "  }\n",
       "  table, th, td {\n",
       "    border: 1px solid black;\n",
       "    border-collapse: collapse;\n",
       "  }\n",
       "  th, td {\n",
       "    padding: 5px;\n",
       "  }\n",
       "  th {\n",
       "    text-align: left;\n",
       "  }\n",
       "</style><div class='table-result-container'><table class='table-result'><thead style='background-color: white'><tr><th>employee_id</th><th>employee_name</th><th>department</th><th>salary</th></tr></thead><tbody><tr><td>1</td><td>Alice</td><td>HR</td><td>60000</td></tr><tr><td>2</td><td>Bob</td><td>HR</td><td>50000</td></tr><tr><td>3</td><td>Charlie</td><td>Finance</td><td>70000</td></tr><tr><td>4</td><td>David</td><td>Finance</td><td>75000</td></tr><tr><td>5</td><td>Eve</td><td>Engineering</td><td>90000</td></tr><tr><td>6</td><td>Frank</td><td>Engineering</td><td>93000</td></tr><tr><td>7</td><td>Grace</td><td>HR</td><td>45000</td></tr><tr><td>8</td><td>Hank</td><td>Engineering</td><td>98000</td></tr><tr><td>9</td><td>Ivy</td><td>Finance</td><td>66000</td></tr></tbody></table></div>"
      ]
     },
     "metadata": {
      "application/vnd.databricks.v1+output": {
       "addedWidgets": {},
       "aggData": [],
       "aggError": "",
       "aggOverflow": false,
       "aggSchema": [],
       "aggSeriesLimitReached": false,
       "aggType": "",
       "arguments": {},
       "columnCustomDisplayInfos": {},
       "data": [
        [
         1,
         "Alice",
         "HR",
         60000
        ],
        [
         2,
         "Bob",
         "HR",
         50000
        ],
        [
         3,
         "Charlie",
         "Finance",
         70000
        ],
        [
         4,
         "David",
         "Finance",
         75000
        ],
        [
         5,
         "Eve",
         "Engineering",
         90000
        ],
        [
         6,
         "Frank",
         "Engineering",
         93000
        ],
        [
         7,
         "Grace",
         "HR",
         45000
        ],
        [
         8,
         "Hank",
         "Engineering",
         98000
        ],
        [
         9,
         "Ivy",
         "Finance",
         66000
        ]
       ],
       "datasetInfos": [],
       "dbfsResultPath": null,
       "isJsonSchema": true,
       "metadata": {},
       "overflow": false,
       "plotOptions": {
        "customPlotOptions": {},
        "displayType": "table",
        "pivotAggregation": null,
        "pivotColumns": null,
        "xColumns": null,
        "yColumns": null
       },
       "removedWidgets": [],
       "schema": [
        {
         "metadata": "{}",
         "name": "employee_id",
         "type": "\"long\""
        },
        {
         "metadata": "{}",
         "name": "employee_name",
         "type": "\"string\""
        },
        {
         "metadata": "{}",
         "name": "department",
         "type": "\"string\""
        },
        {
         "metadata": "{}",
         "name": "salary",
         "type": "\"long\""
        }
       ],
       "type": "table"
      }
     },
     "output_type": "display_data"
    }
   ],
   "source": [
    "from pyspark.sql.functions import col,avg\n",
    "\n",
    "#sample data\n",
    "data=[\n",
    "    (1,\"Alice\",\"HR\",60000),\n",
    "    (2,\"Bob\",\"HR\",50000),\n",
    "    (3,\"Charlie\",\"Finance\",70000),\n",
    "    (4,\"David\",\"Finance\",75000),\n",
    "    (5,\"Eve\",\"Engineering\",90000),\n",
    "    (6,\"Frank\",\"Engineering\",93000),\n",
    "    (7,\"Grace\",\"HR\",45000),\n",
    "    (8,\"Hank\",\"Engineering\",98000),\n",
    "    (9,\"Ivy\",\"Finance\",66000),\n",
    "]\n",
    "\n",
    "columns=[\"employee_id\",\"employee_name\",\"department\",\"salary\"]\n",
    "\n",
    "#create dataframe:\n",
    "df = spark.createDataFrame(data,columns)\n",
    "\n",
    "df.display()"
   ]
  },
  {
   "cell_type": "code",
   "execution_count": 0,
   "metadata": {
    "application/vnd.databricks.v1+cell": {
     "cellMetadata": {
      "byteLimit": 2048000,
      "rowLimit": 10000
     },
     "inputWidgets": {},
     "nuid": "3257df7b-c2fc-403e-b73d-d335b51c8de4",
     "showTitle": false,
     "title": ""
    }
   },
   "outputs": [
    {
     "output_type": "stream",
     "name": "stdout",
     "output_type": "stream",
     "text": [
      "+-----------+-------------+-----------+------+------------------+\n|employee_id|employee_name| department|salary|   avg_dept_salary|\n+-----------+-------------+-----------+------+------------------+\n|          8|         Hank|Engineering| 98000| 93666.66666666667|\n|          4|        David|    Finance| 75000| 70333.33333333333|\n|          1|        Alice|         HR| 60000|51666.666666666664|\n+-----------+-------------+-----------+------+------------------+\n\n"
     ]
    }
   ],
   "source": [
    "from pyspark.sql.window import Window\n",
    "\n",
    "windowSpec = Window.partitionBy(\"department\")\n",
    "\n",
    "df = df.withColumn(\"avg_dept_salary\",avg(col(\"salary\")).over(windowSpec))\n",
    "\n",
    "result_df = df.filter(col(\"salary\") > col(\"avg_dept_salary\")) #.select(\"employee_id\")\n",
    "\n",
    "result_df.show()"
   ]
  },
  {
   "cell_type": "markdown",
   "metadata": {
    "application/vnd.databricks.v1+cell": {
     "cellMetadata": {},
     "inputWidgets": {},
     "nuid": "4d6d6989-6f3f-456a-9a44-24cdddb7730d",
     "showTitle": false,
     "title": ""
    }
   },
   "source": [
    "%md \n",
    "###using Spark SQL"
   ]
  },
  {
   "cell_type": "code",
   "execution_count": 0,
   "metadata": {
    "application/vnd.databricks.v1+cell": {
     "cellMetadata": {
      "byteLimit": 2048000,
      "rowLimit": 10000
     },
     "inputWidgets": {},
     "nuid": "0062523c-d710-498e-9f11-88c5434da17f",
     "showTitle": false,
     "title": ""
    }
   },
   "outputs": [],
   "source": [
    "df.createOrReplaceTempView(\"employees\")"
   ]
  },
  {
   "cell_type": "markdown",
   "metadata": {
    "application/vnd.databricks.v1+cell": {
     "cellMetadata": {},
     "inputWidgets": {},
     "nuid": "2db41004-ad94-4d40-8b1e-e07bd81f64b3",
     "showTitle": false,
     "title": ""
    }
   },
   "source": [
    "SQL Window Function:"
   ]
  },
  {
   "cell_type": "code",
   "execution_count": 0,
   "metadata": {
    "application/vnd.databricks.v1+cell": {
     "cellMetadata": {
      "byteLimit": 2048000,
      "implicitDf": true,
      "rowLimit": 10000
     },
     "inputWidgets": {},
     "nuid": "13c058cd-b466-41dc-a17b-e4ea431a79d4",
     "showTitle": false,
     "title": ""
    }
   },
   "outputs": [
    {
     "output_type": "display_data",
     "data": {
      "text/html": [
       "<style scoped>\n",
       "  .table-result-container {\n",
       "    max-height: 300px;\n",
       "    overflow: auto;\n",
       "  }\n",
       "  table, th, td {\n",
       "    border: 1px solid black;\n",
       "    border-collapse: collapse;\n",
       "  }\n",
       "  th, td {\n",
       "    padding: 5px;\n",
       "  }\n",
       "  th {\n",
       "    text-align: left;\n",
       "  }\n",
       "</style><div class='table-result-container'><table class='table-result'><thead style='background-color: white'><tr><th>employee_id</th><th>employee_name</th><th>department</th><th>salary</th><th>avg_dept_salary</th></tr></thead><tbody><tr><td>8</td><td>Hank</td><td>Engineering</td><td>98000</td><td>93666.66666666667</td></tr><tr><td>4</td><td>David</td><td>Finance</td><td>75000</td><td>70333.33333333333</td></tr><tr><td>1</td><td>Alice</td><td>HR</td><td>60000</td><td>51666.666666666664</td></tr></tbody></table></div>"
      ]
     },
     "metadata": {
      "application/vnd.databricks.v1+output": {
       "addedWidgets": {},
       "aggData": [],
       "aggError": "",
       "aggOverflow": false,
       "aggSchema": [],
       "aggSeriesLimitReached": false,
       "aggType": "",
       "arguments": {},
       "columnCustomDisplayInfos": {},
       "data": [
        [
         8,
         "Hank",
         "Engineering",
         98000,
         93666.66666666667
        ],
        [
         4,
         "David",
         "Finance",
         75000,
         70333.33333333333
        ],
        [
         1,
         "Alice",
         "HR",
         60000,
         51666.666666666664
        ]
       ],
       "datasetInfos": [],
       "dbfsResultPath": null,
       "isJsonSchema": true,
       "metadata": {},
       "overflow": false,
       "plotOptions": {
        "customPlotOptions": {},
        "displayType": "table",
        "pivotAggregation": null,
        "pivotColumns": null,
        "xColumns": null,
        "yColumns": null
       },
       "removedWidgets": [],
       "schema": [
        {
         "metadata": "{}",
         "name": "employee_id",
         "type": "\"long\""
        },
        {
         "metadata": "{}",
         "name": "employee_name",
         "type": "\"string\""
        },
        {
         "metadata": "{}",
         "name": "department",
         "type": "\"string\""
        },
        {
         "metadata": "{}",
         "name": "salary",
         "type": "\"long\""
        },
        {
         "metadata": "{}",
         "name": "avg_dept_salary",
         "type": "\"double\""
        }
       ],
       "type": "table"
      }
     },
     "output_type": "display_data"
    }
   ],
   "source": [
    "%sql\n",
    "\n",
    "with cte as (\n",
    "select e.employee_id,e.employee_name,e.department,e.salary,\n",
    "avg(salary) over (partition by department) as avg_dept_salary\n",
    "from employees e\n",
    ")\n",
    "\n",
    "select *\n",
    "from cte\n",
    "where salary > avg_dept_salary"
   ]
  },
  {
   "cell_type": "markdown",
   "metadata": {
    "application/vnd.databricks.v1+cell": {
     "cellMetadata": {},
     "inputWidgets": {},
     "nuid": "7c55fbc4-7532-490e-b01b-b502946edc47",
     "showTitle": false,
     "title": ""
    }
   },
   "source": [
    "Correlated Subquery:"
   ]
  },
  {
   "cell_type": "code",
   "execution_count": 0,
   "metadata": {
    "application/vnd.databricks.v1+cell": {
     "cellMetadata": {
      "byteLimit": 2048000,
      "implicitDf": true,
      "rowLimit": 10000
     },
     "inputWidgets": {},
     "nuid": "8886f4eb-9ec1-43cf-aa51-25f837caa3e0",
     "showTitle": false,
     "title": ""
    }
   },
   "outputs": [
    {
     "output_type": "display_data",
     "data": {
      "text/html": [
       "<style scoped>\n",
       "  .table-result-container {\n",
       "    max-height: 300px;\n",
       "    overflow: auto;\n",
       "  }\n",
       "  table, th, td {\n",
       "    border: 1px solid black;\n",
       "    border-collapse: collapse;\n",
       "  }\n",
       "  th, td {\n",
       "    padding: 5px;\n",
       "  }\n",
       "  th {\n",
       "    text-align: left;\n",
       "  }\n",
       "</style><div class='table-result-container'><table class='table-result'><thead style='background-color: white'><tr><th>employee_id</th><th>employee_name</th><th>department</th><th>salary</th><th>avg_dept_salary</th></tr></thead><tbody><tr><td>1</td><td>Alice</td><td>HR</td><td>60000</td><td>51666.666666666664</td></tr><tr><td>4</td><td>David</td><td>Finance</td><td>75000</td><td>70333.33333333333</td></tr><tr><td>8</td><td>Hank</td><td>Engineering</td><td>98000</td><td>93666.66666666667</td></tr></tbody></table></div>"
      ]
     },
     "metadata": {
      "application/vnd.databricks.v1+output": {
       "addedWidgets": {},
       "aggData": [],
       "aggError": "",
       "aggOverflow": false,
       "aggSchema": [],
       "aggSeriesLimitReached": false,
       "aggType": "",
       "arguments": {},
       "columnCustomDisplayInfos": {},
       "data": [
        [
         1,
         "Alice",
         "HR",
         60000,
         51666.666666666664
        ],
        [
         4,
         "David",
         "Finance",
         75000,
         70333.33333333333
        ],
        [
         8,
         "Hank",
         "Engineering",
         98000,
         93666.66666666667
        ]
       ],
       "datasetInfos": [],
       "dbfsResultPath": null,
       "isJsonSchema": true,
       "metadata": {},
       "overflow": false,
       "plotOptions": {
        "customPlotOptions": {},
        "displayType": "table",
        "pivotAggregation": null,
        "pivotColumns": null,
        "xColumns": null,
        "yColumns": null
       },
       "removedWidgets": [],
       "schema": [
        {
         "metadata": "{}",
         "name": "employee_id",
         "type": "\"long\""
        },
        {
         "metadata": "{}",
         "name": "employee_name",
         "type": "\"string\""
        },
        {
         "metadata": "{}",
         "name": "department",
         "type": "\"string\""
        },
        {
         "metadata": "{}",
         "name": "salary",
         "type": "\"long\""
        },
        {
         "metadata": "{}",
         "name": "avg_dept_salary",
         "type": "\"double\""
        }
       ],
       "type": "table"
      }
     },
     "output_type": "display_data"
    }
   ],
   "source": [
    "%sql\n",
    "select *\n",
    "from employees e1\n",
    "where e1.salary > (select avg(salary) from employees e2 where e2.department = e1.department)\n",
    "\n",
    "--condition WHERE e2.department = e1.department, filters the records in the subquery to only include employees from the same department as the current employee (e1).\n"
   ]
  },
  {
   "cell_type": "markdown",
   "metadata": {
    "application/vnd.databricks.v1+cell": {
     "cellMetadata": {},
     "inputWidgets": {},
     "nuid": "78b93adb-1a0f-49cf-b978-d2300c579d13",
     "showTitle": false,
     "title": ""
    }
   },
   "source": [
    "Inner Join"
   ]
  },
  {
   "cell_type": "code",
   "execution_count": 0,
   "metadata": {
    "application/vnd.databricks.v1+cell": {
     "cellMetadata": {
      "byteLimit": 2048000,
      "implicitDf": true,
      "rowLimit": 10000
     },
     "inputWidgets": {},
     "nuid": "6e84607e-353a-457d-be78-bb25125dfb24",
     "showTitle": false,
     "title": ""
    }
   },
   "outputs": [
    {
     "output_type": "display_data",
     "data": {
      "text/html": [
       "<style scoped>\n",
       "  .table-result-container {\n",
       "    max-height: 300px;\n",
       "    overflow: auto;\n",
       "  }\n",
       "  table, th, td {\n",
       "    border: 1px solid black;\n",
       "    border-collapse: collapse;\n",
       "  }\n",
       "  th, td {\n",
       "    padding: 5px;\n",
       "  }\n",
       "  th {\n",
       "    text-align: left;\n",
       "  }\n",
       "</style><div class='table-result-container'><table class='table-result'><thead style='background-color: white'><tr><th>employee_id</th><th>employee_name</th><th>department</th><th>salary</th><th>avg_dept_salary</th></tr></thead><tbody><tr><td>1</td><td>Alice</td><td>HR</td><td>60000</td><td>51666.666666666664</td></tr><tr><td>4</td><td>David</td><td>Finance</td><td>75000</td><td>70333.33333333333</td></tr><tr><td>8</td><td>Hank</td><td>Engineering</td><td>98000</td><td>93666.66666666667</td></tr></tbody></table></div>"
      ]
     },
     "metadata": {
      "application/vnd.databricks.v1+output": {
       "addedWidgets": {},
       "aggData": [],
       "aggError": "",
       "aggOverflow": false,
       "aggSchema": [],
       "aggSeriesLimitReached": false,
       "aggType": "",
       "arguments": {},
       "columnCustomDisplayInfos": {},
       "data": [
        [
         1,
         "Alice",
         "HR",
         60000,
         51666.666666666664
        ],
        [
         4,
         "David",
         "Finance",
         75000,
         70333.33333333333
        ],
        [
         8,
         "Hank",
         "Engineering",
         98000,
         93666.66666666667
        ]
       ],
       "datasetInfos": [],
       "dbfsResultPath": null,
       "isJsonSchema": true,
       "metadata": {},
       "overflow": false,
       "plotOptions": {
        "customPlotOptions": {},
        "displayType": "table",
        "pivotAggregation": null,
        "pivotColumns": null,
        "xColumns": null,
        "yColumns": null
       },
       "removedWidgets": [],
       "schema": [
        {
         "metadata": "{}",
         "name": "employee_id",
         "type": "\"long\""
        },
        {
         "metadata": "{}",
         "name": "employee_name",
         "type": "\"string\""
        },
        {
         "metadata": "{}",
         "name": "department",
         "type": "\"string\""
        },
        {
         "metadata": "{}",
         "name": "salary",
         "type": "\"long\""
        },
        {
         "metadata": "{}",
         "name": "avg_dept_salary",
         "type": "\"double\""
        }
       ],
       "type": "table"
      }
     },
     "output_type": "display_data"
    }
   ],
   "source": [
    "%sql\n",
    "select e1.*\n",
    "from employees e1\n",
    "join \n",
    "(select department,avg(salary) as avg_dept_salary from employees group by department) e2\n",
    "on e1.department=e2.department\n",
    "where e1.salary > e2.avg_dept_salary"
   ]
  }
 ],
 "metadata": {
  "application/vnd.databricks.v1+notebook": {
   "dashboards": [],
   "environmentMetadata": null,
   "language": "python",
   "notebookMetadata": {
    "mostRecentlyExecutedCommandWithImplicitDF": {
     "commandId": 3594563718348149,
     "dataframes": [
      "_sqldf"
     ]
    },
    "pythonIndentUnit": 4
   },
   "notebookName": "12.employee_earning_more_than_dept_avg_salary",
   "widgets": {}
  }
 },
 "nbformat": 4,
 "nbformat_minor": 0
}
