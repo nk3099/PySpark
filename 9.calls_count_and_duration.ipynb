{
 "cells": [
  {
   "cell_type": "code",
   "execution_count": 0,
   "metadata": {
    "application/vnd.databricks.v1+cell": {
     "cellMetadata": {
      "byteLimit": 2048000,
      "rowLimit": 10000
     },
     "inputWidgets": {},
     "nuid": "8dc52798-3610-4071-97b0-ceafb72fffc9",
     "showTitle": false,
     "title": ""
    }
   },
   "outputs": [],
   "source": [
    "#Number of calls and total duration between 2 persons"
   ]
  },
  {
   "cell_type": "code",
   "execution_count": 0,
   "metadata": {
    "application/vnd.databricks.v1+cell": {
     "cellMetadata": {
      "byteLimit": 2048000,
      "rowLimit": 10000
     },
     "inputWidgets": {},
     "nuid": "3c94d05f-1852-4e01-99c0-7c46aa878afc",
     "showTitle": false,
     "title": ""
    }
   },
   "outputs": [
    {
     "output_type": "display_data",
     "data": {
      "text/html": [
       "<style scoped>\n",
       "  .table-result-container {\n",
       "    max-height: 300px;\n",
       "    overflow: auto;\n",
       "  }\n",
       "  table, th, td {\n",
       "    border: 1px solid black;\n",
       "    border-collapse: collapse;\n",
       "  }\n",
       "  th, td {\n",
       "    padding: 5px;\n",
       "  }\n",
       "  th {\n",
       "    text-align: left;\n",
       "  }\n",
       "</style><div class='table-result-container'><table class='table-result'><thead style='background-color: white'><tr><th>from_id</th><th>to_id</th><th>duration</th></tr></thead><tbody><tr><td>10</td><td>20</td><td>58</td></tr><tr><td>20</td><td>10</td><td>12</td></tr><tr><td>10</td><td>30</td><td>20</td></tr><tr><td>30</td><td>40</td><td>100</td></tr><tr><td>30</td><td>40</td><td>200</td></tr><tr><td>30</td><td>40</td><td>200</td></tr><tr><td>40</td><td>30</td><td>500</td></tr></tbody></table></div>"
      ]
     },
     "metadata": {
      "application/vnd.databricks.v1+output": {
       "addedWidgets": {},
       "aggData": [],
       "aggError": "",
       "aggOverflow": false,
       "aggSchema": [],
       "aggSeriesLimitReached": false,
       "aggType": "",
       "arguments": {},
       "columnCustomDisplayInfos": {},
       "data": [
        [
         10,
         20,
         58
        ],
        [
         20,
         10,
         12
        ],
        [
         10,
         30,
         20
        ],
        [
         30,
         40,
         100
        ],
        [
         30,
         40,
         200
        ],
        [
         30,
         40,
         200
        ],
        [
         40,
         30,
         500
        ]
       ],
       "datasetInfos": [],
       "dbfsResultPath": null,
       "isJsonSchema": true,
       "metadata": {},
       "overflow": false,
       "plotOptions": {
        "customPlotOptions": {},
        "displayType": "table",
        "pivotAggregation": null,
        "pivotColumns": null,
        "xColumns": null,
        "yColumns": null
       },
       "removedWidgets": [],
       "schema": [
        {
         "metadata": "{}",
         "name": "from_id",
         "type": "\"long\""
        },
        {
         "metadata": "{}",
         "name": "to_id",
         "type": "\"long\""
        },
        {
         "metadata": "{}",
         "name": "duration",
         "type": "\"long\""
        }
       ],
       "type": "table"
      }
     },
     "output_type": "display_data"
    }
   ],
   "source": [
    "from pyspark.sql.functions import col,sum,when,count\n",
    "\n",
    "data = [\n",
    "    (10,20,58),\n",
    "    (20,10,12),\n",
    "    (10,30,20),\n",
    "    (30,40,100),\n",
    "    (30,40,200),\n",
    "    (30,40,200),\n",
    "    (40,30,500)\n",
    "]\n",
    "\n",
    "df = spark.createDataFrame(data,[\"from_id\",\"to_id\",\"duration\"])\n",
    "\n",
    "df.display()"
   ]
  },
  {
   "cell_type": "code",
   "execution_count": 0,
   "metadata": {
    "application/vnd.databricks.v1+cell": {
     "cellMetadata": {
      "byteLimit": 2048000,
      "rowLimit": 10000
     },
     "inputWidgets": {},
     "nuid": "bb6de02a-aff3-4184-b6da-51fb80654d9f",
     "showTitle": false,
     "title": ""
    }
   },
   "outputs": [
    {
     "output_type": "display_data",
     "data": {
      "text/html": [
       "<style scoped>\n",
       "  .table-result-container {\n",
       "    max-height: 300px;\n",
       "    overflow: auto;\n",
       "  }\n",
       "  table, th, td {\n",
       "    border: 1px solid black;\n",
       "    border-collapse: collapse;\n",
       "  }\n",
       "  th, td {\n",
       "    padding: 5px;\n",
       "  }\n",
       "  th {\n",
       "    text-align: left;\n",
       "  }\n",
       "</style><div class='table-result-container'><table class='table-result'><thead style='background-color: white'><tr><th>person1</th><th>person2</th><th>duration</th></tr></thead><tbody><tr><td>10</td><td>20</td><td>58</td></tr><tr><td>10</td><td>20</td><td>12</td></tr><tr><td>10</td><td>30</td><td>20</td></tr><tr><td>30</td><td>40</td><td>100</td></tr><tr><td>30</td><td>40</td><td>200</td></tr><tr><td>30</td><td>40</td><td>200</td></tr><tr><td>30</td><td>40</td><td>500</td></tr></tbody></table></div>"
      ]
     },
     "metadata": {
      "application/vnd.databricks.v1+output": {
       "addedWidgets": {},
       "aggData": [],
       "aggError": "",
       "aggOverflow": false,
       "aggSchema": [],
       "aggSeriesLimitReached": false,
       "aggType": "",
       "arguments": {},
       "columnCustomDisplayInfos": {},
       "data": [
        [
         10,
         20,
         58
        ],
        [
         10,
         20,
         12
        ],
        [
         10,
         30,
         20
        ],
        [
         30,
         40,
         100
        ],
        [
         30,
         40,
         200
        ],
        [
         30,
         40,
         200
        ],
        [
         30,
         40,
         500
        ]
       ],
       "datasetInfos": [],
       "dbfsResultPath": null,
       "isJsonSchema": true,
       "metadata": {},
       "overflow": false,
       "plotOptions": {
        "customPlotOptions": {},
        "displayType": "table",
        "pivotAggregation": null,
        "pivotColumns": null,
        "xColumns": null,
        "yColumns": null
       },
       "removedWidgets": [],
       "schema": [
        {
         "metadata": "{}",
         "name": "person1",
         "type": "\"long\""
        },
        {
         "metadata": "{}",
         "name": "person2",
         "type": "\"long\""
        },
        {
         "metadata": "{}",
         "name": "duration",
         "type": "\"long\""
        }
       ],
       "type": "table"
      }
     },
     "output_type": "display_data"
    }
   ],
   "source": [
    "#swap id's to make proper\n",
    "\n",
    "swap_df = df.withColumn(\"person1\",when(col(\"from_id\")<col(\"to_id\"),col(\"from_id\")).otherwise(col(\"to_id\"))) \\\n",
    "        .withColumn(\"person2\",when(col(\"from_id\")<col(\"to_id\"),col(\"to_id\")).otherwise(col(\"from_id\"))) \\\n",
    "        .select(\"person1\",\"person2\",\"duration\")\n",
    "\n",
    "swap_df.display()"
   ]
  },
  {
   "cell_type": "code",
   "execution_count": 0,
   "metadata": {
    "application/vnd.databricks.v1+cell": {
     "cellMetadata": {
      "byteLimit": 2048000,
      "rowLimit": 10000
     },
     "inputWidgets": {},
     "nuid": "ba00187f-ba83-49e3-8fc1-e8fe98e5f7f5",
     "showTitle": false,
     "title": ""
    }
   },
   "outputs": [
    {
     "output_type": "stream",
     "name": "stdout",
     "output_type": "stream",
     "text": [
      "Out[14]: '\\n2.When using when, ensure that all conditions are expressed using col() or directly as column expressions. Here’s how to do it correctly:\\nExample: col(\"column_name\") or df.column_name.\\n'"
     ]
    }
   ],
   "source": [
    "#swap id's to make proper\n",
    "\n",
    "\"\"\"\n",
    "1.The expression when(col(\"from_id\") < col(\"to_id\"), \"from_id\") is problematic because \"from_id\" is treated as a literal string rather than referencing the column from_id.\n",
    "\"\"\"\n",
    "\n",
    "#In PySpark, conditions in functions like when must be expressed using column operations rather than raw Python boolean expressions.\n",
    "#for expression when(\"from_id\"<\"to_id\",col(\"to_id\"):\n",
    "\"\"\"\n",
    "2.When using when, ensure that all conditions are expressed using col() or directly as column expressions. Here’s how to do it correctly:\n",
    "Example: col(\"column_name\") or df.column_name.\n",
    "\"\"\"\n"
   ]
  },
  {
   "cell_type": "code",
   "execution_count": 0,
   "metadata": {
    "application/vnd.databricks.v1+cell": {
     "cellMetadata": {
      "byteLimit": 2048000,
      "rowLimit": 10000
     },
     "inputWidgets": {},
     "nuid": "541189cd-b270-47af-b547-47c086fb69ab",
     "showTitle": false,
     "title": ""
    }
   },
   "outputs": [
    {
     "output_type": "display_data",
     "data": {
      "text/html": [
       "<style scoped>\n",
       "  .table-result-container {\n",
       "    max-height: 300px;\n",
       "    overflow: auto;\n",
       "  }\n",
       "  table, th, td {\n",
       "    border: 1px solid black;\n",
       "    border-collapse: collapse;\n",
       "  }\n",
       "  th, td {\n",
       "    padding: 5px;\n",
       "  }\n",
       "  th {\n",
       "    text-align: left;\n",
       "  }\n",
       "</style><div class='table-result-container'><table class='table-result'><thead style='background-color: white'><tr><th>person1</th><th>person2</th><th>call_count</th><th>total_duration</th></tr></thead><tbody><tr><td>10</td><td>20</td><td>2</td><td>70</td></tr><tr><td>10</td><td>30</td><td>1</td><td>20</td></tr><tr><td>30</td><td>40</td><td>4</td><td>1000</td></tr></tbody></table></div>"
      ]
     },
     "metadata": {
      "application/vnd.databricks.v1+output": {
       "addedWidgets": {},
       "aggData": [],
       "aggError": "",
       "aggOverflow": false,
       "aggSchema": [],
       "aggSeriesLimitReached": false,
       "aggType": "",
       "arguments": {},
       "columnCustomDisplayInfos": {},
       "data": [
        [
         10,
         20,
         2,
         70
        ],
        [
         10,
         30,
         1,
         20
        ],
        [
         30,
         40,
         4,
         1000
        ]
       ],
       "datasetInfos": [],
       "dbfsResultPath": null,
       "isJsonSchema": true,
       "metadata": {},
       "overflow": false,
       "plotOptions": {
        "customPlotOptions": {},
        "displayType": "table",
        "pivotAggregation": null,
        "pivotColumns": null,
        "xColumns": null,
        "yColumns": null
       },
       "removedWidgets": [],
       "schema": [
        {
         "metadata": "{}",
         "name": "person1",
         "type": "\"long\""
        },
        {
         "metadata": "{}",
         "name": "person2",
         "type": "\"long\""
        },
        {
         "metadata": "{}",
         "name": "call_count",
         "type": "\"long\""
        },
        {
         "metadata": "{}",
         "name": "total_duration",
         "type": "\"long\""
        }
       ],
       "type": "table"
      }
     },
     "output_type": "display_data"
    }
   ],
   "source": [
    "\n",
    "#count the call count and duration for each pair of persons\n",
    "\n",
    "result_df = swap_df.groupBy(\"person1\",\"person2\") \\\n",
    "                   .agg(count(\"person1\").alias(\"call_count\"),sum(\"duration\").alias(\"total_duration\")) \\\n",
    "                    .select(\"person1\",\"person2\",\"call_count\",\"total_duration\")\n",
    "\n",
    "result_df.display()"
   ]
  },
  {
   "cell_type": "markdown",
   "metadata": {
    "application/vnd.databricks.v1+cell": {
     "cellMetadata": {},
     "inputWidgets": {},
     "nuid": "8fdfc814-6a2f-4bb6-9464-f94034fbc24c",
     "showTitle": false,
     "title": ""
    }
   },
   "source": [
    "#using SPARK SQL"
   ]
  },
  {
   "cell_type": "code",
   "execution_count": 0,
   "metadata": {
    "application/vnd.databricks.v1+cell": {
     "cellMetadata": {
      "byteLimit": 2048000,
      "implicitDf": true,
      "rowLimit": 10000
     },
     "inputWidgets": {},
     "nuid": "6a7e648d-7565-4734-bfaa-d3385d22cacf",
     "showTitle": false,
     "title": ""
    }
   },
   "outputs": [],
   "source": [
    "#convert dataframe to TempView\n",
    "\n",
    "df.createOrReplaceTempView(\"calls\")"
   ]
  },
  {
   "cell_type": "code",
   "execution_count": 0,
   "metadata": {
    "application/vnd.databricks.v1+cell": {
     "cellMetadata": {
      "byteLimit": 2048000,
      "implicitDf": true,
      "rowLimit": 10000
     },
     "inputWidgets": {},
     "nuid": "d2712af4-b92d-4802-9ed0-72755621f9c5",
     "showTitle": false,
     "title": ""
    }
   },
   "outputs": [
    {
     "output_type": "display_data",
     "data": {
      "text/html": [
       "<style scoped>\n",
       "  .table-result-container {\n",
       "    max-height: 300px;\n",
       "    overflow: auto;\n",
       "  }\n",
       "  table, th, td {\n",
       "    border: 1px solid black;\n",
       "    border-collapse: collapse;\n",
       "  }\n",
       "  th, td {\n",
       "    padding: 5px;\n",
       "  }\n",
       "  th {\n",
       "    text-align: left;\n",
       "  }\n",
       "</style><div class='table-result-container'><table class='table-result'><thead style='background-color: white'><tr><th>from_id</th><th>to_id</th><th>duration</th></tr></thead><tbody><tr><td>10</td><td>20</td><td>58</td></tr><tr><td>20</td><td>10</td><td>12</td></tr><tr><td>10</td><td>30</td><td>20</td></tr><tr><td>30</td><td>40</td><td>100</td></tr><tr><td>30</td><td>40</td><td>200</td></tr><tr><td>30</td><td>40</td><td>200</td></tr><tr><td>40</td><td>30</td><td>500</td></tr></tbody></table></div>"
      ]
     },
     "metadata": {
      "application/vnd.databricks.v1+output": {
       "addedWidgets": {},
       "aggData": [],
       "aggError": "",
       "aggOverflow": false,
       "aggSchema": [],
       "aggSeriesLimitReached": false,
       "aggType": "",
       "arguments": {},
       "columnCustomDisplayInfos": {},
       "data": [
        [
         10,
         20,
         58
        ],
        [
         20,
         10,
         12
        ],
        [
         10,
         30,
         20
        ],
        [
         30,
         40,
         100
        ],
        [
         30,
         40,
         200
        ],
        [
         30,
         40,
         200
        ],
        [
         40,
         30,
         500
        ]
       ],
       "datasetInfos": [],
       "dbfsResultPath": null,
       "isJsonSchema": true,
       "metadata": {},
       "overflow": false,
       "plotOptions": {
        "customPlotOptions": {},
        "displayType": "table",
        "pivotAggregation": null,
        "pivotColumns": null,
        "xColumns": null,
        "yColumns": null
       },
       "removedWidgets": [],
       "schema": [
        {
         "metadata": "{}",
         "name": "from_id",
         "type": "\"long\""
        },
        {
         "metadata": "{}",
         "name": "to_id",
         "type": "\"long\""
        },
        {
         "metadata": "{}",
         "name": "duration",
         "type": "\"long\""
        }
       ],
       "type": "table"
      }
     },
     "output_type": "display_data"
    }
   ],
   "source": [
    "%sql\n",
    "select * from calls"
   ]
  },
  {
   "cell_type": "code",
   "execution_count": 0,
   "metadata": {
    "application/vnd.databricks.v1+cell": {
     "cellMetadata": {
      "byteLimit": 2048000,
      "implicitDf": true,
      "rowLimit": 10000
     },
     "inputWidgets": {},
     "nuid": "b3d4e579-e2fe-4602-8849-d13c5604c79e",
     "showTitle": false,
     "title": ""
    }
   },
   "outputs": [
    {
     "output_type": "display_data",
     "data": {
      "text/html": [
       "<style scoped>\n",
       "  .table-result-container {\n",
       "    max-height: 300px;\n",
       "    overflow: auto;\n",
       "  }\n",
       "  table, th, td {\n",
       "    border: 1px solid black;\n",
       "    border-collapse: collapse;\n",
       "  }\n",
       "  th, td {\n",
       "    padding: 5px;\n",
       "  }\n",
       "  th {\n",
       "    text-align: left;\n",
       "  }\n",
       "</style><div class='table-result-container'><table class='table-result'><thead style='background-color: white'><tr><th>person1</th><th>person2</th><th>call_count</th><th>total_duration</th></tr></thead><tbody><tr><td>10</td><td>20</td><td>2</td><td>70</td></tr><tr><td>10</td><td>30</td><td>1</td><td>20</td></tr><tr><td>30</td><td>40</td><td>4</td><td>1000</td></tr></tbody></table></div>"
      ]
     },
     "metadata": {
      "application/vnd.databricks.v1+output": {
       "addedWidgets": {},
       "aggData": [],
       "aggError": "",
       "aggOverflow": false,
       "aggSchema": [],
       "aggSeriesLimitReached": false,
       "aggType": "",
       "arguments": {},
       "columnCustomDisplayInfos": {},
       "data": [
        [
         10,
         20,
         2,
         70
        ],
        [
         10,
         30,
         1,
         20
        ],
        [
         30,
         40,
         4,
         1000
        ]
       ],
       "datasetInfos": [],
       "dbfsResultPath": null,
       "isJsonSchema": true,
       "metadata": {},
       "overflow": false,
       "plotOptions": {
        "customPlotOptions": {},
        "displayType": "table",
        "pivotAggregation": null,
        "pivotColumns": null,
        "xColumns": null,
        "yColumns": null
       },
       "removedWidgets": [],
       "schema": [
        {
         "metadata": "{}",
         "name": "person1",
         "type": "\"long\""
        },
        {
         "metadata": "{}",
         "name": "person2",
         "type": "\"long\""
        },
        {
         "metadata": "{}",
         "name": "call_count",
         "type": "\"long\""
        },
        {
         "metadata": "{}",
         "name": "total_duration",
         "type": "\"long\""
        }
       ],
       "type": "table"
      }
     },
     "output_type": "display_data"
    }
   ],
   "source": [
    "%sql\n",
    "\n",
    "with cte1 as (\n",
    "  select *,\n",
    "  case when from_id < to_id then from_id else to_id end person1,\n",
    "  case when from_id < to_id then to_id else from_id end person2\n",
    "  from calls\n",
    ")\n",
    "\n",
    "select person1, person2, count(1) as call_count, sum(duration) as total_duration\n",
    "from cte1\n",
    "group by person1,person2"
   ]
  },
  {
   "cell_type": "markdown",
   "metadata": {
    "application/vnd.databricks.v1+cell": {
     "cellMetadata": {},
     "inputWidgets": {},
     "nuid": "b253975f-d329-4e12-80c1-ac152c6df3fc",
     "showTitle": false,
     "title": ""
    }
   },
   "source": [
    "##SQL approach 2:"
   ]
  },
  {
   "cell_type": "code",
   "execution_count": 0,
   "metadata": {
    "application/vnd.databricks.v1+cell": {
     "cellMetadata": {
      "byteLimit": 2048000,
      "implicitDf": true,
      "rowLimit": 10000
     },
     "inputWidgets": {},
     "nuid": "d0b9902a-8555-429c-bd9f-af02beec1ced",
     "showTitle": false,
     "title": ""
    }
   },
   "outputs": [
    {
     "output_type": "display_data",
     "data": {
      "text/html": [
       "<style scoped>\n",
       "  .table-result-container {\n",
       "    max-height: 300px;\n",
       "    overflow: auto;\n",
       "  }\n",
       "  table, th, td {\n",
       "    border: 1px solid black;\n",
       "    border-collapse: collapse;\n",
       "  }\n",
       "  th, td {\n",
       "    padding: 5px;\n",
       "  }\n",
       "  th {\n",
       "    text-align: left;\n",
       "  }\n",
       "</style><div class='table-result-container'><table class='table-result'><thead style='background-color: white'><tr><th>person1</th><th>person2</th><th>call_count</th><th>total_duration</th></tr></thead><tbody><tr><td>10</td><td>20</td><td>2</td><td>70</td></tr><tr><td>10</td><td>30</td><td>1</td><td>20</td></tr><tr><td>30</td><td>40</td><td>4</td><td>1000</td></tr></tbody></table></div>"
      ]
     },
     "metadata": {
      "application/vnd.databricks.v1+output": {
       "addedWidgets": {},
       "aggData": [],
       "aggError": "",
       "aggOverflow": false,
       "aggSchema": [],
       "aggSeriesLimitReached": false,
       "aggType": "",
       "arguments": {},
       "columnCustomDisplayInfos": {},
       "data": [
        [
         10,
         20,
         2,
         70
        ],
        [
         10,
         30,
         1,
         20
        ],
        [
         30,
         40,
         4,
         1000
        ]
       ],
       "datasetInfos": [],
       "dbfsResultPath": null,
       "isJsonSchema": true,
       "metadata": {},
       "overflow": false,
       "plotOptions": {
        "customPlotOptions": {},
        "displayType": "table",
        "pivotAggregation": null,
        "pivotColumns": null,
        "xColumns": null,
        "yColumns": null
       },
       "removedWidgets": [],
       "schema": [
        {
         "metadata": "{}",
         "name": "person1",
         "type": "\"long\""
        },
        {
         "metadata": "{}",
         "name": "person2",
         "type": "\"long\""
        },
        {
         "metadata": "{}",
         "name": "call_count",
         "type": "\"long\""
        },
        {
         "metadata": "{}",
         "name": "total_duration",
         "type": "\"long\""
        }
       ],
       "type": "table"
      }
     },
     "output_type": "display_data"
    }
   ],
   "source": [
    "%sql\n",
    "\n",
    "select \n",
    "least(from_id, to_id) as person1,\n",
    "greatest(from_id, to_id) as person2,\n",
    "count(*) as call_count,\n",
    "sum(duration) as total_duration\n",
    "from calls\n",
    "group by 1,2"
   ]
  }
 ],
 "metadata": {
  "application/vnd.databricks.v1+notebook": {
   "dashboards": [],
   "environmentMetadata": null,
   "language": "python",
   "notebookMetadata": {
    "mostRecentlyExecutedCommandWithImplicitDF": {
     "commandId": 2299695003924179,
     "dataframes": [
      "_sqldf"
     ]
    },
    "pythonIndentUnit": 4
   },
   "notebookName": "9.calls_count_and_duration",
   "widgets": {}
  }
 },
 "nbformat": 4,
 "nbformat_minor": 0
}
