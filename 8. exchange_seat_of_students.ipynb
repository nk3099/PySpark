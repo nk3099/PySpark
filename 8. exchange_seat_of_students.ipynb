{
 "cells": [
  {
   "cell_type": "code",
   "execution_count": 0,
   "metadata": {
    "application/vnd.databricks.v1+cell": {
     "cellMetadata": {
      "byteLimit": 2048000,
      "rowLimit": 10000
     },
     "inputWidgets": {},
     "nuid": "e25c6a2f-c41d-4a5d-94ee-96f6971c60c8",
     "showTitle": false,
     "title": ""
    }
   },
   "outputs": [
    {
     "output_type": "display_data",
     "data": {
      "text/html": [
       "<style scoped>\n",
       "  .table-result-container {\n",
       "    max-height: 300px;\n",
       "    overflow: auto;\n",
       "  }\n",
       "  table, th, td {\n",
       "    border: 1px solid black;\n",
       "    border-collapse: collapse;\n",
       "  }\n",
       "  th, td {\n",
       "    padding: 5px;\n",
       "  }\n",
       "  th {\n",
       "    text-align: left;\n",
       "  }\n",
       "</style><div class='table-result-container'><table class='table-result'><thead style='background-color: white'><tr><th>id</th><th>student</th></tr></thead><tbody><tr><td>1</td><td>Alice</td></tr><tr><td>2</td><td>Bob</td></tr><tr><td>3</td><td>Charlie</td></tr><tr><td>4</td><td>David</td></tr><tr><td>5</td><td>Eve</td></tr></tbody></table></div>"
      ]
     },
     "metadata": {
      "application/vnd.databricks.v1+output": {
       "addedWidgets": {},
       "aggData": [],
       "aggError": "",
       "aggOverflow": false,
       "aggSchema": [],
       "aggSeriesLimitReached": false,
       "aggType": "",
       "arguments": {},
       "columnCustomDisplayInfos": {},
       "data": [
        [
         1,
         "Alice"
        ],
        [
         2,
         "Bob"
        ],
        [
         3,
         "Charlie"
        ],
        [
         4,
         "David"
        ],
        [
         5,
         "Eve"
        ]
       ],
       "datasetInfos": [],
       "dbfsResultPath": null,
       "isJsonSchema": true,
       "metadata": {},
       "overflow": false,
       "plotOptions": {
        "customPlotOptions": {},
        "displayType": "table",
        "pivotAggregation": null,
        "pivotColumns": null,
        "xColumns": null,
        "yColumns": null
       },
       "removedWidgets": [],
       "schema": [
        {
         "metadata": "{}",
         "name": "id",
         "type": "\"long\""
        },
        {
         "metadata": "{}",
         "name": "student",
         "type": "\"string\""
        }
       ],
       "type": "table"
      }
     },
     "output_type": "display_data"
    }
   ],
   "source": [
    "#Exchange Seat of 2 Students in a class\n",
    "\n",
    "from pyspark.sql.functions import lag,lead,when,col,coalesce\n",
    "\n",
    "#create a dataframe with different student names\n",
    "data=[(1,'Alice'),(2,'Bob'),(3,'Charlie'),(4,'David'),(5,'Eve')]\n",
    "df=spark.createDataFrame(data,['id','student'])\n",
    "\n",
    "df.display()"
   ]
  },
  {
   "cell_type": "code",
   "execution_count": 0,
   "metadata": {
    "application/vnd.databricks.v1+cell": {
     "cellMetadata": {
      "byteLimit": 2048000,
      "rowLimit": 10000
     },
     "inputWidgets": {},
     "nuid": "1a2f207c-cc2e-4228-b267-730233eefb52",
     "showTitle": false,
     "title": ""
    }
   },
   "outputs": [],
   "source": [
    "#find next and prev seat for each student\n",
    "\n",
    "from pyspark.sql.window import Window\n",
    "\n",
    "exchanged_df = df.withColumn(\"next_student\",lead(\"student\",1).over(Window.orderBy(\"id\"))) \\\n",
    "        .withColumn(\"prev_student\",lag(\"student\",1).over(Window.orderBy(\"id\")))\n"
   ]
  },
  {
   "cell_type": "code",
   "execution_count": 0,
   "metadata": {
    "application/vnd.databricks.v1+cell": {
     "cellMetadata": {
      "byteLimit": 2048000,
      "rowLimit": 10000
     },
     "inputWidgets": {},
     "nuid": "167443c9-2d32-4877-8d69-b3e1e0968fff",
     "showTitle": false,
     "title": ""
    }
   },
   "outputs": [
    {
     "output_type": "display_data",
     "data": {
      "text/html": [
       "<style scoped>\n",
       "  .table-result-container {\n",
       "    max-height: 300px;\n",
       "    overflow: auto;\n",
       "  }\n",
       "  table, th, td {\n",
       "    border: 1px solid black;\n",
       "    border-collapse: collapse;\n",
       "  }\n",
       "  th, td {\n",
       "    padding: 5px;\n",
       "  }\n",
       "  th {\n",
       "    text-align: left;\n",
       "  }\n",
       "</style><div class='table-result-container'><table class='table-result'><thead style='background-color: white'><tr><th>id</th><th>student</th><th>next_student</th><th>prev_student</th><th>Exchanged_Seating</th></tr></thead><tbody><tr><td>1</td><td>Alice</td><td>Bob</td><td>null</td><td>Bob</td></tr><tr><td>2</td><td>Bob</td><td>Charlie</td><td>Alice</td><td>Alice</td></tr><tr><td>3</td><td>Charlie</td><td>David</td><td>Bob</td><td>David</td></tr><tr><td>4</td><td>David</td><td>Eve</td><td>Charlie</td><td>Charlie</td></tr><tr><td>5</td><td>Eve</td><td>null</td><td>David</td><td>Eve</td></tr></tbody></table></div>"
      ]
     },
     "metadata": {
      "application/vnd.databricks.v1+output": {
       "addedWidgets": {},
       "aggData": [],
       "aggError": "",
       "aggOverflow": false,
       "aggSchema": [],
       "aggSeriesLimitReached": false,
       "aggType": "",
       "arguments": {},
       "columnCustomDisplayInfos": {},
       "data": [
        [
         1,
         "Alice",
         "Bob",
         null,
         "Bob"
        ],
        [
         2,
         "Bob",
         "Charlie",
         "Alice",
         "Alice"
        ],
        [
         3,
         "Charlie",
         "David",
         "Bob",
         "David"
        ],
        [
         4,
         "David",
         "Eve",
         "Charlie",
         "Charlie"
        ],
        [
         5,
         "Eve",
         null,
         "David",
         "Eve"
        ]
       ],
       "datasetInfos": [],
       "dbfsResultPath": null,
       "isJsonSchema": true,
       "metadata": {},
       "overflow": false,
       "plotOptions": {
        "customPlotOptions": {},
        "displayType": "table",
        "pivotAggregation": null,
        "pivotColumns": null,
        "xColumns": null,
        "yColumns": null
       },
       "removedWidgets": [],
       "schema": [
        {
         "metadata": "{}",
         "name": "id",
         "type": "\"long\""
        },
        {
         "metadata": "{}",
         "name": "student",
         "type": "\"string\""
        },
        {
         "metadata": "{}",
         "name": "next_student",
         "type": "\"string\""
        },
        {
         "metadata": "{}",
         "name": "prev_student",
         "type": "\"string\""
        },
        {
         "metadata": "{}",
         "name": "Exchanged_Seating",
         "type": "\"string\""
        }
       ],
       "type": "table"
      }
     },
     "output_type": "display_data"
    }
   ],
   "source": [
    "#exchange seat based on odd/even logic:\n",
    "\n",
    "#coalesce -> returns first non-NULL value\n",
    "\n",
    "exchanged_df = exchanged_df.withColumn(\"Exchanged_Seating\",\n",
    "                    when(col(\"id\")%2==0,coalesce(\"prev_student\",col(\"student\"))) \\\n",
    "                   .when(exchanged_df[\"id\"]%2==1,coalesce(exchanged_df[\"next_student\"],exchanged_df[\"student\"])) \\\n",
    "                    .otherwise(exchanged_df[\"student\"]))\n",
    "\n",
    "exchanged_df.display()"
   ]
  },
  {
   "cell_type": "code",
   "execution_count": 0,
   "metadata": {
    "application/vnd.databricks.v1+cell": {
     "cellMetadata": {
      "byteLimit": 2048000,
      "rowLimit": 10000
     },
     "inputWidgets": {},
     "nuid": "2216a5d8-eab8-4122-b204-d4c9bb966b70",
     "showTitle": false,
     "title": ""
    }
   },
   "outputs": [
    {
     "output_type": "display_data",
     "data": {
      "text/html": [
       "<style scoped>\n",
       "  .table-result-container {\n",
       "    max-height: 300px;\n",
       "    overflow: auto;\n",
       "  }\n",
       "  table, th, td {\n",
       "    border: 1px solid black;\n",
       "    border-collapse: collapse;\n",
       "  }\n",
       "  th, td {\n",
       "    padding: 5px;\n",
       "  }\n",
       "  th {\n",
       "    text-align: left;\n",
       "  }\n",
       "</style><div class='table-result-container'><table class='table-result'><thead style='background-color: white'><tr><th>id</th><th>Original_Seating</th><th>Exchanged_Seating</th></tr></thead><tbody><tr><td>1</td><td>Alice</td><td>Bob</td></tr><tr><td>2</td><td>Bob</td><td>Alice</td></tr><tr><td>3</td><td>Charlie</td><td>David</td></tr><tr><td>4</td><td>David</td><td>Charlie</td></tr><tr><td>5</td><td>Eve</td><td>Eve</td></tr></tbody></table></div>"
      ]
     },
     "metadata": {
      "application/vnd.databricks.v1+output": {
       "addedWidgets": {},
       "aggData": [],
       "aggError": "",
       "aggOverflow": false,
       "aggSchema": [],
       "aggSeriesLimitReached": false,
       "aggType": "",
       "arguments": {},
       "columnCustomDisplayInfos": {},
       "data": [
        [
         1,
         "Alice",
         "Bob"
        ],
        [
         2,
         "Bob",
         "Alice"
        ],
        [
         3,
         "Charlie",
         "David"
        ],
        [
         4,
         "David",
         "Charlie"
        ],
        [
         5,
         "Eve",
         "Eve"
        ]
       ],
       "datasetInfos": [],
       "dbfsResultPath": null,
       "isJsonSchema": true,
       "metadata": {},
       "overflow": false,
       "plotOptions": {
        "customPlotOptions": {},
        "displayType": "table",
        "pivotAggregation": null,
        "pivotColumns": null,
        "xColumns": null,
        "yColumns": null
       },
       "removedWidgets": [],
       "schema": [
        {
         "metadata": "{}",
         "name": "id",
         "type": "\"long\""
        },
        {
         "metadata": "{}",
         "name": "Original_Seating",
         "type": "\"string\""
        },
        {
         "metadata": "{}",
         "name": "Exchanged_Seating",
         "type": "\"string\""
        }
       ],
       "type": "table"
      }
     },
     "output_type": "display_data"
    }
   ],
   "source": [
    "#renaming the column:\n",
    "\n",
    "exchanged_df = exchanged_df.withColumnRenamed(\"student\", \"Original_Seating\") \\\n",
    "                           .drop(\"prev_student\", \"next_student\")\n",
    "\n",
    "#or exchanged_df.withColumn(\"student\", col(\"Original_Seating\"))\n",
    "\n",
    "exchanged_df.display()"
   ]
  },
  {
   "cell_type": "code",
   "execution_count": 0,
   "metadata": {
    "application/vnd.databricks.v1+cell": {
     "cellMetadata": {
      "byteLimit": 2048000,
      "rowLimit": 10000
     },
     "inputWidgets": {},
     "nuid": "f7cd5fc9-899d-42a9-a00b-59d89e192b3c",
     "showTitle": false,
     "title": ""
    }
   },
   "outputs": [
    {
     "output_type": "display_data",
     "data": {
      "text/html": [
       "<style scoped>\n",
       "  .table-result-container {\n",
       "    max-height: 300px;\n",
       "    overflow: auto;\n",
       "  }\n",
       "  table, th, td {\n",
       "    border: 1px solid black;\n",
       "    border-collapse: collapse;\n",
       "  }\n",
       "  th, td {\n",
       "    padding: 5px;\n",
       "  }\n",
       "  th {\n",
       "    text-align: left;\n",
       "  }\n",
       "</style><div class='table-result-container'><table class='table-result'><thead style='background-color: white'><tr><th>id</th><th>student</th></tr></thead><tbody><tr><td>1</td><td>Bob</td></tr><tr><td>2</td><td>Alice</td></tr><tr><td>3</td><td>David</td></tr><tr><td>4</td><td>Charlie</td></tr><tr><td>5</td><td>Eve</td></tr></tbody></table></div>"
      ]
     },
     "metadata": {
      "application/vnd.databricks.v1+output": {
       "addedWidgets": {},
       "aggData": [],
       "aggError": "",
       "aggOverflow": false,
       "aggSchema": [],
       "aggSeriesLimitReached": false,
       "aggType": "",
       "arguments": {},
       "columnCustomDisplayInfos": {},
       "data": [
        [
         1,
         "Bob"
        ],
        [
         2,
         "Alice"
        ],
        [
         3,
         "David"
        ],
        [
         4,
         "Charlie"
        ],
        [
         5,
         "Eve"
        ]
       ],
       "datasetInfos": [],
       "dbfsResultPath": null,
       "isJsonSchema": true,
       "metadata": {},
       "overflow": false,
       "plotOptions": {
        "customPlotOptions": {},
        "displayType": "table",
        "pivotAggregation": null,
        "pivotColumns": null,
        "xColumns": null,
        "yColumns": null
       },
       "removedWidgets": [],
       "schema": [
        {
         "metadata": "{}",
         "name": "id",
         "type": "\"long\""
        },
        {
         "metadata": "{}",
         "name": "student",
         "type": "\"string\""
        }
       ],
       "type": "table"
      }
     },
     "output_type": "display_data"
    }
   ],
   "source": [
    "#drop unwanted columns and rename columns as per requirement\n",
    "\n",
    "exchanged_df = exchanged_df.drop(\"Original_Seating\").withColumnRenamed(\"Exchanged_Seating\",\"student\")\n",
    "\n",
    "exchanged_df.display()"
   ]
  },
  {
   "cell_type": "markdown",
   "metadata": {
    "application/vnd.databricks.v1+cell": {
     "cellMetadata": {},
     "inputWidgets": {},
     "nuid": "b6863f10-cf55-4743-b3dd-c56e529a2a55",
     "showTitle": false,
     "title": ""
    }
   },
   "source": [
    "##Exchange the seat only for first 2 students:"
   ]
  },
  {
   "cell_type": "code",
   "execution_count": 0,
   "metadata": {
    "application/vnd.databricks.v1+cell": {
     "cellMetadata": {
      "byteLimit": 2048000,
      "rowLimit": 10000
     },
     "inputWidgets": {},
     "nuid": "e9574275-0849-4d19-bdb0-274a617ccbfb",
     "showTitle": false,
     "title": ""
    }
   },
   "outputs": [
    {
     "output_type": "display_data",
     "data": {
      "text/html": [
       "<style scoped>\n",
       "  .table-result-container {\n",
       "    max-height: 300px;\n",
       "    overflow: auto;\n",
       "  }\n",
       "  table, th, td {\n",
       "    border: 1px solid black;\n",
       "    border-collapse: collapse;\n",
       "  }\n",
       "  th, td {\n",
       "    padding: 5px;\n",
       "  }\n",
       "  th {\n",
       "    text-align: left;\n",
       "  }\n",
       "</style><div class='table-result-container'><table class='table-result'><thead style='background-color: white'><tr><th>id</th><th>Original_Seating</th><th>Exchanged_Seating</th></tr></thead><tbody><tr><td>1</td><td>Alice</td><td>null</td></tr><tr><td>2</td><td>Bob</td><td>Charlie</td></tr><tr><td>3</td><td>Charlie</td><td>Charlie</td></tr><tr><td>4</td><td>David</td><td>David</td></tr><tr><td>5</td><td>Eve</td><td>Eve</td></tr></tbody></table></div>"
      ]
     },
     "metadata": {
      "application/vnd.databricks.v1+output": {
       "addedWidgets": {},
       "aggData": [],
       "aggError": "",
       "aggOverflow": false,
       "aggSchema": [],
       "aggSeriesLimitReached": false,
       "aggType": "",
       "arguments": {},
       "columnCustomDisplayInfos": {},
       "data": [
        [
         1,
         "Alice",
         null
        ],
        [
         2,
         "Bob",
         "Charlie"
        ],
        [
         3,
         "Charlie",
         "Charlie"
        ],
        [
         4,
         "David",
         "David"
        ],
        [
         5,
         "Eve",
         "Eve"
        ]
       ],
       "datasetInfos": [],
       "dbfsResultPath": null,
       "isJsonSchema": true,
       "metadata": {},
       "overflow": false,
       "plotOptions": {
        "customPlotOptions": {},
        "displayType": "table",
        "pivotAggregation": null,
        "pivotColumns": null,
        "xColumns": null,
        "yColumns": null
       },
       "removedWidgets": [],
       "schema": [
        {
         "metadata": "{}",
         "name": "id",
         "type": "\"long\""
        },
        {
         "metadata": "{}",
         "name": "Original_Seating",
         "type": "\"string\""
        },
        {
         "metadata": "{}",
         "name": "Exchanged_Seating",
         "type": "\"string\""
        }
       ],
       "type": "table"
      }
     },
     "output_type": "display_data"
    }
   ],
   "source": [
    "#direct exchange seat of first 2 students\n",
    "\n",
    "from pyspark.sql.window import Window\n",
    "\n",
    "new_df = df.withColumn(\"next_student\",lead(\"student\",1).over(Window.orderBy(\"id\"))) \\\n",
    "        .withColumn(\"prev_student\",lag(\"student\",1).over(Window.orderBy(\"id\")))\n",
    "\n",
    "\n",
    "new_df = new_df.withColumn(\"Exchanged_Seating\",\n",
    "                    when(col(\"id\")==1,new_df[\"prev_student\"])\n",
    "                   .when(new_df[\"id\"]==2,new_df[\"next_student\"])\n",
    "                   .otherwise(col(\"student\")))\n",
    "\n",
    "new_df = new_df.withColumnRenamed(\"student\",\"Original_Seating\").drop(\"prev_student\",\"next_student\")\n",
    "\n",
    "new_df.display()"
   ]
  },
  {
   "cell_type": "markdown",
   "metadata": {
    "application/vnd.databricks.v1+cell": {
     "cellMetadata": {},
     "inputWidgets": {},
     "nuid": "4d73edc6-3a34-4c85-9456-ca1540c00f07",
     "showTitle": false,
     "title": ""
    }
   },
   "source": [
    "##using SPARK SQL"
   ]
  },
  {
   "cell_type": "code",
   "execution_count": 0,
   "metadata": {
    "application/vnd.databricks.v1+cell": {
     "cellMetadata": {
      "byteLimit": 2048000,
      "rowLimit": 10000
     },
     "inputWidgets": {},
     "nuid": "77d839bd-594c-4ec0-a6aa-f4008c666d88",
     "showTitle": false,
     "title": ""
    }
   },
   "outputs": [],
   "source": [
    "#convert dataframe to TempView\n",
    "\n",
    "df.createOrReplaceTempView(\"students\")"
   ]
  },
  {
   "cell_type": "code",
   "execution_count": 0,
   "metadata": {
    "application/vnd.databricks.v1+cell": {
     "cellMetadata": {
      "byteLimit": 2048000,
      "implicitDf": true,
      "rowLimit": 10000
     },
     "inputWidgets": {},
     "nuid": "1681da08-72cb-4f48-9cf7-6c4ba9976b69",
     "showTitle": false,
     "title": ""
    }
   },
   "outputs": [
    {
     "output_type": "display_data",
     "data": {
      "text/html": [
       "<style scoped>\n",
       "  .table-result-container {\n",
       "    max-height: 300px;\n",
       "    overflow: auto;\n",
       "  }\n",
       "  table, th, td {\n",
       "    border: 1px solid black;\n",
       "    border-collapse: collapse;\n",
       "  }\n",
       "  th, td {\n",
       "    padding: 5px;\n",
       "  }\n",
       "  th {\n",
       "    text-align: left;\n",
       "  }\n",
       "</style><div class='table-result-container'><table class='table-result'><thead style='background-color: white'><tr><th>id</th><th>student</th></tr></thead><tbody><tr><td>1</td><td>Alice</td></tr><tr><td>2</td><td>Bob</td></tr><tr><td>3</td><td>Charlie</td></tr><tr><td>4</td><td>David</td></tr><tr><td>5</td><td>Eve</td></tr></tbody></table></div>"
      ]
     },
     "metadata": {
      "application/vnd.databricks.v1+output": {
       "addedWidgets": {},
       "aggData": [],
       "aggError": "",
       "aggOverflow": false,
       "aggSchema": [],
       "aggSeriesLimitReached": false,
       "aggType": "",
       "arguments": {},
       "columnCustomDisplayInfos": {},
       "data": [
        [
         1,
         "Alice"
        ],
        [
         2,
         "Bob"
        ],
        [
         3,
         "Charlie"
        ],
        [
         4,
         "David"
        ],
        [
         5,
         "Eve"
        ]
       ],
       "datasetInfos": [],
       "dbfsResultPath": null,
       "isJsonSchema": true,
       "metadata": {},
       "overflow": false,
       "plotOptions": {
        "customPlotOptions": {},
        "displayType": "table",
        "pivotAggregation": null,
        "pivotColumns": null,
        "xColumns": null,
        "yColumns": null
       },
       "removedWidgets": [],
       "schema": [
        {
         "metadata": "{}",
         "name": "id",
         "type": "\"long\""
        },
        {
         "metadata": "{}",
         "name": "student",
         "type": "\"string\""
        }
       ],
       "type": "table"
      }
     },
     "output_type": "display_data"
    }
   ],
   "source": [
    "%sql\n",
    "select * from students"
   ]
  },
  {
   "cell_type": "code",
   "execution_count": 0,
   "metadata": {
    "application/vnd.databricks.v1+cell": {
     "cellMetadata": {
      "byteLimit": 2048000,
      "implicitDf": true,
      "rowLimit": 10000
     },
     "inputWidgets": {},
     "nuid": "c42bf380-ba60-482b-9376-70e9c948228d",
     "showTitle": false,
     "title": ""
    }
   },
   "outputs": [
    {
     "output_type": "display_data",
     "data": {
      "text/html": [
       "<style scoped>\n",
       "  .table-result-container {\n",
       "    max-height: 300px;\n",
       "    overflow: auto;\n",
       "  }\n",
       "  table, th, td {\n",
       "    border: 1px solid black;\n",
       "    border-collapse: collapse;\n",
       "  }\n",
       "  th, td {\n",
       "    padding: 5px;\n",
       "  }\n",
       "  th {\n",
       "    text-align: left;\n",
       "  }\n",
       "</style><div class='table-result-container'><table class='table-result'><thead style='background-color: white'><tr><th>id</th><th>orginal_seating</th><th>exchanged_seating</th></tr></thead><tbody><tr><td>1</td><td>Alice</td><td>Bob</td></tr><tr><td>2</td><td>Bob</td><td>Alice</td></tr><tr><td>3</td><td>Charlie</td><td>David</td></tr><tr><td>4</td><td>David</td><td>Charlie</td></tr><tr><td>5</td><td>Eve</td><td>Eve</td></tr></tbody></table></div>"
      ]
     },
     "metadata": {
      "application/vnd.databricks.v1+output": {
       "addedWidgets": {},
       "aggData": [],
       "aggError": "",
       "aggOverflow": false,
       "aggSchema": [],
       "aggSeriesLimitReached": false,
       "aggType": "",
       "arguments": {},
       "columnCustomDisplayInfos": {},
       "data": [
        [
         1,
         "Alice",
         "Bob"
        ],
        [
         2,
         "Bob",
         "Alice"
        ],
        [
         3,
         "Charlie",
         "David"
        ],
        [
         4,
         "David",
         "Charlie"
        ],
        [
         5,
         "Eve",
         "Eve"
        ]
       ],
       "datasetInfos": [],
       "dbfsResultPath": null,
       "isJsonSchema": true,
       "metadata": {},
       "overflow": false,
       "plotOptions": {
        "customPlotOptions": {},
        "displayType": "table",
        "pivotAggregation": null,
        "pivotColumns": null,
        "xColumns": null,
        "yColumns": null
       },
       "removedWidgets": [],
       "schema": [
        {
         "metadata": "{}",
         "name": "id",
         "type": "\"long\""
        },
        {
         "metadata": "{}",
         "name": "orginal_seating",
         "type": "\"string\""
        },
        {
         "metadata": "{}",
         "name": "exchanged_seating",
         "type": "\"string\""
        }
       ],
       "type": "table"
      }
     },
     "output_type": "display_data"
    }
   ],
   "source": [
    "%sql\n",
    "\n",
    "select id,student as orginal_seating,\n",
    "case \n",
    " when id%2==1 then coalesce(lead(student,1) over (order by id),student)\n",
    " when id%2==0 then coalesce(lag(student,1) over (order by id), student)\n",
    " else student\n",
    "end as exchanged_seating\n",
    "from students"
   ]
  },
  {
   "cell_type": "markdown",
   "metadata": {
    "application/vnd.databricks.v1+cell": {
     "cellMetadata": {},
     "inputWidgets": {},
     "nuid": "e4e4106d-b5ce-4fe1-bdc6-52692e0da95b",
     "showTitle": false,
     "title": ""
    }
   },
   "source": [
    "##Using Spark SQL\n",
    "###Exchange the seat only for first 2 students:"
   ]
  },
  {
   "cell_type": "code",
   "execution_count": 0,
   "metadata": {
    "application/vnd.databricks.v1+cell": {
     "cellMetadata": {
      "byteLimit": 2048000,
      "implicitDf": true,
      "rowLimit": 10000
     },
     "inputWidgets": {},
     "nuid": "f5a48d9e-aa3e-4e54-a1ad-8f783edba21b",
     "showTitle": false,
     "title": ""
    }
   },
   "outputs": [
    {
     "output_type": "display_data",
     "data": {
      "text/html": [
       "<style scoped>\n",
       "  .table-result-container {\n",
       "    max-height: 300px;\n",
       "    overflow: auto;\n",
       "  }\n",
       "  table, th, td {\n",
       "    border: 1px solid black;\n",
       "    border-collapse: collapse;\n",
       "  }\n",
       "  th, td {\n",
       "    padding: 5px;\n",
       "  }\n",
       "  th {\n",
       "    text-align: left;\n",
       "  }\n",
       "</style><div class='table-result-container'><table class='table-result'><thead style='background-color: white'><tr><th>id</th><th>orginal_seating</th><th>exchanged_seating</th></tr></thead><tbody><tr><td>1</td><td>Alice</td><td>Bob</td></tr><tr><td>2</td><td>Bob</td><td>Alice</td></tr><tr><td>3</td><td>Charlie</td><td>David</td></tr><tr><td>4</td><td>David</td><td>Charlie</td></tr><tr><td>5</td><td>Eve</td><td>null</td></tr></tbody></table></div>"
      ]
     },
     "metadata": {
      "application/vnd.databricks.v1+output": {
       "addedWidgets": {},
       "aggData": [],
       "aggError": "",
       "aggOverflow": false,
       "aggSchema": [],
       "aggSeriesLimitReached": false,
       "aggType": "",
       "arguments": {},
       "columnCustomDisplayInfos": {},
       "data": [
        [
         1,
         "Alice",
         "Bob"
        ],
        [
         2,
         "Bob",
         "Alice"
        ],
        [
         3,
         "Charlie",
         "David"
        ],
        [
         4,
         "David",
         "Charlie"
        ],
        [
         5,
         "Eve",
         null
        ]
       ],
       "datasetInfos": [],
       "dbfsResultPath": null,
       "isJsonSchema": true,
       "metadata": {},
       "overflow": false,
       "plotOptions": {
        "customPlotOptions": {},
        "displayType": "table",
        "pivotAggregation": null,
        "pivotColumns": null,
        "xColumns": null,
        "yColumns": null
       },
       "removedWidgets": [],
       "schema": [
        {
         "metadata": "{}",
         "name": "id",
         "type": "\"long\""
        },
        {
         "metadata": "{}",
         "name": "orginal_seating",
         "type": "\"string\""
        },
        {
         "metadata": "{}",
         "name": "exchanged_seating",
         "type": "\"string\""
        }
       ],
       "type": "table"
      }
     },
     "output_type": "display_data"
    }
   ],
   "source": [
    "%sql\n",
    "\n",
    "select id,student as orginal_seating,\n",
    "case \n",
    " when id%2==1 then lead(student,1) over (order by id)\n",
    " when id%2==0 then lag(student,1) over (order by id)\n",
    " else student\n",
    "end as exchanged_seating\n",
    "from students"
   ]
  },
  {
   "cell_type": "markdown",
   "metadata": {
    "application/vnd.databricks.v1+cell": {
     "cellMetadata": {},
     "inputWidgets": {},
     "nuid": "8ad42c13-a24d-4c43-8073-42bfcd7b589a",
     "showTitle": false,
     "title": ""
    }
   },
   "source": [
    "#without using Window Function"
   ]
  },
  {
   "cell_type": "code",
   "execution_count": 0,
   "metadata": {
    "application/vnd.databricks.v1+cell": {
     "cellMetadata": {
      "byteLimit": 2048000,
      "implicitDf": true,
      "rowLimit": 10000
     },
     "inputWidgets": {},
     "nuid": "7b9019c1-e07a-4f15-b9bd-2d58a06a1870",
     "showTitle": false,
     "title": ""
    }
   },
   "outputs": [
    {
     "output_type": "display_data",
     "data": {
      "text/html": [
       "<style scoped>\n",
       "  .table-result-container {\n",
       "    max-height: 300px;\n",
       "    overflow: auto;\n",
       "  }\n",
       "  table, th, td {\n",
       "    border: 1px solid black;\n",
       "    border-collapse: collapse;\n",
       "  }\n",
       "  th, td {\n",
       "    padding: 5px;\n",
       "  }\n",
       "  th {\n",
       "    text-align: left;\n",
       "  }\n",
       "</style><div class='table-result-container'><table class='table-result'><thead style='background-color: white'><tr><th>id</th><th>student</th><th>next_student</th><th>prev_student</th></tr></thead><tbody><tr><td>1</td><td>Alice</td><td>Bob</td><td>null</td></tr><tr><td>2</td><td>Bob</td><td>Charlie</td><td>Alice</td></tr><tr><td>3</td><td>Charlie</td><td>David</td><td>Bob</td></tr><tr><td>4</td><td>David</td><td>Eve</td><td>Charlie</td></tr><tr><td>5</td><td>Eve</td><td>null</td><td>David</td></tr></tbody></table></div>"
      ]
     },
     "metadata": {
      "application/vnd.databricks.v1+output": {
       "addedWidgets": {},
       "aggData": [],
       "aggError": "",
       "aggOverflow": false,
       "aggSchema": [],
       "aggSeriesLimitReached": false,
       "aggType": "",
       "arguments": {},
       "columnCustomDisplayInfos": {},
       "data": [
        [
         1,
         "Alice",
         "Bob",
         null
        ],
        [
         2,
         "Bob",
         "Charlie",
         "Alice"
        ],
        [
         3,
         "Charlie",
         "David",
         "Bob"
        ],
        [
         4,
         "David",
         "Eve",
         "Charlie"
        ],
        [
         5,
         "Eve",
         null,
         "David"
        ]
       ],
       "datasetInfos": [],
       "dbfsResultPath": null,
       "isJsonSchema": true,
       "metadata": {},
       "overflow": false,
       "plotOptions": {
        "customPlotOptions": {},
        "displayType": "table",
        "pivotAggregation": null,
        "pivotColumns": null,
        "xColumns": null,
        "yColumns": null
       },
       "removedWidgets": [],
       "schema": [
        {
         "metadata": "{}",
         "name": "id",
         "type": "\"long\""
        },
        {
         "metadata": "{}",
         "name": "student",
         "type": "\"string\""
        },
        {
         "metadata": "{}",
         "name": "next_student",
         "type": "\"string\""
        },
        {
         "metadata": "{}",
         "name": "prev_student",
         "type": "\"string\""
        }
       ],
       "type": "table"
      }
     },
     "output_type": "display_data"
    }
   ],
   "source": [
    "%sql\n",
    "\n",
    "select s1.*, s2.student as next_student, s3.student as prev_student\n",
    "from students s1\n",
    "left join students s2 on s1.id=s2.id-1\n",
    "left join students s3 on s1.id=s3.id+1"
   ]
  }
 ],
 "metadata": {
  "application/vnd.databricks.v1+notebook": {
   "dashboards": [],
   "environmentMetadata": null,
   "language": "python",
   "notebookMetadata": {
    "mostRecentlyExecutedCommandWithImplicitDF": {
     "commandId": 1898283752917410,
     "dataframes": [
      "_sqldf"
     ]
    },
    "pythonIndentUnit": 4
   },
   "notebookName": "8. exchange_seat_of_students",
   "widgets": {}
  }
 },
 "nbformat": 4,
 "nbformat_minor": 0
}
