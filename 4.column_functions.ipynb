{
 "cells": [
  {
   "cell_type": "code",
   "execution_count": 0,
   "metadata": {
    "application/vnd.databricks.v1+cell": {
     "cellMetadata": {
      "byteLimit": 2048000,
      "rowLimit": 10000
     },
     "inputWidgets": {},
     "nuid": "e2c72371-990f-4fe3-8710-82c0b5fe7623",
     "showTitle": false,
     "title": ""
    }
   },
   "outputs": [],
   "source": [
    "#4.column_functions\n",
    "\n",
    "#different ways to apply built in or custom functions on column in dataframe using PySpark\n",
    "\n",
    "#by using withColumn(), sql(),select(),transform() you can apply a built-in function or custom function to a column"
   ]
  },
  {
   "cell_type": "code",
   "execution_count": 0,
   "metadata": {
    "application/vnd.databricks.v1+cell": {
     "cellMetadata": {
      "byteLimit": 2048000,
      "rowLimit": 10000
     },
     "inputWidgets": {},
     "nuid": "f026f859-08d5-45d7-9ed5-16bdf3f6501a",
     "showTitle": false,
     "title": ""
    }
   },
   "outputs": [],
   "source": [
    "data = [(1,'neeraj'),(2,'nitin')]\n",
    "schema = ['id','name']\n",
    "\n",
    "df = spark.createDataFrame(data,schema)"
   ]
  },
  {
   "cell_type": "code",
   "execution_count": 0,
   "metadata": {
    "application/vnd.databricks.v1+cell": {
     "cellMetadata": {
      "byteLimit": 2048000,
      "rowLimit": 10000
     },
     "inputWidgets": {},
     "nuid": "d0e8c68a-9340-4fc7-939c-5ee1c448212f",
     "showTitle": false,
     "title": ""
    }
   },
   "outputs": [
    {
     "output_type": "stream",
     "name": "stdout",
     "output_type": "stream",
     "text": [
      "+---+------+\n| id|  name|\n+---+------+\n|  1|NEERAJ|\n|  2| NITIN|\n+---+------+\n\n"
     ]
    }
   ],
   "source": [
    "from pyspark.sql.functions import upper\n",
    "\n",
    "df.withColumn(\"name\",upper(df.name)).show()"
   ]
  },
  {
   "cell_type": "code",
   "execution_count": 0,
   "metadata": {
    "application/vnd.databricks.v1+cell": {
     "cellMetadata": {
      "byteLimit": 2048000,
      "rowLimit": 10000
     },
     "inputWidgets": {},
     "nuid": "8f7aa9f6-9669-4fb4-b730-9b3b49e5ca65",
     "showTitle": false,
     "title": ""
    }
   },
   "outputs": [
    {
     "output_type": "stream",
     "name": "stdout",
     "output_type": "stream",
     "text": [
      "+---+------+\n| id|  name|\n+---+------+\n|  1|neeraj|\n|  2| nitin|\n+---+------+\n\n+---+-----------+\n| id|upper(name)|\n+---+-----------+\n|  1|     NEERAJ|\n|  2|      NITIN|\n+---+-----------+\n\n+---+------+\n| id|  name|\n+---+------+\n|  1|NEERAJ|\n|  2| NITIN|\n+---+------+\n\n"
     ]
    }
   ],
   "source": [
    "df.select(\"id\",\"name\").show()\n",
    "df.select(\"id\",upper(df.name)).show()\n",
    "df.select(\"id\",upper(df.name).alias(\"name\")).show()\n"
   ]
  },
  {
   "cell_type": "code",
   "execution_count": 0,
   "metadata": {
    "application/vnd.databricks.v1+cell": {
     "cellMetadata": {
      "byteLimit": 2048000,
      "rowLimit": 10000
     },
     "inputWidgets": {},
     "nuid": "57f26e4c-f4d3-4ed6-9dd3-22808b0ebe1c",
     "showTitle": false,
     "title": ""
    }
   },
   "outputs": [
    {
     "output_type": "stream",
     "name": "stdout",
     "output_type": "stream",
     "text": [
      "+---+------+\n| id|  name|\n+---+------+\n|  1|NEERAJ|\n|  2| NITIN|\n+---+------+\n\n"
     ]
    }
   ],
   "source": [
    "df.createOrReplaceTempView(\"persons\")\n",
    "spark.sql(\n",
    "    \"\"\"\n",
    "    select id,UPPER(name) as name\n",
    "    from persons\n",
    "    \"\"\"\n",
    ").show()"
   ]
  },
  {
   "cell_type": "code",
   "execution_count": 0,
   "metadata": {
    "application/vnd.databricks.v1+cell": {
     "cellMetadata": {
      "byteLimit": 2048000,
      "rowLimit": 10000
     },
     "inputWidgets": {},
     "nuid": "f05c0c2f-0dc3-4ac9-a082-bc3dde82799a",
     "showTitle": false,
     "title": ""
    }
   },
   "outputs": [
    {
     "output_type": "stream",
     "name": "stdout",
     "output_type": "stream",
     "text": [
      "+---+------+\n| id|  name|\n+---+------+\n|  1|NEERAJ|\n|  2| NITIN|\n+---+------+\n\n"
     ]
    }
   ],
   "source": [
    "#a custom function having logic of doing some transformation -- to apply on a dataframe:\n",
    "\n",
    "def upper_name_func(df):\n",
    "    return df.withColumn(\"name\",upper(df.name))\n",
    "\n",
    "df.transform(upper_name_func).show()"
   ]
  }
 ],
 "metadata": {
  "application/vnd.databricks.v1+notebook": {
   "dashboards": [],
   "environmentMetadata": null,
   "language": "python",
   "notebookMetadata": {
    "pythonIndentUnit": 4
   },
   "notebookName": "4.column_functions",
   "widgets": {}
  }
 },
 "nbformat": 4,
 "nbformat_minor": 0
}
