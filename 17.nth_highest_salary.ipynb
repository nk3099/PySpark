{
 "cells": [
  {
   "cell_type": "markdown",
   "metadata": {
    "application/vnd.databricks.v1+cell": {
     "cellMetadata": {},
     "inputWidgets": {},
     "nuid": "f676df10-96a9-4ec2-a51c-cd67c4d28295",
     "showTitle": false,
     "tableResultSettingsMap": {},
     "title": ""
    }
   },
   "source": [
    "Department wise nth highest salary employees"
   ]
  },
  {
   "cell_type": "code",
   "execution_count": 0,
   "metadata": {
    "application/vnd.databricks.v1+cell": {
     "cellMetadata": {
      "byteLimit": 2048000,
      "rowLimit": 10000
     },
     "inputWidgets": {},
     "nuid": "cc420e0a-64b4-40ac-9b01-b553afd75ffa",
     "showTitle": false,
     "tableResultSettingsMap": {},
     "title": ""
    }
   },
   "outputs": [
    {
     "output_type": "display_data",
     "data": {
      "text/html": [
       "<style scoped>\n",
       "  .table-result-container {\n",
       "    max-height: 300px;\n",
       "    overflow: auto;\n",
       "  }\n",
       "  table, th, td {\n",
       "    border: 1px solid black;\n",
       "    border-collapse: collapse;\n",
       "  }\n",
       "  th, td {\n",
       "    padding: 5px;\n",
       "  }\n",
       "  th {\n",
       "    text-align: left;\n",
       "  }\n",
       "</style><div class='table-result-container'><table class='table-result'><thead style='background-color: white'><tr><th>EmpId</th><th>EmpName</th><th>Salary</th><th>DeptName</th></tr></thead><tbody><tr><td>1</td><td>A</td><td>1000</td><td>IT</td></tr><tr><td>2</td><td>B</td><td>1500</td><td>IT</td></tr><tr><td>3</td><td>C</td><td>2500</td><td>IT</td></tr><tr><td>4</td><td>D</td><td>3000</td><td>HR</td></tr><tr><td>5</td><td>E</td><td>2000</td><td>HR</td></tr><tr><td>6</td><td>F</td><td>1000</td><td>HR</td></tr><tr><td>7</td><td>G</td><td>4000</td><td>Sales</td></tr><tr><td>8</td><td>H</td><td>4000</td><td>Sales</td></tr><tr><td>9</td><td>I</td><td>1000</td><td>Sales</td></tr><tr><td>10</td><td>J</td><td>2000</td><td>Sales</td></tr></tbody></table></div>"
      ]
     },
     "metadata": {
      "application/vnd.databricks.v1+output": {
       "addedWidgets": {},
       "aggData": [],
       "aggError": "",
       "aggOverflow": false,
       "aggSchema": [],
       "aggSeriesLimitReached": false,
       "aggType": "",
       "arguments": {},
       "columnCustomDisplayInfos": {},
       "data": [
        [
         1,
         "A",
         1000,
         "IT"
        ],
        [
         2,
         "B",
         1500,
         "IT"
        ],
        [
         3,
         "C",
         2500,
         "IT"
        ],
        [
         4,
         "D",
         3000,
         "HR"
        ],
        [
         5,
         "E",
         2000,
         "HR"
        ],
        [
         6,
         "F",
         1000,
         "HR"
        ],
        [
         7,
         "G",
         4000,
         "Sales"
        ],
        [
         8,
         "H",
         4000,
         "Sales"
        ],
        [
         9,
         "I",
         1000,
         "Sales"
        ],
        [
         10,
         "J",
         2000,
         "Sales"
        ]
       ],
       "datasetInfos": [],
       "dbfsResultPath": null,
       "isJsonSchema": true,
       "metadata": {},
       "overflow": false,
       "plotOptions": {
        "customPlotOptions": {},
        "displayType": "table",
        "pivotAggregation": null,
        "pivotColumns": null,
        "xColumns": null,
        "yColumns": null
       },
       "removedWidgets": [],
       "schema": [
        {
         "metadata": "{}",
         "name": "EmpId",
         "type": "\"long\""
        },
        {
         "metadata": "{}",
         "name": "EmpName",
         "type": "\"string\""
        },
        {
         "metadata": "{}",
         "name": "Salary",
         "type": "\"long\""
        },
        {
         "metadata": "{}",
         "name": "DeptName",
         "type": "\"string\""
        }
       ],
       "type": "table"
      }
     },
     "output_type": "display_data"
    }
   ],
   "source": [
    "datal = [\n",
    "    (1, \"A\", 1000, \"IT\"),\n",
    "    (2, \"B\", 1500, \"IT\"),\n",
    "    (3, \"C\", 2500, \"IT\"),\n",
    "    (4, \"D\", 3000, \"HR\"),\n",
    "    (5, \"E\", 2000, \"HR\"),\n",
    "    (6, \"F\", 1000, \"HR\"),\n",
    "    (7, \"G\", 4000, \"Sales\"),\n",
    "    (8, \"H\", 4000, \"Sales\"),\n",
    "    (9, \"I\", 1000, \"Sales\"),\n",
    "    (10, \"J\", 2000, \"Sales\")\n",
    "]\n",
    "\n",
    "schema1 = [\"EmpId\", \"EmpName\", \"Salary\", \"DeptName\"]\n",
    "\n",
    "df = spark.createDataFrame(datal, schema1)\n",
    "display(df)\n"
   ]
  },
  {
   "cell_type": "code",
   "execution_count": 0,
   "metadata": {
    "application/vnd.databricks.v1+cell": {
     "cellMetadata": {
      "byteLimit": 2048000,
      "rowLimit": 10000
     },
     "inputWidgets": {},
     "nuid": "e1255a3e-f520-4f10-a328-3178a644f06b",
     "showTitle": false,
     "tableResultSettingsMap": {},
     "title": ""
    }
   },
   "outputs": [
    {
     "output_type": "display_data",
     "data": {
      "text/html": [
       "<style scoped>\n",
       "  .table-result-container {\n",
       "    max-height: 300px;\n",
       "    overflow: auto;\n",
       "  }\n",
       "  table, th, td {\n",
       "    border: 1px solid black;\n",
       "    border-collapse: collapse;\n",
       "  }\n",
       "  th, td {\n",
       "    padding: 5px;\n",
       "  }\n",
       "  th {\n",
       "    text-align: left;\n",
       "  }\n",
       "</style><div class='table-result-container'><table class='table-result'><thead style='background-color: white'><tr><th>EmpId</th><th>EmpName</th><th>Salary</th><th>DeptName</th><th>rank</th></tr></thead><tbody><tr><td>4</td><td>D</td><td>3000</td><td>HR</td><td>1</td></tr><tr><td>5</td><td>E</td><td>2000</td><td>HR</td><td>2</td></tr><tr><td>6</td><td>F</td><td>1000</td><td>HR</td><td>3</td></tr><tr><td>3</td><td>C</td><td>2500</td><td>IT</td><td>1</td></tr><tr><td>2</td><td>B</td><td>1500</td><td>IT</td><td>2</td></tr><tr><td>1</td><td>A</td><td>1000</td><td>IT</td><td>3</td></tr><tr><td>7</td><td>G</td><td>4000</td><td>Sales</td><td>1</td></tr><tr><td>8</td><td>H</td><td>4000</td><td>Sales</td><td>1</td></tr><tr><td>10</td><td>J</td><td>2000</td><td>Sales</td><td>2</td></tr><tr><td>9</td><td>I</td><td>1000</td><td>Sales</td><td>3</td></tr></tbody></table></div>"
      ]
     },
     "metadata": {
      "application/vnd.databricks.v1+output": {
       "addedWidgets": {},
       "aggData": [],
       "aggError": "",
       "aggOverflow": false,
       "aggSchema": [],
       "aggSeriesLimitReached": false,
       "aggType": "",
       "arguments": {},
       "columnCustomDisplayInfos": {},
       "data": [
        [
         4,
         "D",
         3000,
         "HR",
         1
        ],
        [
         5,
         "E",
         2000,
         "HR",
         2
        ],
        [
         6,
         "F",
         1000,
         "HR",
         3
        ],
        [
         3,
         "C",
         2500,
         "IT",
         1
        ],
        [
         2,
         "B",
         1500,
         "IT",
         2
        ],
        [
         1,
         "A",
         1000,
         "IT",
         3
        ],
        [
         7,
         "G",
         4000,
         "Sales",
         1
        ],
        [
         8,
         "H",
         4000,
         "Sales",
         1
        ],
        [
         10,
         "J",
         2000,
         "Sales",
         2
        ],
        [
         9,
         "I",
         1000,
         "Sales",
         3
        ]
       ],
       "datasetInfos": [],
       "dbfsResultPath": null,
       "isJsonSchema": true,
       "metadata": {},
       "overflow": false,
       "plotOptions": {
        "customPlotOptions": {},
        "displayType": "table",
        "pivotAggregation": null,
        "pivotColumns": null,
        "xColumns": null,
        "yColumns": null
       },
       "removedWidgets": [],
       "schema": [
        {
         "metadata": "{}",
         "name": "EmpId",
         "type": "\"long\""
        },
        {
         "metadata": "{}",
         "name": "EmpName",
         "type": "\"string\""
        },
        {
         "metadata": "{}",
         "name": "Salary",
         "type": "\"long\""
        },
        {
         "metadata": "{}",
         "name": "DeptName",
         "type": "\"string\""
        },
        {
         "metadata": "{}",
         "name": "rank",
         "type": "\"integer\""
        }
       ],
       "type": "table"
      }
     },
     "output_type": "display_data"
    }
   ],
   "source": [
    "from pyspark.sql.functions import *\n",
    "from pyspark.sql.window import Window\n",
    "\n",
    "#windowSpec = Window.partitionBy(df.DeptName).orderBy(df.Salary.desc())\n",
    "windowSpec = Window.partitionBy(\"DeptName\").orderBy(desc(\"Salary\"))\n",
    "\n",
    "result_df = df.withColumn(\"rank\",dense_rank().over(windowSpec))\n",
    "\n",
    "display(result_df)"
   ]
  },
  {
   "cell_type": "code",
   "execution_count": 0,
   "metadata": {
    "application/vnd.databricks.v1+cell": {
     "cellMetadata": {
      "byteLimit": 2048000,
      "rowLimit": 10000
     },
     "inputWidgets": {},
     "nuid": "267ebb6d-6654-4431-91c4-67ac9da41106",
     "showTitle": false,
     "tableResultSettingsMap": {},
     "title": ""
    }
   },
   "outputs": [
    {
     "output_type": "display_data",
     "data": {
      "text/html": [
       "<style scoped>\n",
       "  .table-result-container {\n",
       "    max-height: 300px;\n",
       "    overflow: auto;\n",
       "  }\n",
       "  table, th, td {\n",
       "    border: 1px solid black;\n",
       "    border-collapse: collapse;\n",
       "  }\n",
       "  th, td {\n",
       "    padding: 5px;\n",
       "  }\n",
       "  th {\n",
       "    text-align: left;\n",
       "  }\n",
       "</style><div class='table-result-container'><table class='table-result'><thead style='background-color: white'><tr><th>EmpId</th><th>EmpName</th><th>Salary</th><th>DeptName</th><th>rank</th></tr></thead><tbody><tr><td>4</td><td>D</td><td>3000</td><td>HR</td><td>1</td></tr><tr><td>3</td><td>C</td><td>2500</td><td>IT</td><td>1</td></tr><tr><td>7</td><td>G</td><td>4000</td><td>Sales</td><td>1</td></tr><tr><td>8</td><td>H</td><td>4000</td><td>Sales</td><td>1</td></tr></tbody></table></div>"
      ]
     },
     "metadata": {
      "application/vnd.databricks.v1+output": {
       "addedWidgets": {},
       "aggData": [],
       "aggError": "",
       "aggOverflow": false,
       "aggSchema": [],
       "aggSeriesLimitReached": false,
       "aggType": "",
       "arguments": {},
       "columnCustomDisplayInfos": {},
       "data": [
        [
         4,
         "D",
         3000,
         "HR",
         1
        ],
        [
         3,
         "C",
         2500,
         "IT",
         1
        ],
        [
         7,
         "G",
         4000,
         "Sales",
         1
        ],
        [
         8,
         "H",
         4000,
         "Sales",
         1
        ]
       ],
       "datasetInfos": [],
       "dbfsResultPath": null,
       "isJsonSchema": true,
       "metadata": {},
       "overflow": false,
       "plotOptions": {
        "customPlotOptions": {},
        "displayType": "table",
        "pivotAggregation": null,
        "pivotColumns": null,
        "xColumns": null,
        "yColumns": null
       },
       "removedWidgets": [],
       "schema": [
        {
         "metadata": "{}",
         "name": "EmpId",
         "type": "\"long\""
        },
        {
         "metadata": "{}",
         "name": "EmpName",
         "type": "\"string\""
        },
        {
         "metadata": "{}",
         "name": "Salary",
         "type": "\"long\""
        },
        {
         "metadata": "{}",
         "name": "DeptName",
         "type": "\"string\""
        },
        {
         "metadata": "{}",
         "name": "rank",
         "type": "\"integer\""
        }
       ],
       "type": "table"
      }
     },
     "output_type": "display_data"
    }
   ],
   "source": [
    "#highest salary\n",
    "df_rank = result_df.filter(result_df.rank==1)\n",
    "\n",
    "display(df_rank)"
   ]
  },
  {
   "cell_type": "code",
   "execution_count": 0,
   "metadata": {
    "application/vnd.databricks.v1+cell": {
     "cellMetadata": {},
     "inputWidgets": {},
     "nuid": "ffff931a-7b35-4042-b599-071e317dbdeb",
     "showTitle": false,
     "tableResultSettingsMap": {},
     "title": ""
    }
   },
   "outputs": [],
   "source": []
  }
 ],
 "metadata": {
  "application/vnd.databricks.v1+notebook": {
   "dashboards": [],
   "environmentMetadata": null,
   "language": "python",
   "notebookMetadata": {
    "pythonIndentUnit": 4
   },
   "notebookName": "17.nth_highest_salary",
   "widgets": {}
  }
 },
 "nbformat": 4,
 "nbformat_minor": 0
}
